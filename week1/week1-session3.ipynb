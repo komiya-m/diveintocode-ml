{
 "cells": [
  {
   "cell_type": "markdown",
   "metadata": {},
   "source": [
    "# 1.この課題の目的\n",
    "基礎的なプログラミング方法を確認する。  \n",
    "調べながら進める習慣をつける"
   ]
  },
  {
   "cell_type": "markdown",
   "metadata": {},
   "source": [
    "# 2.栗まんじゅう問題\n",
    "漫画ドラえもんには「バイバイン」という道具が登場する、2のn乗に関する有名なエピソード[1]があります。  \n",
    "\n",
    "[1] 藤子・Ｆ・不二雄(1979)『ドラえもん（１７）』小学館.  \n",
    "\n",
    "「バイバイン」は薬品で、これを振掛けるとその物体は5分ごとに倍に増えるという働きがあります。  \n",
    "作中では栗まんじゅうを増やしますが、食べきれなくなったためロケットを使い宇宙に捨てました。  \n",
    "\n",
    "ここで度々話題になるのが、栗まんじゅうはその後宇宙でどのように増えていくのかについてです。  \n",
    "様々な議論がされていますが、今回は単純に栗まんじゅうの体積がどう増えるかを計算してみましょう。"
   ]
  },
  {
   "cell_type": "markdown",
   "metadata": {},
   "source": [
    "## 【課題】栗まんじゅうが太陽系を覆う日\n",
    "1個の栗まんじゅうにバイバインを振りかけた場合、太陽系が栗まんじゅうで覆われるのは何分後でしょうか。  \n",
    "これを計算するプログラムを作成してください。  \n",
    "\n",
    "栗まんじゅうや太陽系の体積を調査した上で仮定して計算してください。  \n",
    "栗まんじゅうの隙間や重力などは考えず、問題を単純化して構いません。  \n",
    " \n",
    "ボールにバイバインを振りかけた時、東京ドームが一杯になる時間など他の状況にも適用できるような  \n",
    "汎用的なプログラムを作成してください。また、グラフを表示するなど分かりやすいノートブックを作成してください。"
   ]
  },
  {
   "cell_type": "markdown",
   "metadata": {},
   "source": [
    "#### ⑴栗まんじゅうの体積について\n",
    "\n",
    "https://www.suya-honke.co.jp/products/detail.php?product_id=31  \n",
    "大きさ(1コ) : 60mm × 40mm × 30mm"
   ]
  },
  {
   "cell_type": "code",
   "execution_count": 7,
   "metadata": {},
   "outputs": [],
   "source": [
    "kuriman_m3 = (60/1000) * (40/1000) * (30/1000) #M3を計算"
   ]
  },
  {
   "cell_type": "code",
   "execution_count": 8,
   "metadata": {},
   "outputs": [
    {
     "data": {
      "text/plain": [
       "7.199999999999999e-05"
      ]
     },
     "execution_count": 8,
     "metadata": {},
     "output_type": "execute_result"
    }
   ],
   "source": [
    "kuriman_m3"
   ]
  },
  {
   "cell_type": "markdown",
   "metadata": {},
   "source": [
    "#### ⑵太陽系の体積について\n",
    "\n",
    "https://again.lunaclear.com/knowledge/science/t58/  \n",
    "太陽系の半径は約14～15兆km程度らしいので、１５兆kmと仮定します。  \n",
    "太陽系は球体とし、体積を出します。\n",
    "\n",
    "$v= \\frac{4}{3}πr^3 $"
   ]
  },
  {
   "cell_type": "code",
   "execution_count": 37,
   "metadata": {},
   "outputs": [],
   "source": [
    "import math\n",
    "\n",
    "pi = math.pi\n",
    "r = 15 * 10**12 *1000 #半径をメートルに変換  \n",
    "solar_system_m3 = 4 / 3 * pi * r**3"
   ]
  },
  {
   "cell_type": "code",
   "execution_count": 39,
   "metadata": {},
   "outputs": [
    {
     "data": {
      "text/plain": [
       "1.413716694115407e+49"
      ]
     },
     "execution_count": 39,
     "metadata": {},
     "output_type": "execute_result"
    }
   ],
   "source": [
    "solar_system_m3"
   ]
  },
  {
   "cell_type": "markdown",
   "metadata": {},
   "source": [
    "#### ⑶覆い尽くす時間を計算"
   ]
  },
  {
   "cell_type": "code",
   "execution_count": 72,
   "metadata": {},
   "outputs": [
    {
     "name": "stdout",
     "output_type": "stream",
     "text": [
      "栗まんじゅうが対象を覆い尽くすのは890分後です\n"
     ]
    }
   ],
   "source": [
    "def measure_the_filling_time(volume):\n",
    "    #５分ごとに倍に増える栗まんじゅうが引数（m３）を超える時間を表示する関数です\n",
    "    \n",
    "    kuriman_m3 = (60/1000) * (40/1000) * (30/1000) #栗まんじゅうのM3を計算\n",
    "    total_kuriman_m3 = kuriman_m3\n",
    "    minute = 0\n",
    "    \n",
    "    while volume > total_kuriman_m3: #引数を超えると終了する\n",
    "        total_kuriman_m3 *= 2\n",
    "        minute += 5\n",
    "\n",
    "    print(\"栗まんじゅうが対象を覆い尽くすのは\" + str(minute) + \"分後です\")\n",
    "\n",
    "measure_the_filling_time(solar_system_m3)"
   ]
  }
 ],
 "metadata": {
  "kernelspec": {
   "display_name": "Python 3",
   "language": "python",
   "name": "python3"
  },
  "language_info": {
   "codemirror_mode": {
    "name": "ipython",
    "version": 3
   },
   "file_extension": ".py",
   "mimetype": "text/x-python",
   "name": "python",
   "nbconvert_exporter": "python",
   "pygments_lexer": "ipython3",
   "version": "3.6.8"
  }
 },
 "nbformat": 4,
 "nbformat_minor": 2
}
