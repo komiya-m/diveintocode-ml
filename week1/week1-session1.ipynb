{
 "cells": [
  {
   "cell_type": "markdown",
   "metadata": {},
   "source": [
    "# 曽呂利新左衛門問題"
   ]
  },
  {
   "cell_type": "markdown",
   "metadata": {},
   "source": [
    "## 【課題】100日後の米粒の数"
   ]
  },
  {
   "cell_type": "code",
   "execution_count": 116,
   "metadata": {},
   "outputs": [
    {
     "data": {
      "text/plain": [
       "<matplotlib.legend.Legend at 0x11918dd30>"
      ]
     },
     "execution_count": 116,
     "metadata": {},
     "output_type": "execute_result"
    },
    {
     "data": {
      "image/png": "[encoded data removed]",
      "text/plain": [
       "<Figure size 432x288 with 1 Axes>"
      ]
     },
     "metadata": {
      "needs_background": "light"
     },
     "output_type": "display_data"
    }
   ],
   "source": [
    "import matplotlib.pyplot as plt\n",
    "%matplotlib inline\n",
    "\n",
    "rice_count = 1\n",
    "rice_lists = [rice_count]\n",
    "total_rice_lists = [rice_count] \n",
    "\n",
    "for _ in range(99):\n",
    "    rice_count *= 2\n",
    "    rice_lists.append(rice_count)\n",
    "    total_rice_lists.append(sum(rice_lists))\n",
    "\n",
    "    \n",
    "plt.title(\"rice grain trend\")\n",
    "plt.xlabel(\"days\")\n",
    "plt.ylabel(\"rice grain\")\n",
    "plt.plot(rice_lists, color='green',linestyle=':', label=\"daily\")\n",
    "plt.plot(total_rice_lists, color='red', label=\"total\")\n",
    "plt.legend()"
   ]
  },
  {
   "cell_type": "markdown",
   "metadata": {},
   "source": [
    "## 【課題】100日後以外の米粒の数"
   ]
  },
  {
   "cell_type": "code",
   "execution_count": 107,
   "metadata": {},
   "outputs": [
    {
     "data": {
      "text/plain": [
       "<matplotlib.legend.Legend at 0x118a94160>"
      ]
     },
     "execution_count": 107,
     "metadata": {},
     "output_type": "execute_result"
    },
    {
     "data": {
      "image/png": "[encoded data removed]",
      "text/plain": [
       "<Figure size 432x288 with 1 Axes>"
      ]
     },
     "metadata": {
      "needs_background": "light"
     },
     "output_type": "display_data"
    }
   ],
   "source": [
    "import matplotlib.pyplot as plt\n",
    "%matplotlib inline\n",
    "\n",
    "def compute_sorori_shinzaemon(day=100):\n",
    "    \"\"\"\n",
    "    曽呂利新左衛門の米の逸話を検証する関数。日にちごとの米の粒の数を計算する。\n",
    "\n",
    "    Parameteres\n",
    "    --------------\n",
    "    day: int\n",
    "        米を貰う日数 (default : 100)\n",
    "    grains:int\n",
    "        ある日にもらう米の数\n",
    "\n",
    "    Returns\n",
    "    --------------\n",
    "    list_n_grains : list\n",
    "        ある日に貰う米の数のリスト（リストの長さはdayに等しくなる）\n",
    "    list_total_grains : list\n",
    "        ある日までに累計で貰う米の数のリスト（リストの長さはdayに等しくなる）\n",
    "    \"\"\"\n",
    "    \n",
    "    grains = 1\n",
    "    list_n_grains = [grains]\n",
    "    list_total_grains = [grains]\n",
    "    \n",
    "    # 日数が1日未満だった場合の処理\n",
    "    if day < 1:\n",
    "        none_list = []\n",
    "        return none_list, none_list\n",
    "    \n",
    "    \n",
    "    for _ in range(day-1):\n",
    "        grains *= 2\n",
    "        list_n_grains.append(grains)\n",
    "        list_total_grains.append(sum(list_n_grains))\n",
    "\n",
    "    return list_n_grains, list_total_grains\n",
    "\n",
    "\n",
    "list_n_grains, list_total_grains = compute_sorori_shinzaemon(day=116)\n",
    "\n",
    "plt.title(\"rice grain trend\")\n",
    "plt.xlabel(\"days\")\n",
    "plt.ylabel(\"rice_grains\")\n",
    "plt.plot(list_n_grains, color='green',linestyle=':', label=\"daily\")\n",
    "plt.plot(list_total_grains, color='red', label=\"total\")\n",
    "plt.legend()"
   ]
  },
  {
   "cell_type": "code",
   "execution_count": 97,
   "metadata": {},
   "outputs": [
    {
     "name": "stdout",
     "output_type": "stream",
     "text": [
      "受講期間中の１１６日間にもらえる米粒の数は、83076749736557242056487941267521535 個です。\n"
     ]
    }
   ],
   "source": [
    "print(\"受講期間中の１１６日間にもらえる米粒の数は、{} 個です。\".format(list_total_grains[-1]))"
   ]
  },
  {
   "cell_type": "markdown",
   "metadata": {},
   "source": [
    "## 【課題】何人が何日生活できる米か"
   ]
  },
  {
   "cell_type": "code",
   "execution_count": 106,
   "metadata": {},
   "outputs": [
    {
     "name": "stdout",
     "output_type": "stream",
     "text": [
      "生きられる日数は961536455284227290870262530048日です。\n"
     ]
    }
   ],
   "source": [
    "def days_can_we_live(total_grains, number_of_people):\n",
    "    \"\"\"\n",
    "    何人が何日生活できるか米か求める関数\n",
    "    \n",
    "    Parameteres\n",
    "    ----------------\n",
    "    total_grains:int\n",
    "        米粒の総数\n",
    "    number_of_people:int\n",
    "        人数\n",
    "    consumption_of_rice_per_day:int\n",
    "        １人あたりの1日の米の消費量\n",
    "        一杯（3200粒）×３食　= 9600\n",
    "        茶碗一杯の米粒数はlネット調べ\n",
    "    \n",
    "    Returns\n",
    "    ----------------\n",
    "    days_to_live:int\n",
    "        生活できる日数\n",
    "    \n",
    "    \"\"\"\n",
    "    consumption_of_rice_per_day = 9600\n",
    "    days_to_live = total_grains / (number_of_people*consumption_of_rice_per_day)\n",
    "    return days_to_live\n",
    "\n",
    "hoge = days_can_we_live(list_total_grains[-1],9)\n",
    "print(\"生きられる日数は{}日です。\".format(int(hoge))) #小数点以下切り捨て"
   ]
  }
 ],
 "metadata": {
  "kernelspec": {
   "display_name": "Python 3",
   "language": "python",
   "name": "python3"
  },
  "language_info": {
   "codemirror_mode": {
    "name": "ipython",
    "version": 3
   },
   "file_extension": ".py",
   "mimetype": "text/x-python",
   "name": "python",
   "nbconvert_exporter": "python",
   "pygments_lexer": "ipython3",
   "version": "3.6.8"
  }
 },
 "nbformat": 4,
 "nbformat_minor": 2
}
