{
 "cells": [
  {
   "cell_type": "markdown",
   "metadata": {},
   "source": [
    "# 何回折ったら富士山を超えるか問題"
   ]
  },
  {
   "cell_type": "markdown",
   "metadata": {},
   "source": [
    "## 【課題】富士山を超える最小の折る回数"
   ]
  },
  {
   "cell_type": "code",
   "execution_count": 5,
   "metadata": {},
   "outputs": [
    {
     "name": "stdout",
     "output_type": "stream",
     "text": [
      "26\n"
     ]
    }
   ],
   "source": [
    "thickness = 0.00008\n",
    "folded_thickness = thickness\n",
    "fuzi = 3776\n",
    "count = 0\n",
    "\n",
    "while fuzi >= folded_thickness:\n",
    "    folded_thickness *= 2\n",
    "    count += 1\n",
    "\n",
    "print(count)"
   ]
  },
  {
   "cell_type": "markdown",
   "metadata": {},
   "source": [
    "## 【課題】任意の厚さに対応した関数を作成"
   ]
  },
  {
   "cell_type": "code",
   "execution_count": 11,
   "metadata": {},
   "outputs": [],
   "source": [
    "def beyond_everything(distance, t_0):\n",
    "    \"\"\"\n",
    "    紙を何回折ったら入力された距離を超えるか求める関数\n",
    "    \n",
    "    Parameters\n",
    "    ---------------\n",
    "    t_0:int\n",
    "        紙の厚さ\n",
    "    t_1:int\n",
    "        折った紙の厚さ\n",
    "    distance:int\n",
    "        距離\n",
    "    \n",
    "    Returns\n",
    "    ---------------\n",
    "    count:int\n",
    "        折った回数\n",
    "        初期値０\n",
    "    \n",
    "    \"\"\"\n",
    "    \n",
    "    count = 0\n",
    "    t_1 = t_0\n",
    "    \n",
    "    while distance >= t_1:\n",
    "        t_1 *= 2\n",
    "        count += 1\n",
    "    return count"
   ]
  },
  {
   "cell_type": "code",
   "execution_count": 10,
   "metadata": {},
   "outputs": [
    {
     "data": {
      "text/plain": [
       "69"
      ]
     },
     "execution_count": 10,
     "metadata": {},
     "output_type": "execute_result"
    }
   ],
   "source": [
    "#最も近い太陽以外の恒星はプロキシマ・ケンタウリ、その距離は4.243光年\n",
    "#光年をメートルに換算\n",
    "distance = 4.243 * 9.461e+15\n",
    "beyond_everything(distance, 0.00008)"
   ]
  },
  {
   "cell_type": "markdown",
   "metadata": {},
   "source": [
    "## 【課題】必要な紙の長さ"
   ]
  },
  {
   "cell_type": "code",
   "execution_count": 17,
   "metadata": {},
   "outputs": [
    {
     "data": {
      "text/plain": [
       "18.84955592153876"
      ]
     },
     "execution_count": 17,
     "metadata": {},
     "output_type": "execute_result"
    }
   ],
   "source": [
    "import math\n",
    "\n",
    "def required_paper_length(distance, t_0):\n",
    "    \"\"\"\n",
    "    任意の厚さに到達する為に必要な紙の長さを求める関数\n",
    "    \n",
    "    Parameters\n",
    "    ---------------\n",
    "    t_0:int\n",
    "        紙の厚さ\n",
    "    distance:int\n",
    "        距離\n",
    "    n:int\n",
    "        折った回数\n",
    "        \n",
    "    Returns\n",
    "    ---------------\n",
    "    paper_length:int\n",
    "        紙の長さ\n",
    "        \n",
    "    \"\"\"\n",
    "    n = beyond_everything(distance, t_0)\n",
    "    paper_length = (math.pi * t_0 / 6) * (2**n + 4) * (2**n - 1)\n",
    "    return paper_length\n",
    "\n",
    "required_paper_length(10,6)"
   ]
  },
  {
   "cell_type": "code",
   "execution_count": 21,
   "metadata": {},
   "outputs": [
    {
     "name": "stdout",
     "output_type": "stream",
     "text": [
      "1.2659841578856879e+20\n",
      "29476001174.88586\n",
      "2.280594312671929e+36\n"
     ]
    }
   ],
   "source": [
    "#「月」に届くための必要な紙の長さ\n",
    "print(required_paper_length(384400000, 0.0008))\n",
    "\n",
    "#「富士山」に届くための必要な紙の長さ\n",
    "print(required_paper_length(3776, 0.0008))\n",
    "\n",
    "#もっとも近い太陽以外の恒星「プロキシマ・ケンタウリ」に届くための必要な紙の長さ\n",
    "print(required_paper_length(4.243 * 9.461e+15, 0.0008))"
   ]
  }
 ],
 "metadata": {
  "kernelspec": {
   "display_name": "Python 3",
   "language": "python",
   "name": "python3"
  },
  "language_info": {
   "codemirror_mode": {
    "name": "ipython",
    "version": 3
   },
   "file_extension": ".py",
   "mimetype": "text/x-python",
   "name": "python",
   "nbconvert_exporter": "python",
   "pygments_lexer": "ipython3",
   "version": "3.6.8"
  }
 },
 "nbformat": 4,
 "nbformat_minor": 2
}
