{
 "cells": [
  {
   "cell_type": "markdown",
   "metadata": {},
   "source": [
    "# 1.この課題の目的\n",
    "pyファイルを扱うことに慣れる\n",
    "機械学習スクラッチの準備をする"
   ]
  },
  {
   "cell_type": "markdown",
   "metadata": {},
   "source": [
    "## スクラッチの意義\n",
    "ここでのスクラッチとは、NumPyなどの基本的なライブラリを組み合わせることで、scikit-learnのような応用的なライブラリと同じ機能のクラス・関数を自作することを指します。"
   ]
  },
  {
   "cell_type": "markdown",
   "metadata": {},
   "source": [
    "## pyファイルの実行"
   ]
  },
  {
   "cell_type": "code",
   "execution_count": 1,
   "metadata": {},
   "outputs": [
    {
     "name": "stdout",
     "output_type": "stream",
     "text": [
      "Hello, World!\n"
     ]
    }
   ],
   "source": [
    "%run hello.py"
   ]
  },
  {
   "cell_type": "markdown",
   "metadata": {},
   "source": [
    "## argparserを利用"
   ]
  },
  {
   "cell_type": "code",
   "execution_count": 2,
   "metadata": {},
   "outputs": [
    {
     "name": "stdout",
     "output_type": "stream",
     "text": [
      "Hello, World!\n",
      "RESULT : 102.4\n"
     ]
    }
   ],
   "source": [
    "%run hello_argparse.py"
   ]
  },
  {
   "cell_type": "code",
   "execution_count": 3,
   "metadata": {},
   "outputs": [
    {
     "name": "stdout",
     "output_type": "stream",
     "text": [
      "Hello, argparse!\n",
      "1.2\n",
      "2.4\n",
      "4.8\n",
      "9.6\n",
      "19.2\n",
      "38.4\n",
      "76.8\n",
      "RESULT : 76.8\n"
     ]
    }
   ],
   "source": [
    "%run hello_argparse.py --display --alpha 0.6 --text \"Hello, argparse!\" --num_iters 7"
   ]
  },
  {
   "cell_type": "markdown",
   "metadata": {},
   "source": [
    "## 【問題1】train_test_splitのスクラッチ\n",
    "\n"
   ]
  },
  {
   "cell_type": "markdown",
   "metadata": {},
   "source": [
    "テストの重要性\n",
    "\n",
    "scikit-learnのtrain_test_splitと同じ動作をしているか必ずテストをするようにしましょう。\n",
    "\n",
    "ライブラリが存在するものをスクラッチする学習方法は動作の正しさを確認しやすいという利点があります。"
   ]
  },
  {
   "cell_type": "code",
   "execution_count": 6,
   "metadata": {},
   "outputs": [],
   "source": [
    "import numpy as np\n",
    "import pandas as pd\n",
    "#from sklearn.model_selection import train_test_split\n",
    "from sklearn.datasets import load_iris"
   ]
  },
  {
   "cell_type": "code",
   "execution_count": 5,
   "metadata": {},
   "outputs": [],
   "source": [
    "iris = load_iris()\n",
    "df = pd.DataFrame(iris.data, columns=iris.feature_names)\n",
    "array_y = iris.target\n",
    "df_train = df.copy()\n",
    "df_train[\"TARGET\"] = array_y\n",
    "df_train = df_train[df_train[\"TARGET\"] >= 1]"
   ]
  },
  {
   "cell_type": "code",
   "execution_count": 6,
   "metadata": {},
   "outputs": [
    {
     "ename": "IndentationError",
     "evalue": "unexpected indent (<ipython-input-6-d90b8eb7bd97>, line 2)",
     "output_type": "error",
     "traceback": [
      "\u001b[0;36m  File \u001b[0;32m\"<ipython-input-6-d90b8eb7bd97>\"\u001b[0;36m, line \u001b[0;32m2\u001b[0m\n\u001b[0;31m    \"\"\"\u001b[0m\n\u001b[0m    ^\u001b[0m\n\u001b[0;31mIndentationError\u001b[0m\u001b[0;31m:\u001b[0m unexpected indent\n"
     ]
    }
   ],
   "source": [
    "#def train_test_split(X, y, train_size=0.8, ):\n",
    "    \"\"\"\n",
    "    学習用データを分割する。\n",
    "\n",
    "    Parameters\n",
    "    ----------\n",
    "    X : 次の形のndarray, shape (n_samples, n_features)\n",
    "      学習データ\n",
    "    y : 次の形のndarray, shape (n_samples, )\n",
    "      正解値\n",
    "    train_size : float (0<train_size<1)\n",
    "      何割をtrainとするか指定\n",
    "\n",
    "    Returns\n",
    "    ----------\n",
    "    X_train : 次の形のndarray, shape (n_samples, n_features)\n",
    "      学習データ\n",
    "    X_test : 次の形のndarray, shape (n_samples, n_features)\n",
    "      検証データ\n",
    "    y_train : 次の形のndarray, shape (n_samples, )\n",
    "      学習データの正解値\n",
    "    y_test : 次の形のndarray, shape (n_samples, )\n",
    "      検証データの正解値\n",
    "    \"\"\"\n",
    "    import numpy as np\n",
    "\n",
    "    m = len(y)  # インデックス数\n",
    "    train_num = int(m * train_size)  # トレインデータのスプリット後のインデックス数\n",
    "    i = np.random.permutation(m)  # シャッフルするためのインデックス番号のarray\n",
    "    X_train = X[i][:train_num]\n",
    "    X_test = X[i][train_num:]\n",
    "    y_train = y[i][:train_num]\n",
    "    y_test = y[i][train_num:]\n",
    "\n",
    "    return X_train, X_test, y_train, y_test\n"
   ]
  },
  {
   "cell_type": "code",
   "execution_count": 6,
   "metadata": {},
   "outputs": [],
   "source": [
    "import sys\n",
    "sys.path.append(\"/Users/morio/diveintocode-ml/ml-scratch\")"
   ]
  },
  {
   "cell_type": "code",
   "execution_count": 7,
   "metadata": {},
   "outputs": [],
   "source": [
    "from utils.split import train_test_split1"
   ]
  },
  {
   "cell_type": "code",
   "execution_count": 8,
   "metadata": {},
   "outputs": [],
   "source": [
    "df[\"index\"] = np.arange(len(df))"
   ]
  },
  {
   "cell_type": "code",
   "execution_count": 9,
   "metadata": {},
   "outputs": [],
   "source": [
    "X_train, X_test, y_train, y_test = train_test_split1(df.iloc[:10,:].values, np.arange(10))"
   ]
  },
  {
   "cell_type": "code",
   "execution_count": 10,
   "metadata": {},
   "outputs": [
    {
     "data": {
      "text/plain": [
       "array([[4.4, 2.9, 1.4, 0.2, 8. ],\n",
       "       [5. , 3.6, 1.4, 0.2, 4. ],\n",
       "       [5. , 3.4, 1.5, 0.2, 7. ],\n",
       "       [5.4, 3.9, 1.7, 0.4, 5. ],\n",
       "       [4.6, 3.1, 1.5, 0.2, 3. ],\n",
       "       [5.1, 3.5, 1.4, 0.2, 0. ],\n",
       "       [4.6, 3.4, 1.4, 0.3, 6. ],\n",
       "       [4.7, 3.2, 1.3, 0.2, 2. ]])"
      ]
     },
     "execution_count": 10,
     "metadata": {},
     "output_type": "execute_result"
    }
   ],
   "source": [
    "X_train"
   ]
  },
  {
   "cell_type": "code",
   "execution_count": 11,
   "metadata": {},
   "outputs": [
    {
     "data": {
      "text/plain": [
       "array([8, 4, 7, 5, 3, 0, 6, 2])"
      ]
     },
     "execution_count": 11,
     "metadata": {},
     "output_type": "execute_result"
    }
   ],
   "source": [
    "y_train#これが前のデータフレームのインデックスです"
   ]
  },
  {
   "cell_type": "code",
   "execution_count": 12,
   "metadata": {},
   "outputs": [
    {
     "data": {
      "text/html": [
       "<div>\n",
       "<style scoped>\n",
       "    .dataframe tbody tr th:only-of-type {\n",
       "        vertical-align: middle;\n",
       "    }\n",
       "\n",
       "    .dataframe tbody tr th {\n",
       "        vertical-align: top;\n",
       "    }\n",
       "\n",
       "    .dataframe thead th {\n",
       "        text-align: right;\n",
       "    }\n",
       "</style>\n",
       "<table border=\"1\" class=\"dataframe\">\n",
       "  <thead>\n",
       "    <tr style=\"text-align: right;\">\n",
       "      <th></th>\n",
       "      <th>sepal length (cm)</th>\n",
       "      <th>sepal width (cm)</th>\n",
       "      <th>petal length (cm)</th>\n",
       "      <th>petal width (cm)</th>\n",
       "      <th>index</th>\n",
       "    </tr>\n",
       "  </thead>\n",
       "  <tbody>\n",
       "    <tr>\n",
       "      <th>0</th>\n",
       "      <td>5.1</td>\n",
       "      <td>3.5</td>\n",
       "      <td>1.4</td>\n",
       "      <td>0.2</td>\n",
       "      <td>0</td>\n",
       "    </tr>\n",
       "    <tr>\n",
       "      <th>1</th>\n",
       "      <td>4.9</td>\n",
       "      <td>3.0</td>\n",
       "      <td>1.4</td>\n",
       "      <td>0.2</td>\n",
       "      <td>1</td>\n",
       "    </tr>\n",
       "    <tr>\n",
       "      <th>2</th>\n",
       "      <td>4.7</td>\n",
       "      <td>3.2</td>\n",
       "      <td>1.3</td>\n",
       "      <td>0.2</td>\n",
       "      <td>2</td>\n",
       "    </tr>\n",
       "    <tr>\n",
       "      <th>3</th>\n",
       "      <td>4.6</td>\n",
       "      <td>3.1</td>\n",
       "      <td>1.5</td>\n",
       "      <td>0.2</td>\n",
       "      <td>3</td>\n",
       "    </tr>\n",
       "    <tr>\n",
       "      <th>4</th>\n",
       "      <td>5.0</td>\n",
       "      <td>3.6</td>\n",
       "      <td>1.4</td>\n",
       "      <td>0.2</td>\n",
       "      <td>4</td>\n",
       "    </tr>\n",
       "    <tr>\n",
       "      <th>5</th>\n",
       "      <td>5.4</td>\n",
       "      <td>3.9</td>\n",
       "      <td>1.7</td>\n",
       "      <td>0.4</td>\n",
       "      <td>5</td>\n",
       "    </tr>\n",
       "    <tr>\n",
       "      <th>6</th>\n",
       "      <td>4.6</td>\n",
       "      <td>3.4</td>\n",
       "      <td>1.4</td>\n",
       "      <td>0.3</td>\n",
       "      <td>6</td>\n",
       "    </tr>\n",
       "    <tr>\n",
       "      <th>7</th>\n",
       "      <td>5.0</td>\n",
       "      <td>3.4</td>\n",
       "      <td>1.5</td>\n",
       "      <td>0.2</td>\n",
       "      <td>7</td>\n",
       "    </tr>\n",
       "    <tr>\n",
       "      <th>8</th>\n",
       "      <td>4.4</td>\n",
       "      <td>2.9</td>\n",
       "      <td>1.4</td>\n",
       "      <td>0.2</td>\n",
       "      <td>8</td>\n",
       "    </tr>\n",
       "    <tr>\n",
       "      <th>9</th>\n",
       "      <td>4.9</td>\n",
       "      <td>3.1</td>\n",
       "      <td>1.5</td>\n",
       "      <td>0.1</td>\n",
       "      <td>9</td>\n",
       "    </tr>\n",
       "  </tbody>\n",
       "</table>\n",
       "</div>"
      ],
      "text/plain": [
       "   sepal length (cm)  sepal width (cm)  petal length (cm)  petal width (cm)  \\\n",
       "0                5.1               3.5                1.4               0.2   \n",
       "1                4.9               3.0                1.4               0.2   \n",
       "2                4.7               3.2                1.3               0.2   \n",
       "3                4.6               3.1                1.5               0.2   \n",
       "4                5.0               3.6                1.4               0.2   \n",
       "5                5.4               3.9                1.7               0.4   \n",
       "6                4.6               3.4                1.4               0.3   \n",
       "7                5.0               3.4                1.5               0.2   \n",
       "8                4.4               2.9                1.4               0.2   \n",
       "9                4.9               3.1                1.5               0.1   \n",
       "\n",
       "   index  \n",
       "0      0  \n",
       "1      1  \n",
       "2      2  \n",
       "3      3  \n",
       "4      4  \n",
       "5      5  \n",
       "6      6  \n",
       "7      7  \n",
       "8      8  \n",
       "9      9  "
      ]
     },
     "execution_count": 12,
     "metadata": {},
     "output_type": "execute_result"
    }
   ],
   "source": [
    "df.iloc[:10,:]"
   ]
  },
  {
   "cell_type": "markdown",
   "metadata": {},
   "source": [
    "見た感じちゃんと分けれてそう"
   ]
  },
  {
   "cell_type": "markdown",
   "metadata": {},
   "source": [
    "# 3.パイプラインの作成\n",
    "次回以降、scikit-learnと同じ動作をするクラスを作成していきますが、まずはscikit-learnを使ったコードを用意しておきます。\n",
    "\n",
    "ここまでの復習を兼ねていますので、学んだことを思い出しながら使いやすいコードを完成させてください。argparseを使って、外から引数を入れられるようにもしておきましょう。\n",
    "\n",
    "このコードを元に、Sprintが進むごとに呼び出すクラスを自作のものに変えていきます。"
   ]
  },
  {
   "cell_type": "markdown",
   "metadata": {},
   "source": [
    "# 【問題2】 分類パイプラインの作成\n",
    "分類は3種類の手法を扱います。pyファイルで実行できる分類のパイプラインを作成してください。\n",
    "\n",
    "ロジスティック回帰\n",
    "SVM\n",
    "決定木\n",
    "データセットは3種類用意します。3つのデータセットが引数により切り替えられるようにしてください。\n",
    "\n",
    "1つ目は事前学習期間同様にirisデータセットです。\n",
    "\n",
    "sklearn.datasets.load_iris — scikit-learn 0.20.2 documentation\n",
    "\n",
    "2値分類としたいため、以下の2つの目的変数のみ利用します。特徴量は4種類全て使います。\n",
    "\n",
    "virgicolorとvirginica\n",
    "また、残り2つは可視化が可能な特徴量が2つのデータセットを人工的に用意します。以下のコードで説明変数X,目的変数yが作成可能です。「シンプルデータセット1」「シンプルデータセット2」とします。\n",
    "\n",
    "シンプルデータセット1作成コード"
   ]
  },
  {
   "cell_type": "code",
   "execution_count": 13,
   "metadata": {},
   "outputs": [],
   "source": [
    "params = {\"C\":2}"
   ]
  },
  {
   "cell_type": "code",
   "execution_count": 14,
   "metadata": {},
   "outputs": [],
   "source": [
    "params = {\"max_depth\":10}"
   ]
  },
  {
   "cell_type": "code",
   "execution_count": 57,
   "metadata": {},
   "outputs": [
    {
     "ename": "IndentationError",
     "evalue": "unexpected indent (<ipython-input-57-5007e0fc6289>, line 102)",
     "output_type": "error",
     "traceback": [
      "\u001b[0;36m  File \u001b[0;32m\"<ipython-input-57-5007e0fc6289>\"\u001b[0;36m, line \u001b[0;32m102\u001b[0m\n\u001b[0;31m    \"\"\"\u001b[0m\n\u001b[0m    ^\u001b[0m\n\u001b[0;31mIndentationError\u001b[0m\u001b[0;31m:\u001b[0m unexpected indent\n"
     ]
    }
   ],
   "source": [
    "\"\"\"\n",
    "作ったやつ\n",
    "\n",
    "import numpy as np\n",
    "import pandas as pd\n",
    "from sklearn.linear_model import LogisticRegression\n",
    "from sklearn.model_selection import StratifiedKFold\n",
    "from sklearn.model_selection import cross_validate\n",
    "from sklearn.model_selection import train_test_split\n",
    "from sklearn.preprocessing import StandardScaler\n",
    "from statistics import mean\n",
    "from sklearn.linear_model import LogisticRegression\n",
    "from sklearn.svm import SVC\n",
    "from sklearn.tree import DecisionTreeClassifier\n",
    "from sklearn.metrics import roc_curve\n",
    "from sklearn import metrics\n",
    "import matplotlib.pyplot as plt\n",
    "\n",
    "\n",
    "# % matplotlib\n",
    "# inline\n",
    "\n",
    "\n",
    "class Pipyline():\n",
    "\n",
    "    def __init__(self, df_train=None, X=None, y=None, TARGET=\"TARGET\",\n",
    "                 model_type=\"S\", sprit_num=3, pos_label=1, std=True, params=None):\n",
    "\n",
    "        self.model = 0  # 作成したmodelを格納\n",
    "        self.auc_result = []\n",
    "        self.auc_mean = 0\n",
    "        self.auc = 0\n",
    "        self.fpr = 0\n",
    "        self.tpr = 0\n",
    "\n",
    "        # データフレームをX,yに分割\n",
    "        if isinstance(df_train, pd.core.frame.DataFrame):\n",
    "            X = df_train.drop(TARGET, axis=1).values  # valursでarrayに変換\n",
    "            y = df_train[TARGET].values\n",
    "\n",
    "        auc_result = []\n",
    "        # クロスバリデーションStratified K-Fold CV\n",
    "        skf = StratifiedKFold(n_splits=sprit_num, random_state=39, shuffle=True)\n",
    "\n",
    "        for train_index, test_index in skf.split(X, y):\n",
    "            X_train, X_test = X[train_index], X[test_index]\n",
    "            y_train, y_test = y[train_index], y[test_index]\n",
    "\n",
    "            # 標準化するしない\n",
    "            if std:\n",
    "                sc = StandardScaler()\n",
    "                sc.fit(X_train)\n",
    "                X_train = sc.transform(X_train)\n",
    "                X_test = sc.transform(X_test)\n",
    "\n",
    "            # 学習\n",
    "            if model_type == \"L\":  # ロジステくす回帰\n",
    "                if params:  # パラメーター入力されているか判定\n",
    "                    model = LogisticRegression(**params)\n",
    "                else:\n",
    "                    model = LogisticRegression()\n",
    "\n",
    "            if model_type == \"S\":  # SVM\n",
    "                if params:\n",
    "                    model = SVC(probability=True, **params)\n",
    "                else:\n",
    "                    model = SVC(probability=True)\n",
    "\n",
    "            if model_type == \"D\":  # 決定木\n",
    "                if params:\n",
    "                    model = DecisionTreeClassifier(**params)\n",
    "                else:\n",
    "                    model = DecisionTreeClassifier()\n",
    "\n",
    "            model.fit(X_train, y_train)  # フィット\n",
    "            # 予測\n",
    "            y_pred_proba = model.predict_proba(X_test)\n",
    "            y_pred = model.predict(X_test)\n",
    "\n",
    "            # 評価\n",
    "            # aucの計算　リストに格納\n",
    "            auc = self.get_auc(y_test, y_pred_proba[:, 1], pos_label=pos_label)\n",
    "            auc_result.append(auc)\n",
    "\n",
    "        # 評価の表示\n",
    "        auc_mean = mean(auc_result)\n",
    "        print(\"aucの平均値：\", auc_mean)\n",
    "        # 他の評価指標も表示できるようにしたいところ\n",
    "        print(\"ypred \",y_pred )\n",
    "\n",
    "        self.auc = auc\n",
    "        self.model = model\n",
    "        self.auc_result = auc_result\n",
    "        self.auc_mean = auc_mean\n",
    "\n",
    "    def predict(self, X_test):\n",
    "        return self.model.predict(X_test)\n",
    "\n",
    "    def get_auc(self, y_test, y_pred, pos_label=1):\n",
    "        \"\"\"\n",
    "        #aucの値を返します。pos_label:陽性のラベルの値\n",
    "        \"\"\"\n",
    "        self.fpr, self.tpr, thresholds = roc_curve(y_test, y_pred, pos_label=pos_label)\n",
    "        auc = metrics.auc(self.fpr, self.tpr)\n",
    "        return auc\n",
    "\n",
    "    def plot_roc_curve(self):\n",
    "\n",
    "        \"\"\"\n",
    "        #OC曲線をプロットします。\n",
    "        \"\"\"\n",
    "\n",
    "        # ROC曲線をプロット\n",
    "        plt.figure(figsize=(6, 6))\n",
    "        plt.plot(self.fpr, self.tpr, label='ROC curve (area = %.2f)' % self.auc)\n",
    "        plt.legend()\n",
    "        plt.title('ROC curve')\n",
    "        plt.xlabel('False Positive Rate')\n",
    "        plt.ylabel('True Positive Rate')\n",
    "        plt.grid(True)\n",
    "\"\"\""
   ]
  },
  {
   "cell_type": "code",
   "execution_count": 4,
   "metadata": {},
   "outputs": [],
   "source": [
    "import numpy as np\n",
    "import pandas as pd\n",
    "#from sklearn.model_selection import train_test_split\n",
    "from sklearn.datasets import load_iris"
   ]
  },
  {
   "cell_type": "code",
   "execution_count": 13,
   "metadata": {},
   "outputs": [],
   "source": [
    "import numpy as np\n",
    "\n",
    "np.random.seed(seed=0)\n",
    "n_samples = 500\n",
    "f0= [-1, 2]\n",
    "f1 = [2, -1]\n",
    "cov = [[1.0,0.8], [0.8, 1.0]]\n",
    "\n",
    "f0 = np.random.multivariate_normal(f0, cov, int(n_samples/2))\n",
    "f1 = np.random.multivariate_normal(f1, cov, int(n_samples/2))\n",
    "\n",
    "X = np.concatenate((f0, f1))\n",
    "y = np.concatenate((np.ones((int(n_samples/2))), np.ones((int(n_samples/2))) *(-1))).astype(np.int)\n",
    "\n",
    "random_index = np.random.permutation(np.arange(n_samples))\n",
    "X = X[random_index]\n",
    "y = y[random_index]"
   ]
  },
  {
   "cell_type": "markdown",
   "metadata": {},
   "source": [
    "シンプルデータセット2作成コード"
   ]
  },
  {
   "cell_type": "code",
   "execution_count": 9,
   "metadata": {},
   "outputs": [],
   "source": [
    "X = np.array([[-0.44699 , -2.8073  ],[-1.4621  , -2.4586  ],\n",
    "       [ 0.10645 ,  1.9242  ],[-3.5944  , -4.0112  ],\n",
    "       [-0.9888  ,  4.5718  ],[-3.1625  , -3.9606  ],\n",
    "       [ 0.56421 ,  0.72888 ],[-0.60216 ,  8.4636  ],\n",
    "       [-0.61251 , -0.75345 ],[-0.73535 , -2.2718  ],\n",
    "       [-0.80647 , -2.2135  ],[ 0.86291 ,  2.3946  ],\n",
    "       [-3.1108  ,  0.15394 ],[-2.9362  ,  2.5462  ],\n",
    "       [-0.57242 , -2.9915  ],[ 1.4771  ,  3.4896  ],\n",
    "       [ 0.58619 ,  0.37158 ],[ 0.6017  ,  4.3439  ],\n",
    "       [-2.1086  ,  8.3428  ],[-4.1013  , -4.353   ],\n",
    "       [-1.9948  , -1.3927  ],[ 0.35084 , -0.031994],\n",
    "       [ 0.96765 ,  7.8929  ],[-1.281   , 15.6824  ],\n",
    "       [ 0.96765 , 10.083   ],[ 1.3763  ,  1.3347  ],\n",
    "       [-2.234   , -2.5323  ],[-2.9452  , -1.8219  ],\n",
    "       [ 0.14654 , -0.28733 ],[ 0.5461  ,  5.8245  ],\n",
    "       [-0.65259 ,  9.3444  ],[ 0.59912 ,  5.3524  ],\n",
    "       [ 0.50214 , -0.31818 ],[-3.0603  , -3.6461  ],\n",
    "       [-6.6797  ,  0.67661 ],[-2.353   , -0.72261 ],\n",
    "       [ 1.1319  ,  2.4023  ],[-0.12243 ,  9.0162  ],\n",
    "       [-2.5677  , 13.1779  ],[ 0.057313,  5.4681  ]])\n",
    "y = np.array([0, 0, 0, 0, 0, 0, 0, 0, 0, 0, 0, 0, 0, 0, 0, 0, 0, 0, 0, 0, 1, 1,\n",
    "       1, 1, 1, 1, 1, 1, 1, 1, 1, 1, 1, 1, 1, 1, 1, 1, 1, 1])"
   ]
  },
  {
   "cell_type": "code",
   "execution_count": 17,
   "metadata": {},
   "outputs": [
    {
     "name": "stderr",
     "output_type": "stream",
     "text": [
      "/Users/morio/.pyenv/versions/anaconda3-5.3.0/lib/python3.6/site-packages/lightgbm/__init__.py:46: UserWarning: Starting from version 2.2.1, the library file in distribution wheels for macOS is built by the Apple Clang (Xcode_8.3.1) compiler.\n",
      "This means that in case of installing LightGBM from PyPI via the ``pip install lightgbm`` command, you don't need to install the gcc compiler anymore.\n",
      "Instead of that, you need to install the OpenMP library, which is required for running LightGBM on the system with the Apple Clang compiler.\n",
      "You can install the OpenMP library by the following command: ``brew install libomp``.\n",
      "  \"You can install the OpenMP library by the following command: ``brew install libomp``.\", UserWarning)\n"
     ]
    }
   ],
   "source": [
    "from utils.pipyline import Pipyline"
   ]
  },
  {
   "cell_type": "code",
   "execution_count": 14,
   "metadata": {},
   "outputs": [
    {
     "name": "stderr",
     "output_type": "stream",
     "text": [
      "/Users/morio/.pyenv/versions/anaconda3-5.3.0/lib/python3.6/site-packages/sklearn/linear_model/logistic.py:433: FutureWarning:\n",
      "\n",
      "Default solver will be changed to 'lbfgs' in 0.22. Specify a solver to silence this warning.\n",
      "\n",
      "/Users/morio/.pyenv/versions/anaconda3-5.3.0/lib/python3.6/site-packages/sklearn/linear_model/logistic.py:433: FutureWarning:\n",
      "\n",
      "Default solver will be changed to 'lbfgs' in 0.22. Specify a solver to silence this warning.\n",
      "\n",
      "/Users/morio/.pyenv/versions/anaconda3-5.3.0/lib/python3.6/site-packages/sklearn/linear_model/logistic.py:433: FutureWarning:\n",
      "\n",
      "Default solver will be changed to 'lbfgs' in 0.22. Specify a solver to silence this warning.\n",
      "\n"
     ]
    },
    {
     "name": "stdout",
     "output_type": "stream",
     "text": [
      "aucの平均値： 1.0\n",
      "ypred  [-1  1  1  1 -1 -1  1 -1  1  1  1 -1  1 -1 -1 -1  1 -1  1  1  1  1 -1  1\n",
      "  1 -1 -1  1  1  1 -1  1 -1 -1 -1 -1  1 -1  1 -1  1  1 -1  1  1 -1  1  1\n",
      "  1  1 -1 -1  1 -1 -1  1 -1 -1  1  1 -1 -1 -1  1 -1  1 -1  1 -1  1 -1 -1\n",
      "  1 -1 -1  1  1  1 -1 -1 -1 -1  1 -1  1 -1  1 -1 -1  1  1 -1  1  1  1 -1\n",
      "  1  1  1  1 -1  1 -1 -1 -1 -1  1 -1  1  1 -1  1 -1  1 -1  1 -1  1  1  1\n",
      " -1 -1 -1 -1 -1  1  1  1 -1  1  1  1  1  1  1 -1 -1 -1 -1 -1 -1  1  1  1\n",
      " -1 -1 -1  1 -1  1 -1 -1  1 -1 -1  1 -1  1 -1 -1  1 -1  1 -1 -1  1]\n"
     ]
    }
   ],
   "source": [
    "pipy1 = Pipyline(X=X,y=y, pos_label=1,model_type=\"L\") #SIMPLEデータ２"
   ]
  },
  {
   "cell_type": "code",
   "execution_count": 54,
   "metadata": {},
   "outputs": [
    {
     "name": "stdout",
     "output_type": "stream",
     "text": [
      "aucの平均値： 0.9940843065167243\n",
      "ypred  [1 1 1 1 1 1 1 2 1 1 1 1 1 1 1 1 2 2 1 2 2 2 2 2 2 2 2 2 2 2 2 2]\n"
     ]
    }
   ],
   "source": [
    "pipy2 = Pipyline(df_train, pos_label=2, params=params) #アイリスデータセット"
   ]
  },
  {
   "cell_type": "code",
   "execution_count": 58,
   "metadata": {},
   "outputs": [
    {
     "data": {
      "image/png": "[encoded data removed]",
      "text/plain": [
       "<Figure size 432x432 with 1 Axes>"
      ]
     },
     "metadata": {
      "needs_background": "light"
     },
     "output_type": "display_data"
    }
   ],
   "source": [
    "pipy2.plot_roc_curve()"
   ]
  },
  {
   "cell_type": "markdown",
   "metadata": {},
   "source": [
    "## 【問題3】 回帰パイプラインの作成\n",
    "回帰は1種類を扱います。pyファイルで実行できる回帰のパイプラインを作成してください。\n",
    "\n",
    "線形回帰\n",
    "データセットは事前学習期間同様にHouse Pricesコンペティションのものを使います。\n",
    "\n",
    "House Prices: Advanced Regression Techniques\n",
    "\n",
    "train.csvをダウンロードし、目的変数としてSalePrice、説明変数として、GrLivAreaとYearBuiltを使います。"
   ]
  },
  {
   "cell_type": "code",
   "execution_count": 94,
   "metadata": {},
   "outputs": [],
   "source": [
    "#作ったやつ\n",
    "\"\"\"\n",
    "import numpy as np\n",
    "import pandas as pd\n",
    "from sklearn.model_selection import StratifiedKFold\n",
    "from sklearn.model_selection import cross_validate\n",
    "from sklearn.model_selection import train_test_split\n",
    "from sklearn.preprocessing import StandardScaler\n",
    "from sklearn.linear_model import LinearRegression\n",
    "from sklearn.metrics import mean_squared_error\n",
    "import matplotlib.pyplot as plt\n",
    "# % matplotlib\n",
    "# inline\n",
    "\n",
    "\n",
    "class Pipyline_R():\n",
    "\n",
    "    def __init__(self, df_train=None, X=None, y=None, TARGET=\"TARGET\",\n",
    "                 model_type=\"L\", sprit_num=3, pos_label=1, std=True, params=None):\n",
    "\n",
    "        self.model = 0  # 作成したmodelを格納\n",
    "        self.rmse_result = []\n",
    "        self.rmse_mean = 0\n",
    "\n",
    "        # データフレームをX,yに分割\n",
    "        if isinstance(df_train, pd.core.frame.DataFrame):\n",
    "            X = df_train.drop(TARGET, axis=1).values  # valursでarrayに変換\n",
    "            y = df_train[TARGET].values\n",
    "\n",
    "        rmse_result = []\n",
    "        # クロスバリデーションStratified K-Fold CV\n",
    "        skf = StratifiedKFold(n_splits=sprit_num, random_state=39, shuffle=True)\n",
    "\n",
    "        for train_index, test_index in skf.split(X, y):\n",
    "            X_train, X_test = X[train_index], X[test_index]\n",
    "            y_train, y_test = y[train_index], y[test_index]\n",
    "\n",
    "            # 標準化するしない\n",
    "            if std:\n",
    "                sc = StandardScaler()\n",
    "                sc.fit(X_train)\n",
    "                X_train = sc.transform(X_train)\n",
    "                X_test = sc.transform(X_test)\n",
    "\n",
    "            # 学習\n",
    "            if model_type == \"L\":  # ロジステくす回帰\n",
    "                if params:  # パラメーター入力されているか判定\n",
    "                    model = LinearRegression(**params)\n",
    "                else:\n",
    "                    model = LinearRegression()\n",
    "                    \n",
    "            if model_type == \"S\":  # SVM\n",
    "                if params:\n",
    "                    model = SVC(probability=True, **params)\n",
    "                else:\n",
    "                    model = SVC(probability=True)\n",
    "\n",
    "            if model_type == \"D\":  # 決定木\n",
    "                if params:\n",
    "                    model = DecisionTreeClassifier(**params)\n",
    "                else:\n",
    "                    model = DecisionTreeClassifier()\n",
    "                    \n",
    "            model.fit(X_train, y_train)  # フィット\n",
    "            # 予測\n",
    "            y_pred = model.predict(X_test)\n",
    "\n",
    "            # 評価\n",
    "            # rmseの計算　リストに格納\n",
    "            rmse = self.get_rmse(y_test, y_pred)\n",
    "            rmse_result.append(rmse)\n",
    "\n",
    "        # 評価の表示\n",
    "        rmse_mean = mean(rmse_result)\n",
    "        print(\"RMSEの平均値：\", rmse_mean)\n",
    "        #他の評価指標も表示できるようにしたいところ\n",
    "        print(\"ypred \",y_pred )\n",
    "\n",
    "        self.model = model\n",
    "        self.rmse_result = rmse_result\n",
    "        self.rmse_mean = rmse_mean\n",
    "\n",
    "    def predict(self, X_test):\n",
    "        return self.model.predict(X_test)\n",
    "\n",
    "    def get_rmse(self, y_test, y_pred):\n",
    "        \"\"\"\n",
    "        RMSEの値を返します。\n",
    "        \"\"\"\n",
    "        rmse = np.sqrt(mean_squared_error(y_test, y_pred))\n",
    "        return rmse\n",
    "\"\"\""
   ]
  },
  {
   "cell_type": "code",
   "execution_count": 22,
   "metadata": {},
   "outputs": [],
   "source": [
    "df_train2 = pd.read_csv(\"/Users/morio/diveintocode-ml/input/week4/train.csv\")"
   ]
  },
  {
   "cell_type": "code",
   "execution_count": 23,
   "metadata": {},
   "outputs": [],
   "source": [
    "columns = [\"GrLivArea\", \"YearBuilt\", \"SalePrice\"]"
   ]
  },
  {
   "cell_type": "code",
   "execution_count": 24,
   "metadata": {},
   "outputs": [
    {
     "data": {
      "text/html": [
       "<div>\n",
       "<style scoped>\n",
       "    .dataframe tbody tr th:only-of-type {\n",
       "        vertical-align: middle;\n",
       "    }\n",
       "\n",
       "    .dataframe tbody tr th {\n",
       "        vertical-align: top;\n",
       "    }\n",
       "\n",
       "    .dataframe thead th {\n",
       "        text-align: right;\n",
       "    }\n",
       "</style>\n",
       "<table border=\"1\" class=\"dataframe\">\n",
       "  <thead>\n",
       "    <tr style=\"text-align: right;\">\n",
       "      <th></th>\n",
       "      <th>GrLivArea</th>\n",
       "      <th>YearBuilt</th>\n",
       "      <th>SalePrice</th>\n",
       "    </tr>\n",
       "  </thead>\n",
       "  <tbody>\n",
       "    <tr>\n",
       "      <th>0</th>\n",
       "      <td>1710</td>\n",
       "      <td>2003</td>\n",
       "      <td>208500</td>\n",
       "    </tr>\n",
       "    <tr>\n",
       "      <th>1</th>\n",
       "      <td>1262</td>\n",
       "      <td>1976</td>\n",
       "      <td>181500</td>\n",
       "    </tr>\n",
       "    <tr>\n",
       "      <th>2</th>\n",
       "      <td>1786</td>\n",
       "      <td>2001</td>\n",
       "      <td>223500</td>\n",
       "    </tr>\n",
       "    <tr>\n",
       "      <th>3</th>\n",
       "      <td>1717</td>\n",
       "      <td>1915</td>\n",
       "      <td>140000</td>\n",
       "    </tr>\n",
       "    <tr>\n",
       "      <th>4</th>\n",
       "      <td>2198</td>\n",
       "      <td>2000</td>\n",
       "      <td>250000</td>\n",
       "    </tr>\n",
       "  </tbody>\n",
       "</table>\n",
       "</div>"
      ],
      "text/plain": [
       "   GrLivArea  YearBuilt  SalePrice\n",
       "0       1710       2003     208500\n",
       "1       1262       1976     181500\n",
       "2       1786       2001     223500\n",
       "3       1717       1915     140000\n",
       "4       2198       2000     250000"
      ]
     },
     "execution_count": 24,
     "metadata": {},
     "output_type": "execute_result"
    }
   ],
   "source": [
    "df_train2 = df_train2[columns]\n",
    "df_train2.head()"
   ]
  },
  {
   "cell_type": "code",
   "execution_count": 11,
   "metadata": {},
   "outputs": [],
   "source": [
    "import sys\n",
    "sys.path.append(\"/Users/morio/diveintocode-ml/ml-scratch\")\n",
    "from utils.pipyline_R import Pipyline_R\n",
    "from utils.pipyline import Pipyline"
   ]
  },
  {
   "cell_type": "code",
   "execution_count": 26,
   "metadata": {},
   "outputs": [
    {
     "name": "stderr",
     "output_type": "stream",
     "text": [
      "/Users/morio/.pyenv/versions/anaconda3-5.3.0/lib/python3.6/site-packages/sklearn/model_selection/_split.py:652: Warning:\n",
      "\n",
      "The least populated class in y has only 1 members, which is too few. The minimum number of members in any class cannot be less than n_splits=3.\n",
      "\n",
      "/Users/morio/.pyenv/versions/anaconda3-5.3.0/lib/python3.6/site-packages/sklearn/utils/validation.py:595: DataConversionWarning:\n",
      "\n",
      "Data with input dtype int64 was converted to float64 by StandardScaler.\n",
      "\n",
      "/Users/morio/.pyenv/versions/anaconda3-5.3.0/lib/python3.6/site-packages/sklearn/utils/validation.py:595: DataConversionWarning:\n",
      "\n",
      "Data with input dtype int64 was converted to float64 by StandardScaler.\n",
      "\n",
      "/Users/morio/.pyenv/versions/anaconda3-5.3.0/lib/python3.6/site-packages/sklearn/utils/validation.py:595: DataConversionWarning:\n",
      "\n",
      "Data with input dtype int64 was converted to float64 by StandardScaler.\n",
      "\n",
      "/Users/morio/.pyenv/versions/anaconda3-5.3.0/lib/python3.6/site-packages/sklearn/utils/validation.py:595: DataConversionWarning:\n",
      "\n",
      "Data with input dtype int64 was converted to float64 by StandardScaler.\n",
      "\n",
      "/Users/morio/.pyenv/versions/anaconda3-5.3.0/lib/python3.6/site-packages/sklearn/utils/validation.py:595: DataConversionWarning:\n",
      "\n",
      "Data with input dtype int64 was converted to float64 by StandardScaler.\n",
      "\n",
      "/Users/morio/.pyenv/versions/anaconda3-5.3.0/lib/python3.6/site-packages/sklearn/utils/validation.py:595: DataConversionWarning:\n",
      "\n",
      "Data with input dtype int64 was converted to float64 by StandardScaler.\n",
      "\n",
      "/Users/morio/.pyenv/versions/anaconda3-5.3.0/lib/python3.6/site-packages/sklearn/utils/validation.py:595: DataConversionWarning:\n",
      "\n",
      "Data with input dtype int64 was converted to float64 by StandardScaler.\n",
      "\n",
      "/Users/morio/.pyenv/versions/anaconda3-5.3.0/lib/python3.6/site-packages/sklearn/utils/validation.py:595: DataConversionWarning:\n",
      "\n",
      "Data with input dtype int64 was converted to float64 by StandardScaler.\n",
      "\n",
      "/Users/morio/.pyenv/versions/anaconda3-5.3.0/lib/python3.6/site-packages/sklearn/utils/validation.py:595: DataConversionWarning:\n",
      "\n",
      "Data with input dtype int64 was converted to float64 by StandardScaler.\n",
      "\n"
     ]
    },
    {
     "name": "stdout",
     "output_type": "stream",
     "text": [
      "RMSEの平均値： 47709.97678346751\n",
      "ypred  [145382.89313436 190710.51968134 109791.46855514 150971.23959566\n",
      " 140458.38335714 163574.49019214 156833.24853608 118629.45904801\n",
      " 100640.54906412 150009.65268697 256130.15952784 123970.76409947\n",
      " 233923.68529417 268410.34783096  42116.74713387  81785.07298363\n",
      " 224957.74077971 179339.96397954 246547.22365043 271812.01246029\n",
      " 200259.25568735 249249.54272375 243084.73808041 197696.29059275\n",
      " 172420.08065644 320559.05807256 222545.52962095 212801.70651247\n",
      " 215515.42554292 277988.21706076 139956.70056605 180786.7882439\n",
      " 297036.28925855 147730.4621974  196027.75815662 191751.92745927\n",
      " 160884.83773786 152870.34683687  99922.22474888 161428.34154109\n",
      " 271378.72941199 233930.01860368 236639.95881774 232015.71141963\n",
      " 153426.51725914 240315.26475688 244995.24527876 100205.99935392\n",
      " 159809.23008853 146098.6841258  149263.44064052 293733.4242577\n",
      " 243900.63770087 197269.34085396 113841.79109501 165753.593222\n",
      " 257547.8293991  204619.97390156 145324.60551748 281270.79430183\n",
      " 117613.40567746 101260.07375089 147949.65821468  75816.64327399\n",
      " 218817.00271254 208684.22972238  89449.90169128 237763.69961941\n",
      " 145992.26335658 229460.34629645 159036.41814211 126839.05822079\n",
      " 128427.76978767 111015.31798583 261599.41860088 152205.22232157\n",
      " 147375.73335644  92153.50859582 262980.35527693  99334.3666097\n",
      " 118530.63825021 205570.16085312 200054.01412033 290762.50935287\n",
      " 268929.78505802 330979.42682279 220726.24324899  90435.55517614\n",
      " 249881.73402955 186087.56011444 235836.72581632 156630.54029287\n",
      " 106753.42056941 157158.84415326 197085.63253931 119050.07547728\n",
      " 210665.69115664 123157.41897213 150045.11922027 242224.50529333\n",
      "  32370.36953226 112930.89183179 100679.83675245 234562.20990949\n",
      " 132717.53376596 142481.64463423 118714.34656487 274157.06936884\n",
      " 202846.28735812 222117.31322027 173339.86772231 144003.22312021\n",
      " 157473.0398133  129408.35662491 234535.63117883 125567.07563777\n",
      " 197504.98230667 261176.26884781  53540.50263561 303705.31001679\n",
      " 214131.95554306 167036.97576216 111603.176125   178877.54770746\n",
      " 116592.26448999  70170.00919581 311152.23053838  88304.60646793\n",
      " 231579.89504752 109401.27318088 138536.47620166 149073.39901635\n",
      " 269213.58083238 225511.37787817 159269.52627101 157274.1315558\n",
      " 183135.64513816  56532.95079281 116813.97266175 246800.59836978\n",
      " 144067.8228773  113201.99981779 147730.4621974  113207.06646541\n",
      " 219224.95252277 191792.46064019 178378.37707085 267233.38606002\n",
      " 120015.46237168 149744.87801048 167077.50894308 108725.99420103\n",
      "  78650.73752391 196895.59091513 209019.95863479 110701.12232578\n",
      " 206889.00992658 222843.25867625 146524.36720268 105529.57113872\n",
      " 120661.58695842 147910.37052635 198356.34846043  85409.71244663\n",
      " 174250.78815486 213499.76423726 138901.35950717 172072.97295622\n",
      "  98880.81697094 102756.29782949 282462.95601561 155546.06601021\n",
      " 163729.06528302 164852.80608469 123393.06042484 114719.77831807\n",
      " 203227.63726838 113350.24159915 234662.29736919 225062.89488703\n",
      " 146664.9878433  165529.35172643 138971.02591187 152919.74665111\n",
      " 253179.51121347 294165.4406441  121730.86129823 112990.42494125\n",
      " 153521.53807122 257194.36722004 163309.71551566  86239.54534803\n",
      " 131102.22229911 163659.377709   229981.05018541 309063.08167299\n",
      " 244569.56220188 230789.34983445  53874.96488612 134921.99120321\n",
      " 244357.98732534 118628.19238611 105121.62132849 125222.48009203\n",
      " 202850.08734384 334358.29153785 122127.41115133 191684.77320906\n",
      "  99352.09987635 213251.45616551  84731.9213123  133542.30001975\n",
      " 197598.73645685 136351.0610316  117253.58901957 145120.63061236\n",
      " 136795.74403704 295974.61489016 295119.42758137  88304.60646793\n",
      " 197536.64885426 152187.46788561 169806.44908569 267025.6111692\n",
      " 243709.32941479 294170.50729171 196680.21605288 195381.6547392\n",
      "  90695.28437433 180473.85924576 191578.35243984 207314.69300346\n",
      " 143637.0731528  105793.10032262 125934.49226708 123424.72697243\n",
      " 236662.75873201  92860.43295393 245215.68678862  71035.30863051\n",
      " 187329.14281178 147288.31251578 160556.72996619 220300.56017211\n",
      " 226446.36488689 178741.99371446 231052.85784903 324102.63117372\n",
      " 104637.67180405 127485.20397685 232013.17809582 182417.2996536\n",
      " 164074.92749065 213499.76423726 160874.70444263 240415.35221659\n",
      "  61875.52250617 119050.07547728 151945.49312338 111922.41726334\n",
      " 129580.66498244 112987.89161745 307540.25769442 244572.09552568\n",
      " 234970.15971972 112140.3254494  197688.69062132 193377.37222135\n",
      "  90357.02213811 271495.28347643 222754.57117368 185066.41892697\n",
      " 216436.47927069 155127.98290475 183224.33264073 229775.80861839\n",
      " 204736.52796601  97224.95115385 131083.22237056 133843.82906076\n",
      " 662173.52725441 263190.66349157 150418.8691591  230527.08731245\n",
      " 239252.32372659 152187.46788561 181342.95866617 194131.18423922\n",
      " 341611.37044956 203497.47859248 249347.09685964  54827.68516148\n",
      " 265112.59181636 224771.49914125 129177.78181982 131896.58866721\n",
      " 166523.87184462 170683.14847752 200688.73874994 174972.91245581\n",
      " 286181.34962879 248571.75158942 300506.35363067 111249.69277663\n",
      " 223456.4500535  111924.95058715 245851.69924945 221374.90115953\n",
      " 152945.1010585  242651.45503211 227869.10140576 129493.24414177\n",
      " 155499.19951978 326058.7382006  232542.76978743 215515.42554292\n",
      " 177350.92374318 129000.427984   100810.32409784 105121.62132849\n",
      " 261045.78150242 250103.44220131 177459.8778362  167847.80873501\n",
      " 227656.25986732 174397.76327431 311823.68836319 135546.56136828\n",
      " 142481.64463423 151503.34344176 273187.88248873 160426.22145149\n",
      "  74857.5896891  243929.77092465 148547.62847976 176304.44931763\n",
      " 275334.03113978 114159.78674077 139163.60085985 270315.78838169\n",
      " 100573.41598323 172634.18885678 187425.40911646]\n"
     ]
    }
   ],
   "source": [
    "r = Pipyline_R(df_train2, TARGET=\"SalePrice\", )"
   ]
  },
  {
   "cell_type": "code",
   "execution_count": 28,
   "metadata": {},
   "outputs": [
    {
     "data": {
      "text/plain": [
       "[61701.70544766734, 35231.39286002046, 46196.83204271473]"
      ]
     },
     "execution_count": 28,
     "metadata": {},
     "output_type": "execute_result"
    }
   ],
   "source": [
    "r.rmse_result"
   ]
  },
  {
   "cell_type": "code",
   "execution_count": 29,
   "metadata": {},
   "outputs": [
    {
     "data": {
      "text/plain": [
       "LinearRegression(copy_X=True, fit_intercept=True, n_jobs=None,\n",
       "         normalize=False)"
      ]
     },
     "execution_count": 29,
     "metadata": {},
     "output_type": "execute_result"
    }
   ],
   "source": [
    "r.model"
   ]
  },
  {
   "cell_type": "code",
   "execution_count": 30,
   "metadata": {},
   "outputs": [
    {
     "name": "stdout",
     "output_type": "stream",
     "text": [
      "aucの平均値： 0.35600907029478457\n",
      "ypred  [0 0 0 0 1 0 0 1 0 1 1 1]\n"
     ]
    }
   ],
   "source": [
    "a = Pipyline(X=X,y=y)"
   ]
  }
 ],
 "metadata": {
  "kernelspec": {
   "display_name": "Python 3",
   "language": "python",
   "name": "python3"
  },
  "language_info": {
   "codemirror_mode": {
    "name": "ipython",
    "version": 3
   },
   "file_extension": ".py",
   "mimetype": "text/x-python",
   "name": "python",
   "nbconvert_exporter": "python",
   "pygments_lexer": "ipython3",
   "version": "3.6.8"
  }
 },
 "nbformat": 4,
 "nbformat_minor": 2
}
