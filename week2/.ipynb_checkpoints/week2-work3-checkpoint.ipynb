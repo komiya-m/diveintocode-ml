{
 "cells": [
  {
   "cell_type": "markdown",
   "metadata": {},
   "source": [
    "# 1.この課題の目的\n",
    "数式演算ライブラリのnumpyに慣れる  \n",
    "機械学習に必須な行列演算に慣れる"
   ]
  },
  {
   "cell_type": "markdown",
   "metadata": {},
   "source": [
    "## 【課題1】内積を手計算しよう"
   ]
  },
  {
   "cell_type": "markdown",
   "metadata": {},
   "source": [
    "AB=\n",
    "\\begin{pmatrix}\n",
    "6 & 29 & -20 \\\\\n",
    "12 & 52 & 38 \\\\\n",
    "-18 & -51 & -48\n",
    "\\end{pmatrix}"
   ]
  },
  {
   "cell_type": "markdown",
   "metadata": {},
   "source": [
    "## 【課題2】1次元配列の内積をfor文で計算しよう\n",
    "これ以降の課題はNumPyを使って解いてください。  \n",
    "\n",
    "まずは、ご自身で配列のindexを指定し、  \n",
    "\n",
    "行列Aの(0,0)の要素と行列Bの(0,1)の要素を掛け合わせる  \n",
    "行列Aの(0,1)の要素と行列Bの(1,1)の要素を掛け合わせる  \n",
    "行列Aの(0,2)の要素と行列Bの(2,1)の要素を掛け合わせる  \n",
    "それらの値を全て足し合わせる  \n",
    "のフローをfor文を使って計算してください。"
   ]
  },
  {
   "cell_type": "code",
   "execution_count": 52,
   "metadata": {},
   "outputs": [],
   "source": [
    "import numpy as np\n",
    "\n",
    "A = np.array([[-1, 2, 3], [4, -5, 6], [7, 8, -9]])  #行列A、Bを設定\n",
    "B = np.array([[0, 2, 1], [0, 2, -8], [2, 9, -1]])"
   ]
  },
  {
   "cell_type": "code",
   "execution_count": 53,
   "metadata": {},
   "outputs": [
    {
     "data": {
      "text/plain": [
       "array([[-1,  2,  3],\n",
       "       [ 4, -5,  6],\n",
       "       [ 7,  8, -9]])"
      ]
     },
     "execution_count": 53,
     "metadata": {},
     "output_type": "execute_result"
    }
   ],
   "source": [
    "A"
   ]
  },
  {
   "cell_type": "code",
   "execution_count": 54,
   "metadata": {},
   "outputs": [
    {
     "data": {
      "text/plain": [
       "array([[ 0,  2,  1],\n",
       "       [ 0,  2, -8],\n",
       "       [ 2,  9, -1]])"
      ]
     },
     "execution_count": 54,
     "metadata": {},
     "output_type": "execute_result"
    }
   ],
   "source": [
    "B"
   ]
  },
  {
   "cell_type": "code",
   "execution_count": 18,
   "metadata": {},
   "outputs": [
    {
     "name": "stdout",
     "output_type": "stream",
     "text": [
      "-2\n",
      "4\n",
      "27\n",
      "29\n"
     ]
    }
   ],
   "source": [
    "a = A[0]  #[-1, 2, 3]\n",
    "i = 0 #aのインデックス番号\n",
    "total = 0 #合計\n",
    "\n",
    "for b in B:\n",
    "    #print(b)\n",
    "    ab = a[i]*b[1]\n",
    "    print(ab)\n",
    "    total += ab\n",
    "    i += 1\n",
    "\n",
    "print(total)"
   ]
  },
  {
   "cell_type": "markdown",
   "metadata": {},
   "source": [
    "## 【課題3】多次元配列の内積をfor文で計算しよう\n",
    "【課題2】ではA*Bの(0,0)だけ計算するコードを実装してもらいましたが、全要素を求めるにはどうしたら良いでしょうか？\n",
    "\n",
    "行列A*Bの(0,1)を求めるには\n",
    "\n",
    "行列Aのインデックスは固定（0行目を選択したまま）で、行列Bのインデックスを0列目から1列目に  \n",
    "指定しなおせば良いわけです。理解できない方は、手計算でのフローを思い出してください！  \n",
    "\n",
    "行列Aの(0,0)の要素と行列Bの(0,1)の要素を掛け合わせる  \n",
    "行列Aの(0,1)の要素と行列Bの(1,1)の要素を掛け合わせる  \n",
    "行列Aの(0,2)の要素と行列Bの(2,1)の要素を掛け合わせる  \n",
    "1、2、3で求めた値を足し合わせる  \n",
    "とすればA*Bの(0,1)の要素が求まります。\n",
    "\n",
    "このように同じ計算を順次インデックスを増やして行けば、全要素の計算ができます。\n",
    "\n",
    "計算の処理自体は全て同じなので、指定する要素の場所をなんとか効率よくできないかというところで登場するのが、for文です。\n",
    "\n",
    "説明はここまでになります。\n",
    "\n",
    "for文を使って行列A、Bの積を計算しましょう！【課題2】では(0,0)のみ計算していただきましたが、全て計算してください。\n",
    "\n",
    "ヒント  \n",
    "indexの移行は行方向と列方向があるので、【課題2】で実装していただいたコードに加えて、さらに2回for文が必要になります。"
   ]
  },
  {
   "cell_type": "code",
   "execution_count": 56,
   "metadata": {},
   "outputs": [
    {
     "name": "stdout",
     "output_type": "stream",
     "text": [
      "-1\n",
      "-17\n",
      "-20\n",
      "4\n",
      "44\n",
      "38\n",
      "7\n",
      "-57\n",
      "-48\n"
     ]
    }
   ],
   "source": [
    "a_index = 0 #aのインデックス番号\n",
    "#b_index = 0\n",
    "ab0 = 0\n",
    "ab1 = 0\n",
    "ab2 = 0\n",
    "total = 0 #合計\n",
    "\n",
    "for a in A:\n",
    "    a_index = 0\n",
    "    \n",
    "    for b in B:\n",
    "        #print(b)\n",
    "        ab0 += a[a_index]*b[0]\n",
    "        ab1 += a[a_index]*b[1]\n",
    "        ab2 += a[a_index]*b[2]\n",
    "        #print(ab0,ab1,ab2)\n",
    "        total += ab\n",
    "        a_index += 1\n",
    "    \n",
    "    #print(ab0,ab1,ab2)\n",
    "    \n",
    "    ab0 = 0\n",
    "    ab1 = 0\n",
    "    ab2 = 0\n",
    "    #print(total)\n",
    "    total = 0"
   ]
  },
  {
   "cell_type": "code",
   "execution_count": null,
   "metadata": {},
   "outputs": [],
   "source": [
    "a = A[0]  #[-1, 2, 3]\n",
    "a_index = 0 #aのインデックス番号\n",
    "b_index = 0 #bのインデックス番号\n",
    "total = 0 #合計\n",
    "\n",
    "for b in b:\n",
    "    a_index = 0\n",
    "    \n",
    "    for b in B:\n",
    "        #print(b)\n",
    "        ab = a[a_index]*b[b_index]\n",
    "        print(ab)\n",
    "        total += ab\n",
    "        a_index += 1\n",
    "\n",
    "    b_index +=1\n",
    "print(total)"
   ]
  }
 ],
 "metadata": {
  "kernelspec": {
   "display_name": "Python 3",
   "language": "python",
   "name": "python3"
  },
  "language_info": {
   "codemirror_mode": {
    "name": "ipython",
    "version": 3
   },
   "file_extension": ".py",
   "mimetype": "text/x-python",
   "name": "python",
   "nbconvert_exporter": "python",
   "pygments_lexer": "ipython3",
   "version": "3.6.8"
  }
 },
 "nbformat": 4,
 "nbformat_minor": 2
}
