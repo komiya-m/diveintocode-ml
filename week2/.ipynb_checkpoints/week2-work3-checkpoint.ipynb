{
 "cells": [
  {
   "cell_type": "markdown",
   "metadata": {},
   "source": [
    "# 1.この課題の目的\n",
    "数式演算ライブラリのnumpyに慣れる  \n",
    "機械学習に必須な行列演算に慣れる"
   ]
  },
  {
   "cell_type": "markdown",
   "metadata": {},
   "source": [
    "## 【課題1】内積を手計算しよう"
   ]
  },
  {
   "cell_type": "code",
   "execution_count": 1,
   "metadata": {},
   "outputs": [
    {
     "data": {
      "text/plain": [
       "array([[  6,  29, -20],\n",
       "       [ 12,  52,  38],\n",
       "       [-18, -51, -48]])"
      ]
     },
     "execution_count": 1,
     "metadata": {},
     "output_type": "execute_result"
    }
   ],
   "source": [
    "import numpy as np\n",
    "\n",
    "AB = np.array([6, 29, -20, 12, 52, 38, -18,  -51, -48]).reshape(3, 3)\n",
    "AB"
   ]
  },
  {
   "cell_type": "markdown",
   "metadata": {},
   "source": [
    "## 【課題2】1次元配列の内積をfor文で計算しよう\n",
    "これ以降の課題はNumPyを使って解いてください。  \n",
    "\n",
    "まずは、ご自身で配列のindexを指定し、  \n",
    "\n",
    "行列Aの(0,0)の要素と行列Bの(0,1)の要素を掛け合わせる  \n",
    "行列Aの(0,1)の要素と行列Bの(1,1)の要素を掛け合わせる  \n",
    "行列Aの(0,2)の要素と行列Bの(2,1)の要素を掛け合わせる  \n",
    "それらの値を全て足し合わせる  \n",
    "のフローをfor文を使って計算してください。"
   ]
  },
  {
   "cell_type": "code",
   "execution_count": 2,
   "metadata": {},
   "outputs": [],
   "source": [
    "A = np.array([[-1, 2, 3], [4, -5, 6], [7, 8, -9]])  #行列A、Bを設定\n",
    "B = np.array([[0, 2, 1], [0, 2, -8], [2, 9, -1]])"
   ]
  },
  {
   "cell_type": "code",
   "execution_count": 3,
   "metadata": {},
   "outputs": [
    {
     "data": {
      "text/plain": [
       "array([[-1,  2,  3],\n",
       "       [ 4, -5,  6],\n",
       "       [ 7,  8, -9]])"
      ]
     },
     "execution_count": 3,
     "metadata": {},
     "output_type": "execute_result"
    }
   ],
   "source": [
    "A"
   ]
  },
  {
   "cell_type": "code",
   "execution_count": 4,
   "metadata": {},
   "outputs": [
    {
     "data": {
      "text/plain": [
       "array([[ 0,  2,  1],\n",
       "       [ 0,  2, -8],\n",
       "       [ 2,  9, -1]])"
      ]
     },
     "execution_count": 4,
     "metadata": {},
     "output_type": "execute_result"
    }
   ],
   "source": [
    "B"
   ]
  },
  {
   "cell_type": "code",
   "execution_count": 5,
   "metadata": {},
   "outputs": [
    {
     "name": "stdout",
     "output_type": "stream",
     "text": [
      "29\n"
     ]
    }
   ],
   "source": [
    "a = A[0]  #[-1, 2, 3]\n",
    "i = 0 #aのインデックス番号\n",
    "total = 0 #合計\n",
    "\n",
    "for b in B:\n",
    "    #print(b)\n",
    "    ab = a[i]*b[1]\n",
    "    #print(ab)\n",
    "    total += ab\n",
    "    i += 1\n",
    "\n",
    "print(total)"
   ]
  },
  {
   "cell_type": "markdown",
   "metadata": {},
   "source": [
    "## 【課題3】多次元配列の内積をfor文で計算しよう\n",
    "【課題2】ではA*Bの(0,0)だけ計算するコードを実装してもらいましたが、全要素を求めるにはどうしたら良いでしょうか？\n",
    "\n",
    "行列A*Bの(0,1)を求めるには\n",
    "\n",
    "行列Aのインデックスは固定（0行目を選択したまま）で、行列Bのインデックスを0列目から1列目に  \n",
    "指定しなおせば良いわけです。理解できない方は、手計算でのフローを思い出してください！  \n",
    "\n",
    "行列Aの(0,0)の要素と行列Bの(0,1)の要素を掛け合わせる  \n",
    "行列Aの(0,1)の要素と行列Bの(1,1)の要素を掛け合わせる  \n",
    "行列Aの(0,2)の要素と行列Bの(2,1)の要素を掛け合わせる  \n",
    "1、2、3で求めた値を足し合わせる  \n",
    "とすればA*Bの(0,1)の要素が求まります。\n",
    "\n",
    "このように同じ計算を順次インデックスを増やして行けば、全要素の計算ができます。\n",
    "\n",
    "計算の処理自体は全て同じなので、指定する要素の場所をなんとか効率よくできないかというところで登場するのが、for文です。\n",
    "\n",
    "説明はここまでになります。\n",
    "\n",
    "for文を使って行列A、Bの積を計算しましょう！【課題2】では(0,0)のみ計算していただきましたが、全て計算してください。\n",
    "\n",
    "ヒント  \n",
    "indexの移行は行方向と列方向があるので、【課題2】で実装していただいたコードに加えて、さらに2回for文が必要になります。"
   ]
  },
  {
   "cell_type": "code",
   "execution_count": 6,
   "metadata": {},
   "outputs": [],
   "source": [
    "a_index = 0 #aのインデックス番号\n",
    "ab0 = 0\n",
    "ab1 = 0\n",
    "ab2 = 0\n",
    "ab_array = np.empty((0,3), int) #A*Bを格納するarrayを作成\n",
    "\n",
    "for a in A:\n",
    "    a_index = 0\n",
    "    \n",
    "    for b in B:\n",
    "        #print(b)\n",
    "        ab0 += a[a_index]*b[0]\n",
    "        ab1 += a[a_index]*b[1]\n",
    "        ab2 += a[a_index]*b[2]\n",
    "        #print(ab0,ab1,ab2)\n",
    "        a_index += 1\n",
    "    \n",
    "    #print(ab0,ab1,ab2)\n",
    "    ab123 = np.array([ab0, ab1, ab2])\n",
    "    ab_array = np.vstack((ab_array, ab123))  #計算結果をvstack\n",
    "    #print(ab_array)\n",
    "    ab0 = 0 #初期化\n",
    "    ab1 = 0 #初期化\n",
    "    ab2 = 0 #初期化"
   ]
  },
  {
   "cell_type": "code",
   "execution_count": 7,
   "metadata": {},
   "outputs": [
    {
     "data": {
      "text/plain": [
       "array([[  6,  29, -20],\n",
       "       [ 12,  52,  38],\n",
       "       [-18, -51, -48]])"
      ]
     },
     "execution_count": 7,
     "metadata": {},
     "output_type": "execute_result"
    }
   ],
   "source": [
    "ab_array"
   ]
  },
  {
   "cell_type": "code",
   "execution_count": 14,
   "metadata": {},
   "outputs": [
    {
     "name": "stdout",
     "output_type": "stream",
     "text": [
      "[[  6  29 -20]\n",
      " [ 12  52  38]\n",
      " [-18 -51 -48]]\n"
     ]
    }
   ],
   "source": [
    "#スマートなもう一つのやり方。\n",
    "\n",
    "#shape(3,3)じゃないとエラーになる\n",
    "ab_array = np.empty((3,3), int)\n",
    "for i in range(3):\n",
    "    for j in range(3):\n",
    "        #print(i,j)\n",
    "        ab_array[i, j] = np.sum(A[i, :]*B[:, j]) #行列の積を合計し、挿入\n",
    "\n",
    "print(ab_array)"
   ]
  },
  {
   "cell_type": "markdown",
   "metadata": {},
   "source": [
    "## 【課題4】内積をnp.dotで計算しよう\n",
    "【課題3】ではfor文を使うことで、内積を計算していただきましたが、  \n",
    "行列の内積演算の度にこのようにfor文の処理を何回も実装しなくてもはならないのでしょうか？  \n",
    "\n",
    "当然そんなことはなく、実はみなさんがやっていただいた処理はnumpyのメソッドですでに用意されています。  \n",
    "\n",
    "np.dot(A,B)と計算すると、【課題3】で計算していただいたことが一瞬でできます。  \n",
    "\n",
    "np.dot(A,B)を計算して、【課題3】と同じになることを試してください。\n",
    "\n"
   ]
  },
  {
   "cell_type": "code",
   "execution_count": null,
   "metadata": {},
   "outputs": [],
   "source": [
    "np.dot(A,B)"
   ]
  },
  {
   "cell_type": "markdown",
   "metadata": {},
   "source": [
    "## 【課題5】内積ができないときはどうするか\n",
    "以下のような例を考えます。\n",
    "\n",
    "行列A*Bを計算しようとすると、エラーが出て計算できません。なぜエラーが出るのか理由を記載してください。\n",
    "\n",
    "そして、行列A、Bのどちらかにある操作をするとエラーが出ずに計算できます。\n",
    "\n",
    "自分である操作を施し、内積を計算してください。"
   ]
  },
  {
   "cell_type": "code",
   "execution_count": null,
   "metadata": {},
   "outputs": [],
   "source": [
    "A = np.array([-1, 2, 3, 4, -5, 6]).reshape(2, 3)\n",
    "B = np.array([-9, 8, 7, 6, -5, 4]).reshape(2, 3)"
   ]
  },
  {
   "cell_type": "code",
   "execution_count": null,
   "metadata": {},
   "outputs": [],
   "source": [
    "A"
   ]
  },
  {
   "cell_type": "code",
   "execution_count": null,
   "metadata": {},
   "outputs": [],
   "source": [
    "B"
   ]
  },
  {
   "cell_type": "markdown",
   "metadata": {},
   "source": [
    "### エラーが出る理由"
   ]
  },
  {
   "cell_type": "markdown",
   "metadata": {},
   "source": [
    "積を出すためには、左の列数と右の行数が等しくなければならないためエラーが出る。"
   ]
  },
  {
   "cell_type": "code",
   "execution_count": null,
   "metadata": {},
   "outputs": [],
   "source": [
    "#行列数を合わせるためリシェイプ\n",
    "A1 = A.reshape(3,2)\n",
    "A1"
   ]
  },
  {
   "cell_type": "code",
   "execution_count": null,
   "metadata": {},
   "outputs": [],
   "source": [
    "#転置する\n",
    "A.T"
   ]
  },
  {
   "cell_type": "code",
   "execution_count": null,
   "metadata": {},
   "outputs": [],
   "source": [
    "np.dot(A1, B)"
   ]
  },
  {
   "cell_type": "code",
   "execution_count": null,
   "metadata": {},
   "outputs": [],
   "source": []
  }
 ],
 "metadata": {
  "kernelspec": {
   "display_name": "Python 3",
   "language": "python",
   "name": "python3"
  },
  "language_info": {
   "codemirror_mode": {
    "name": "ipython",
    "version": 3
   },
   "file_extension": ".py",
   "mimetype": "text/x-python",
   "name": "python",
   "nbconvert_exporter": "python",
   "pygments_lexer": "ipython3",
   "version": "3.6.8"
  }
 },
 "nbformat": 4,
 "nbformat_minor": 2
}
