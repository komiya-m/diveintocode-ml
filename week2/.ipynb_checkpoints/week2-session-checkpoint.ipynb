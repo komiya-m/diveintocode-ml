{
 "cells": [
  {
   "cell_type": "markdown",
   "metadata": {},
   "source": [
    "# 1.この課題の目的\n",
    "機械学習で使われている勾配降下法の仕組みを知る"
   ]
  },
  {
   "cell_type": "markdown",
   "metadata": {},
   "source": [
    "# 2.富士山から下りたい\n",
    "授業前課題2では「勾配降下法」に触れました。勾配降下法は山や谷を下ることに例えられます。  \n",
    "先週は紙を折って超えることを目指した富士山を、今週は頂上付近から下りていくことにしましょう。  \n",
    "この断面図を見れば低い場所はすぐに分かりますが、あなたは暗闇の中、  \n",
    "赤い点の箇所(x=136)にいるという状況を想像します。足元の傾きしか分からない中で富士山から下りるというプログラムを作っていきましょう。\n",
    "\n"
   ]
  },
  {
   "cell_type": "code",
   "execution_count": 1,
   "metadata": {},
   "outputs": [],
   "source": [
    "# csvjのインポート\n",
    "import numpy as np\n",
    "np.set_printoptions(suppress=True) # 指数表示の禁止を設定する\n",
    "fuji = np.loadtxt(\"week2_session_mtfuji_data.csv\",delimiter=\",\", skiprows=1)"
   ]
  },
  {
   "cell_type": "code",
   "execution_count": 2,
   "metadata": {},
   "outputs": [
    {
     "name": "stdout",
     "output_type": "stream",
     "text": [
      "[[  130.          35.352505   138.756638  2563.4      41888.      ]\n",
      " [  131.          35.35418    138.753742  2703.1      42210.      ]\n",
      " [  132.          35.355855   138.750846  2825.55     42532.      ]\n",
      " [  133.          35.35753    138.74795   2967.9      42854.      ]\n",
      " [  134.          35.359205   138.745054  3087.81     43177.      ]\n",
      " [  135.          35.36088    138.742157  3266.24     43499.      ]\n",
      " [  136.          35.362555   138.739261  3434.59     43821.      ]\n",
      " [  137.          35.36423    138.736364  3600.08     44143.      ]\n",
      " [  138.          35.365904   138.733468  3679.96     44466.      ]\n",
      " [  139.          35.367579   138.730571  3664.9      44788.      ]\n",
      " [  140.          35.369253   138.727674  3567.76     45110.      ]\n",
      " [  141.          35.370928   138.724777  3348.43     45432.      ]\n",
      " [  142.          35.372602   138.72188   3171.53     45754.      ]\n",
      " [  143.          35.374277   138.718982  3019.8      46077.      ]\n",
      " [  144.          35.375951   138.716085  2864.56     46399.      ]\n",
      " [  145.          35.377625   138.713188  2713.03     46721.      ]\n",
      " [  146.          35.379299   138.71029   2566.6      47043.      ]\n",
      " [  147.          35.380973   138.707392  2450.23     47366.      ]\n",
      " [  148.          35.382647   138.704494  2334.42     47688.      ]\n",
      " [  149.          35.384321   138.701596  2240.98     48010.      ]]\n"
     ]
    }
   ],
   "source": [
    "print(fuji[130:150])"
   ]
  },
  {
   "cell_type": "markdown",
   "metadata": {},
   "source": [
    "## 【問題1】断面図の作成\n",
    "前述の断面図をMatplotlibを使い作成してください。x=136の地点の赤い点や矢印も表示させてください。\n",
    "\n",
    "これ以降の問題では下りる過程の可視化を行いますが、その際にはこの断面図を活用してください。"
   ]
  },
  {
   "cell_type": "code",
   "execution_count": 3,
   "metadata": {},
   "outputs": [
    {
     "data": {
      "image/png": "[encoded data removed]",
      "text/plain": [
       "<Figure size 432x288 with 1 Axes>"
      ]
     },
     "metadata": {
      "needs_background": "light"
     },
     "output_type": "display_data"
    }
   ],
   "source": [
    "import matplotlib.pyplot as plt\n",
    "%matplotlib inline\n",
    "\n",
    "plt.xlabel(\"x\")\n",
    "plt.ylabel(\"elevation[m]\")\n",
    "plt.title(\"Mt. Fuji\")\n",
    "plt.plot(fuji[:,0], fuji[:,3],) # プロット\n",
    "plt.plot(fuji[136,0],fuji[136,3],c=\"red\",marker='o') #マーカを入れないと表示されない。\n",
    "plt.annotate( \"you\", xy=(136,fuji[136,3]) , xytext=(80,3000) , arrowprops=dict(facecolor='pink',ArrowStyle=\"Fancy\"))\n",
    "\n",
    "plt.show()"
   ]
  },
  {
   "cell_type": "markdown",
   "metadata": {},
   "source": [
    "## 【問題2】勾配の計算の関数\n",
    "授業前課題では各地点での勾配を最初に求めました。しかし、暗闇の富士山の比喩を考えると、  \n",
    "知ることができるのはあなたがいる地点の勾配だけです。\n",
    "\n",
    "ここでは「あなたが今いる地点x」と「その隣の地点x-1」の関係による勾配を求める関数を作成しましょう。  \n",
    "この関数が返す値を「今いる地点の勾配」として次の問題で作成する関数内で使ってください。\n",
    "\n",
    "勾配は授業前課題で行ったように、以下の計算で求まります。\n",
    "\n",
    "このデータでは「標高（elevation)」がyに相当します。xはそのまま「その地点の番号(x)」です。\n"
   ]
  },
  {
   "cell_type": "code",
   "execution_count": 4,
   "metadata": {},
   "outputs": [
    {
     "data": {
      "text/plain": [
       "168.35000000000036"
      ]
     },
     "execution_count": 4,
     "metadata": {},
     "output_type": "execute_result"
    }
   ],
   "source": [
    "def compute_slope(x):\n",
    "    return (fuji[x,3] - fuji[x-1,3]) / (x-(x-1))\n",
    "\n",
    "compute_slope(136)"
   ]
  },
  {
   "cell_type": "markdown",
   "metadata": {},
   "source": [
    "## 【問題3】勾配降下法の関数を作成\n",
    "授業前課題では説明までとした勾配降下法ですが、これを行う関数を作成してください。\n",
    "\n",
    "数式で表すと 「移動すべき地点 = 今いる地点 - α × 今いる地点の勾配」 となります。\n",
    "\n",
    "この関数を使い、あなたが今いるxが136の地点（標高3434.59[m]）から、  \n",
    "山を下っていきましょう。移動毎の標高はリストに記録し、その過程を可視化してください。  \n",
    "断面図を目視したり、読み込んだ数値を確認して分かることと比べてどうなっているでしょうか。\n",
    "\n",
    "実装上の注意\n",
    "\n",
    "移動すべき地点は基本的には少数となりますが、勾配の情報は整数値の場所でしか得られません。  \n",
    "そのため、四捨五入により整数値に変換する必要があります。\n",
    "\n",
    "可視化のヒント\n",
    "\n",
    "断面図の中に点を表示したり、繰り返し毎の標高や勾配を折れ線グラフで見てみることができます。\n",
    "\n",
    "αの補足  \n",
    "\n",
    "αは0より大きい任意の値をとるハイパーパラメータです。機械学習の分野では学習率という名前で呼ばれます。  \n",
    "この値によって下り方が変わりますから、関数の引数にしてください。複数試し、うまく下りられる   \n",
    "α の値を見つけましょう。\n",
    "\n",
    "初期値の補足\n",
    "\n",
    "最初に居たx=136の地点のことを初期値と呼びます。この初期値によってどこに下っていくかが変わりますから、これも関数の引数にしてください。\n",
    "\n"
   ]
  },
  {
   "cell_type": "code",
   "execution_count": 5,
   "metadata": {},
   "outputs": [],
   "source": [
    "# int version\n",
    "\n",
    "def gradient_descent(x, alpha):\n",
    "    slope = compute_slope(x)\n",
    "    y = fuji[x,3]\n",
    "    y_array =  np.array([y])\n",
    "    \n",
    "    while slope > 0:\n",
    "        slope = compute_slope(x)\n",
    "        x -= alpha * slope\n",
    "        x = int(x)\n",
    "        y = fuji[x,3]\n",
    "        y_array =  np.append(y_array,y)\n",
    "        \n",
    "    return x, y_array"
   ]
  },
  {
   "cell_type": "code",
   "execution_count": 6,
   "metadata": {},
   "outputs": [
    {
     "data": {
      "text/plain": [
       "72"
      ]
     },
     "execution_count": 6,
     "metadata": {},
     "output_type": "execute_result"
    }
   ],
   "source": [
    "x, y_array = gradient_descent(136, 0.01)\n",
    "x"
   ]
  },
  {
   "cell_type": "code",
   "execution_count": 7,
   "metadata": {},
   "outputs": [
    {
     "data": {
      "text/plain": [
       "array([3434.59, 3087.81, 2825.55, 2563.4 , 2306.85, 2076.15, 1850.02,\n",
       "       1781.98, 1726.5 , 1659.43, 1598.36, 1561.94, 1506.66, 1429.75,\n",
       "       1360.1 , 1292.52, 1239.97, 1219.86, 1166.58, 1105.8 , 1059.69,\n",
       "       1034.34, 1000.24,  973.32,  932.74,  910.5 ,  883.89,  858.62,\n",
       "        817.62,  795.25,  772.58,  753.68,  741.17,  725.72,  700.15,\n",
       "        672.36,  660.43,  631.71,  613.04,  602.36,  588.99,  575.07,\n",
       "        553.64,  536.54,  519.54,  505.1 ,  488.4 ,  471.82,  458.66,\n",
       "        443.  ,  420.6 ,  418.41,  390.14,  386.64,  377.62,  371.19,\n",
       "        371.04,  368.91,  355.68,  355.68])"
      ]
     },
     "execution_count": 7,
     "metadata": {},
     "output_type": "execute_result"
    }
   ],
   "source": [
    "y_array"
   ]
  },
  {
   "cell_type": "code",
   "execution_count": 8,
   "metadata": {},
   "outputs": [
    {
     "data": {
      "image/png": "[encoded data removed]",
      "text/plain": [
       "<Figure size 432x288 with 1 Axes>"
      ]
     },
     "metadata": {
      "needs_background": "light"
     },
     "output_type": "display_data"
    }
   ],
   "source": [
    "plt.plot(y_array)\n",
    "plt.show()"
   ]
  },
  {
   "cell_type": "code",
   "execution_count": 9,
   "metadata": {},
   "outputs": [],
   "source": [
    "# round version\n",
    "\n",
    "round=lambda x:(x*2+1)//2\n",
    "\n",
    "\n",
    "def gradient_descent2(x, alpha):\n",
    "    slope = compute_slope(x)\n",
    "    y = fuji[x,3]\n",
    "    y_array =  np.array([y])\n",
    "    \n",
    "    #勾配がプラスの場合\n",
    "    if slope > 0:\n",
    "        while True:\n",
    "            slope = compute_slope(x)\n",
    "            if slope > 0:\n",
    "                x -= alpha * slope\n",
    "                x = int(round(x))\n",
    "                y = fuji[x,3]\n",
    "                y_array =  np.append(y_array,y)\n",
    "            else:\n",
    "                return x, y_array\n",
    "            \n",
    "    #勾配がマイナスの場合\n",
    "    else:\n",
    "        while True:\n",
    "            slope = compute_slope(x)\n",
    "            if slope < 0:\n",
    "                x -= alpha * slope\n",
    "                x = int(round(x))\n",
    "                y = fuji[x,3]\n",
    "                y_array =  np.append(y_array,y)\n",
    "            else:\n",
    "                return x, y_array"
   ]
  },
  {
   "cell_type": "code",
   "execution_count": 10,
   "metadata": {},
   "outputs": [
    {
     "data": {
      "text/plain": [
       "72"
      ]
     },
     "execution_count": 10,
     "metadata": {},
     "output_type": "execute_result"
    }
   ],
   "source": [
    "x2, y_array2 = gradient_descent2(136, 0.25)\n",
    "x2"
   ]
  },
  {
   "cell_type": "code",
   "execution_count": 11,
   "metadata": {},
   "outputs": [
    {
     "data": {
      "text/plain": [
       "array([3434.59,  660.43,  536.54,  471.82,  420.6 ,  418.41,  355.68])"
      ]
     },
     "execution_count": 11,
     "metadata": {},
     "output_type": "execute_result"
    }
   ],
   "source": [
    "y_array2"
   ]
  },
  {
   "cell_type": "code",
   "execution_count": 12,
   "metadata": {},
   "outputs": [
    {
     "data": {
      "image/png": "[encoded data removed]",
      "text/plain": [
       "<Figure size 432x288 with 1 Axes>"
      ]
     },
     "metadata": {
      "needs_background": "light"
     },
     "output_type": "display_data"
    }
   ],
   "source": [
    "plt.plot(y_array2)\n",
    "plt.show()"
   ]
  },
  {
   "cell_type": "markdown",
   "metadata": {},
   "source": [
    "## 【問題4】初期値の変更\n",
    "ここまでの問題では最初のxを136としましたが、xの初期値を変更すると結果が変化します。特にxを139より大きい値にすると、富士山の反対側の斜面を下りていくことになります。\n",
    "\n",
    "そういった初期値を設定した上で、移動毎の標高はリストに記録し、その過程を可視化してください。"
   ]
  },
  {
   "cell_type": "code",
   "execution_count": 13,
   "metadata": {},
   "outputs": [
    {
     "data": {
      "text/plain": [
       "185"
      ]
     },
     "execution_count": 13,
     "metadata": {},
     "output_type": "execute_result"
    }
   ],
   "source": [
    "x3, y_array3 = gradient_descent2(140, 0.17)\n",
    "x3"
   ]
  },
  {
   "cell_type": "code",
   "execution_count": 14,
   "metadata": {},
   "outputs": [
    {
     "data": {
      "text/plain": [
       "array([3567.76, 1623.73, 1259.24, 1201.31, 1095.73, 1043.91, 1033.52,\n",
       "        993.63, 1094.28])"
      ]
     },
     "execution_count": 14,
     "metadata": {},
     "output_type": "execute_result"
    }
   ],
   "source": [
    "y_array3"
   ]
  },
  {
   "cell_type": "code",
   "execution_count": 15,
   "metadata": {},
   "outputs": [
    {
     "data": {
      "image/png": "[encoded data removed]",
      "text/plain": [
       "<Figure size 432x288 with 1 Axes>"
      ]
     },
     "metadata": {
      "needs_background": "light"
     },
     "output_type": "display_data"
    }
   ],
   "source": [
    "plt.plot(y_array3)\n",
    "plt.show()"
   ]
  },
  {
   "cell_type": "markdown",
   "metadata": {},
   "source": [
    "## 【問題5】（アドバンス課題）並列計算\n",
    "初期値によって結果が変化するわけですから、0から299まで全ての  \n",
    "初期値の計算を行ってみるということを考えられます。\n",
    "\n",
    "for文を使い繰り返すこともできますが、NumPyの配列を工夫して使うことで複数の計算を同時に行うことができます。  \n",
    "ここまで作成した関数を複数の初期値が同時に計算できるように改良してください。\n",
    "\n",
    "この改良は次のハイパーパラメータの検証にも応用することができます。\n",
    "\n",
    "ヒント\n",
    "\n",
    "NumPyは配列間で四則演算などの操作が可能です。以下のサンプルコードの3行目と4行目の挙動を参考にしてください。  \n",
    "特に4行目の計算はブロードキャストと呼ばれるNumPy独特の機能であるため、各自でも調査してください。"
   ]
  },
  {
   "cell_type": "code",
   "execution_count": 37,
   "metadata": {},
   "outputs": [],
   "source": [
    "# round version\n",
    "\n",
    "round=lambda x:(x*2+1)//2\n",
    "\n",
    "\n",
    "def gradient_descent3(x, alpha):\n",
    "    slope = compute_slope(x)\n",
    "   #y = np.empty((2,2), float)\n",
    "    y_array = fuji[x,3].reshape(2,1)\n",
    "    \n",
    "    for _ in range(20):\n",
    "        slope = compute_slope(x)\n",
    "        #print(x)\n",
    "        #print(slope)\n",
    "        x = x - alpha * slope\n",
    "        #print(x)\n",
    "        x = round(x)\n",
    "        x = x.astype(np.int64)\n",
    "        #print(x)\n",
    "        y = fuji[x,3]\n",
    "        #print(y)\n",
    "        y = y.reshape(2,1)\n",
    "       # print(y)\n",
    "        y_array =  np.concatenate((y_array,y),axis=1)\n",
    "        #print(y_array)\n",
    "            \n",
    "    return x, y_array"
   ]
  },
  {
   "cell_type": "code",
   "execution_count": 38,
   "metadata": {
    "scrolled": true
   },
   "outputs": [],
   "source": [
    "x = np.array([136,140])\n",
    "\n",
    "x4, y_array4 = gradient_descent3(x,0.2)"
   ]
  },
  {
   "cell_type": "code",
   "execution_count": 39,
   "metadata": {},
   "outputs": [
    {
     "data": {
      "text/plain": [
       "array([[3434.59,  817.62,  741.17,  672.36,  631.71,  575.07,  505.1 ,\n",
       "         458.66,  418.41,  368.91,  412.27,  390.14,  386.64,  371.19,\n",
       "         371.19,  371.19,  371.19,  371.19,  371.19,  371.19,  371.19],\n",
       "       [3567.76, 1525.57, 1095.73, 1033.52,  993.63, 1203.92, 1306.46,\n",
       "        1182.32, 1081.07, 1049.33, 1043.91, 1033.52,  993.63, 1203.92,\n",
       "        1306.46, 1182.32, 1081.07, 1049.33, 1043.91, 1033.52,  993.63]])"
      ]
     },
     "execution_count": 39,
     "metadata": {},
     "output_type": "execute_result"
    }
   ],
   "source": [
    "y_array4"
   ]
  },
  {
   "cell_type": "code",
   "execution_count": 40,
   "metadata": {},
   "outputs": [
    {
     "data": {
      "text/plain": [
       "array([ 75, 180])"
      ]
     },
     "execution_count": 40,
     "metadata": {},
     "output_type": "execute_result"
    }
   ],
   "source": [
    "x4"
   ]
  },
  {
   "cell_type": "code",
   "execution_count": 41,
   "metadata": {},
   "outputs": [
    {
     "data": {
      "image/png": "[encoded data removed]",
      "text/plain": [
       "<Figure size 432x288 with 1 Axes>"
      ]
     },
     "metadata": {
      "needs_background": "light"
     },
     "output_type": "display_data"
    }
   ],
   "source": [
    "plt.plot(y_array4[0])\n",
    "plt.plot(y_array4[1])\n",
    "plt.show()"
   ]
  },
  {
   "cell_type": "code",
   "execution_count": null,
   "metadata": {},
   "outputs": [],
   "source": []
  }
 ],
 "metadata": {
  "kernelspec": {
   "display_name": "Python 3",
   "language": "python",
   "name": "python3"
  },
  "language_info": {
   "codemirror_mode": {
    "name": "ipython",
    "version": 3
   },
   "file_extension": ".py",
   "mimetype": "text/x-python",
   "name": "python",
   "nbconvert_exporter": "python",
   "pygments_lexer": "ipython3",
   "version": "3.6.8"
  }
 },
 "nbformat": 4,
 "nbformat_minor": 2
}
