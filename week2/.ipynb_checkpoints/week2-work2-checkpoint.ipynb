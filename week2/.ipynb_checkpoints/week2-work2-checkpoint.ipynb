{
 "cells": [
  {
   "cell_type": "markdown",
   "metadata": {},
   "source": [
    "# 1.この課題の目的\n",
    "数式演算ライブラリのnumpyに慣れる。  \n",
    "機械学習に必須な微分について理解する。  \n"
   ]
  },
  {
   "cell_type": "markdown",
   "metadata": {},
   "source": [
    "## 【課題1】1次元配列を作ろう\n",
    "0~1の範囲で0.01ごとにデータをnumpy配列で作成してください。  \n",
    "データは[0, 0.01, 0.02・・・0.98, 0.99, 1]という形式の配列になります。"
   ]
  },
  {
   "cell_type": "code",
   "execution_count": 1,
   "metadata": {},
   "outputs": [],
   "source": [
    "import numpy as np\n",
    "#start, stop, num=生成数　\n",
    "data = np.linspace(0, 1, num=101, endpoint = True) # endpoint 1を要素に含む配列(ndarray)を返す。デフォルト。"
   ]
  },
  {
   "cell_type": "code",
   "execution_count": 2,
   "metadata": {},
   "outputs": [
    {
     "data": {
      "text/plain": [
       "array([0.  , 0.01, 0.02, 0.03, 0.04, 0.05, 0.06, 0.07, 0.08, 0.09, 0.1 ,\n",
       "       0.11, 0.12, 0.13, 0.14, 0.15, 0.16, 0.17, 0.18, 0.19, 0.2 , 0.21,\n",
       "       0.22, 0.23, 0.24, 0.25, 0.26, 0.27, 0.28, 0.29, 0.3 , 0.31, 0.32,\n",
       "       0.33, 0.34, 0.35, 0.36, 0.37, 0.38, 0.39, 0.4 , 0.41, 0.42, 0.43,\n",
       "       0.44, 0.45, 0.46, 0.47, 0.48, 0.49, 0.5 , 0.51, 0.52, 0.53, 0.54,\n",
       "       0.55, 0.56, 0.57, 0.58, 0.59, 0.6 , 0.61, 0.62, 0.63, 0.64, 0.65,\n",
       "       0.66, 0.67, 0.68, 0.69, 0.7 , 0.71, 0.72, 0.73, 0.74, 0.75, 0.76,\n",
       "       0.77, 0.78, 0.79, 0.8 , 0.81, 0.82, 0.83, 0.84, 0.85, 0.86, 0.87,\n",
       "       0.88, 0.89, 0.9 , 0.91, 0.92, 0.93, 0.94, 0.95, 0.96, 0.97, 0.98,\n",
       "       0.99, 1.  ])"
      ]
     },
     "execution_count": 2,
     "metadata": {},
     "output_type": "execute_result"
    }
   ],
   "source": [
    "data"
   ]
  },
  {
   "cell_type": "code",
   "execution_count": 3,
   "metadata": {},
   "outputs": [
    {
     "data": {
      "text/plain": [
       "array([0.  , 0.01, 0.02, 0.03, 0.04, 0.05, 0.06, 0.07, 0.08, 0.09, 0.1 ,\n",
       "       0.11, 0.12, 0.13, 0.14, 0.15, 0.16, 0.17, 0.18, 0.19, 0.2 , 0.21,\n",
       "       0.22, 0.23, 0.24, 0.25, 0.26, 0.27, 0.28, 0.29, 0.3 , 0.31, 0.32,\n",
       "       0.33, 0.34, 0.35, 0.36, 0.37, 0.38, 0.39, 0.4 , 0.41, 0.42, 0.43,\n",
       "       0.44, 0.45, 0.46, 0.47, 0.48, 0.49, 0.5 , 0.51, 0.52, 0.53, 0.54,\n",
       "       0.55, 0.56, 0.57, 0.58, 0.59, 0.6 , 0.61, 0.62, 0.63, 0.64, 0.65,\n",
       "       0.66, 0.67, 0.68, 0.69, 0.7 , 0.71, 0.72, 0.73, 0.74, 0.75, 0.76,\n",
       "       0.77, 0.78, 0.79, 0.8 , 0.81, 0.82, 0.83, 0.84, 0.85, 0.86, 0.87,\n",
       "       0.88, 0.89, 0.9 , 0.91, 0.92, 0.93, 0.94, 0.95, 0.96, 0.97, 0.98,\n",
       "       0.99, 1.  ])"
      ]
     },
     "execution_count": 3,
     "metadata": {},
     "output_type": "execute_result"
    }
   ],
   "source": [
    "np.arange(0, 1.01, 0.01, dtype = 'float') #arangeでも作れる"
   ]
  },
  {
   "cell_type": "markdown",
   "metadata": {},
   "source": [
    "## 【課題2】2次元配列を作ろう\n",
    "以下のような単純な \n",
    "$y=\\frac{1}{2}x+1$\n",
    " の関数について考えます。  \n",
    " xの範囲を[0,1]、xの刻み幅を0.01としてyの値を計算しなさい。  \n",
    " そして計算結果をnumpy配列の0列目にx、1列目にyの値がくるように2次元のarrayで表現しなさい。  \n",
    "計算する際は、上の【課題1】で作成したnumpy配列を用いること。"
   ]
  },
  {
   "cell_type": "code",
   "execution_count": 4,
   "metadata": {},
   "outputs": [
    {
     "data": {
      "text/plain": [
       "array([1.   , 1.005, 1.01 , 1.015, 1.02 , 1.025, 1.03 , 1.035, 1.04 ,\n",
       "       1.045, 1.05 , 1.055, 1.06 , 1.065, 1.07 , 1.075, 1.08 , 1.085,\n",
       "       1.09 , 1.095, 1.1  , 1.105, 1.11 , 1.115, 1.12 , 1.125, 1.13 ,\n",
       "       1.135, 1.14 , 1.145, 1.15 , 1.155, 1.16 , 1.165, 1.17 , 1.175,\n",
       "       1.18 , 1.185, 1.19 , 1.195, 1.2  , 1.205, 1.21 , 1.215, 1.22 ,\n",
       "       1.225, 1.23 , 1.235, 1.24 , 1.245, 1.25 , 1.255, 1.26 , 1.265,\n",
       "       1.27 , 1.275, 1.28 , 1.285, 1.29 , 1.295, 1.3  , 1.305, 1.31 ,\n",
       "       1.315, 1.32 , 1.325, 1.33 , 1.335, 1.34 , 1.345, 1.35 , 1.355,\n",
       "       1.36 , 1.365, 1.37 , 1.375, 1.38 , 1.385, 1.39 , 1.395, 1.4  ,\n",
       "       1.405, 1.41 , 1.415, 1.42 , 1.425, 1.43 , 1.435, 1.44 , 1.445,\n",
       "       1.45 , 1.455, 1.46 , 1.465, 1.47 , 1.475, 1.48 , 1.485, 1.49 ,\n",
       "       1.495, 1.5  ])"
      ]
     },
     "execution_count": 4,
     "metadata": {},
     "output_type": "execute_result"
    }
   ],
   "source": [
    "x = data\n",
    "y = 1/2*x+1 #ブロードキャストを使用しarray生成\n",
    "y"
   ]
  },
  {
   "cell_type": "code",
   "execution_count": 5,
   "metadata": {},
   "outputs": [
    {
     "data": {
      "text/plain": [
       "array([[0.   , 0.01 , 0.02 , 0.03 , 0.04 , 0.05 , 0.06 , 0.07 , 0.08 ,\n",
       "        0.09 , 0.1  , 0.11 , 0.12 , 0.13 , 0.14 , 0.15 , 0.16 , 0.17 ,\n",
       "        0.18 , 0.19 , 0.2  , 0.21 , 0.22 , 0.23 , 0.24 , 0.25 , 0.26 ,\n",
       "        0.27 , 0.28 , 0.29 , 0.3  , 0.31 , 0.32 , 0.33 , 0.34 , 0.35 ,\n",
       "        0.36 , 0.37 , 0.38 , 0.39 , 0.4  , 0.41 , 0.42 , 0.43 , 0.44 ,\n",
       "        0.45 , 0.46 , 0.47 , 0.48 , 0.49 , 0.5  , 0.51 , 0.52 , 0.53 ,\n",
       "        0.54 , 0.55 , 0.56 , 0.57 , 0.58 , 0.59 , 0.6  , 0.61 , 0.62 ,\n",
       "        0.63 , 0.64 , 0.65 , 0.66 , 0.67 , 0.68 , 0.69 , 0.7  , 0.71 ,\n",
       "        0.72 , 0.73 , 0.74 , 0.75 , 0.76 , 0.77 , 0.78 , 0.79 , 0.8  ,\n",
       "        0.81 , 0.82 , 0.83 , 0.84 , 0.85 , 0.86 , 0.87 , 0.88 , 0.89 ,\n",
       "        0.9  , 0.91 , 0.92 , 0.93 , 0.94 , 0.95 , 0.96 , 0.97 , 0.98 ,\n",
       "        0.99 , 1.   ],\n",
       "       [1.   , 1.005, 1.01 , 1.015, 1.02 , 1.025, 1.03 , 1.035, 1.04 ,\n",
       "        1.045, 1.05 , 1.055, 1.06 , 1.065, 1.07 , 1.075, 1.08 , 1.085,\n",
       "        1.09 , 1.095, 1.1  , 1.105, 1.11 , 1.115, 1.12 , 1.125, 1.13 ,\n",
       "        1.135, 1.14 , 1.145, 1.15 , 1.155, 1.16 , 1.165, 1.17 , 1.175,\n",
       "        1.18 , 1.185, 1.19 , 1.195, 1.2  , 1.205, 1.21 , 1.215, 1.22 ,\n",
       "        1.225, 1.23 , 1.235, 1.24 , 1.245, 1.25 , 1.255, 1.26 , 1.265,\n",
       "        1.27 , 1.275, 1.28 , 1.285, 1.29 , 1.295, 1.3  , 1.305, 1.31 ,\n",
       "        1.315, 1.32 , 1.325, 1.33 , 1.335, 1.34 , 1.345, 1.35 , 1.355,\n",
       "        1.36 , 1.365, 1.37 , 1.375, 1.38 , 1.385, 1.39 , 1.395, 1.4  ,\n",
       "        1.405, 1.41 , 1.415, 1.42 , 1.425, 1.43 , 1.435, 1.44 , 1.445,\n",
       "        1.45 , 1.455, 1.46 , 1.465, 1.47 , 1.475, 1.48 , 1.485, 1.49 ,\n",
       "        1.495, 1.5  ]])"
      ]
     },
     "execution_count": 5,
     "metadata": {},
     "output_type": "execute_result"
    }
   ],
   "source": [
    "z = np.vstack((x,y))  #xとyを結合\n",
    "#appendを使うとlistのなかにarrayが二つある形になってしまう\n",
    "#(x,y)は引数が一個なので、タプルで渡している。\n",
    "z"
   ]
  },
  {
   "cell_type": "code",
   "execution_count": 6,
   "metadata": {},
   "outputs": [],
   "source": [
    "#以下forを使ったやり方\n",
    "#空のarrayを作成し、[x,y]を追加していく\n",
    "#注意追加前の配列と追加後の配列のshapeが一致していないとエラーが発生\n",
    "\n",
    "data1 = np.empty((0,2), float)\n",
    "\n",
    "for x in data:\n",
    "    y = 1 / 2 * x + 1  \n",
    "    data1 = np.append(data1, [[x, y]], axis=0) #axis=1だと一次元配列で返る\n",
    "    #data1 = np.append(data1, np.array([[x, y]]), axis=0) 別の記述"
   ]
  },
  {
   "cell_type": "code",
   "execution_count": 7,
   "metadata": {},
   "outputs": [],
   "source": [
    "#別の空のarray作成方法\n",
    "data2 = np.array([]).reshape((0, 2))\n",
    "\n",
    "for x in data:\n",
    "    y = 1 / 2 * x + 1\n",
    "    data2 = np.append(data2, [[x, y]], axis = 0)"
   ]
  },
  {
   "cell_type": "markdown",
   "metadata": {},
   "source": [
    "## 【課題3】勾配を求めよう\n",
    "機械学習では関数の勾配がとても重要です。関数の勾配を求める考えを知っておくことは  \n",
    "この4ヵ月の間で一番重要かもしれません。  \n",
    "関数の勾配とは、中学数学でいう所の「傾き」です。これ以降は言葉を勾配で統一します。  \n",
    "勾配を求める公式は以下で表現されることを思い出しましょう。  \n",
    "\n",
    "$\\frac{yの変化量}{xの変化量}$　　\n",
    "\n",
    "上の公式を使って、各x座標における勾配を求めてください。  \n",
    "ここでも上の【課題1】で作成したnumpy配列を用いて計算してください。(1次元のlist等に変換しないこと)  \n",
    "\n",
    "注意\n",
    "\n",
    "厳密に各点における勾配を求めるには極限（微分）を利用する必要がありますが、  \n",
    "ここでは各x座標=隣り合うx座標の間隔だと思ってください。  \n",
    "勾配はx座標の間隔を使うので、xの点の数に対して一つ少なくなります。  \n",
    "普通に求めると99個の勾配が出てきますが、残りの一つの勾配は、自分で考えて値を埋めてください。\n"
   ]
  },
  {
   "cell_type": "code",
   "execution_count": 8,
   "metadata": {},
   "outputs": [
    {
     "ename": "TypeError",
     "evalue": "object of type 'numpy.float64' has no len()",
     "output_type": "error",
     "traceback": [
      "\u001b[0;31m---------------------------------------------------------------------------\u001b[0m",
      "\u001b[0;31mTypeError\u001b[0m                                 Traceback (most recent call last)",
      "\u001b[0;32m<ipython-input-8-48c853c42408>\u001b[0m in \u001b[0;36m<module>\u001b[0;34m\u001b[0m\n\u001b[1;32m      1\u001b[0m \u001b[0mcount\u001b[0m \u001b[0;34m=\u001b[0m \u001b[0;36m0\u001b[0m\u001b[0;34m\u001b[0m\u001b[0;34m\u001b[0m\u001b[0m\n\u001b[1;32m      2\u001b[0m \u001b[0;34m\u001b[0m\u001b[0m\n\u001b[0;32m----> 3\u001b[0;31m \u001b[0;32mfor\u001b[0m \u001b[0m_\u001b[0m \u001b[0;32min\u001b[0m \u001b[0mrange\u001b[0m\u001b[0;34m(\u001b[0m\u001b[0mlen\u001b[0m\u001b[0;34m(\u001b[0m\u001b[0mx\u001b[0m\u001b[0;34m)\u001b[0m\u001b[0;34m-\u001b[0m\u001b[0;36m1\u001b[0m\u001b[0;34m)\u001b[0m\u001b[0;34m:\u001b[0m\u001b[0;34m\u001b[0m\u001b[0;34m\u001b[0m\u001b[0m\n\u001b[0m\u001b[1;32m      4\u001b[0m     \u001b[0ma\u001b[0m \u001b[0;34m=\u001b[0m \u001b[0;34m(\u001b[0m\u001b[0my\u001b[0m\u001b[0;34m[\u001b[0m\u001b[0mcount\u001b[0m\u001b[0;34m+\u001b[0m\u001b[0;36m1\u001b[0m\u001b[0;34m]\u001b[0m\u001b[0;34m-\u001b[0m\u001b[0my\u001b[0m\u001b[0;34m[\u001b[0m\u001b[0mcount\u001b[0m\u001b[0;34m]\u001b[0m\u001b[0;34m)\u001b[0m \u001b[0;34m/\u001b[0m \u001b[0;34m(\u001b[0m\u001b[0mx\u001b[0m\u001b[0;34m[\u001b[0m\u001b[0mcount\u001b[0m\u001b[0;34m+\u001b[0m\u001b[0;36m1\u001b[0m\u001b[0;34m]\u001b[0m\u001b[0;34m-\u001b[0m\u001b[0mx\u001b[0m\u001b[0;34m[\u001b[0m\u001b[0mcount\u001b[0m\u001b[0;34m]\u001b[0m\u001b[0;34m)\u001b[0m\u001b[0;34m\u001b[0m\u001b[0;34m\u001b[0m\u001b[0m\n\u001b[1;32m      5\u001b[0m     \u001b[0mcount\u001b[0m \u001b[0;34m+=\u001b[0m \u001b[0;36m1\u001b[0m\u001b[0;34m\u001b[0m\u001b[0;34m\u001b[0m\u001b[0m\n",
      "\u001b[0;31mTypeError\u001b[0m: object of type 'numpy.float64' has no len()"
     ]
    }
   ],
   "source": [
    "count = 0\n",
    "\n",
    "for _ in range(len(x)-1):\n",
    "    a = (y[count+1]-y[count]) / (x[count+1]-x[count])\n",
    "    count += 1\n",
    "    print(\"x\"+str(count)+\"の勾配は\"+str(round(a,1)))\n",
    "\n",
    "#print(count)"
   ]
  },
  {
   "cell_type": "markdown",
   "metadata": {},
   "source": [
    "#### x0の勾配は０です。"
   ]
  },
  {
   "cell_type": "markdown",
   "metadata": {},
   "source": [
    "## 【課題4】配列、勾配、グラフを作ろう\n",
    "上の【課題2】、【課題3】で行ったことを   \n",
    "$y=x^2$\n",
    " についてもやってみましょう。(xの範囲は[0,1]です。)  \n",
    "\n",
    "さらに、求めた勾配をMatplotlibを用いてグラフで描画してください。\n",
    "\n"
   ]
  },
  {
   "cell_type": "code",
   "execution_count": 14,
   "metadata": {},
   "outputs": [],
   "source": [
    "x = np.linspace(0, 1, 101)\n",
    "#print(x)\n",
    "y = x**2 #ブロードキャストを使用しarray生成\n",
    "#print(y)\n",
    "z = np.vstack((x, y))\n",
    "#print(z)\n",
    "\n",
    "count = 0\n",
    "a_data = np.empty((0,1), float) #勾配のarray作成\n",
    "\n",
    "for _ in range(len(x)-1):\n",
    "    a = (y[count+1]-y[count]) / (x[count+1]-x[count])\n",
    "    a_data = np.append(a_data, [a]) #計算した勾配をappendしていく\n",
    "    count += 1\n",
    "    #print(\"x\"+str(count)+\"の勾配は\"+str(a))\n",
    "\n",
    "a_data = np.insert(a_data, 0, 0) #x0の勾配をarrayの先頭に追加"
   ]
  },
  {
   "cell_type": "code",
   "execution_count": 15,
   "metadata": {},
   "outputs": [
    {
     "data": {
      "text/plain": [
       "array([0.  , 0.01, 0.03, 0.05, 0.07, 0.09, 0.11, 0.13, 0.15, 0.17, 0.19,\n",
       "       0.21, 0.23, 0.25, 0.27, 0.29, 0.31, 0.33, 0.35, 0.37, 0.39, 0.41,\n",
       "       0.43, 0.45, 0.47, 0.49, 0.51, 0.53, 0.55, 0.57, 0.59, 0.61, 0.63,\n",
       "       0.65, 0.67, 0.69, 0.71, 0.73, 0.75, 0.77, 0.79, 0.81, 0.83, 0.85,\n",
       "       0.87, 0.89, 0.91, 0.93, 0.95, 0.97, 0.99, 1.01, 1.03, 1.05, 1.07,\n",
       "       1.09, 1.11, 1.13, 1.15, 1.17, 1.19, 1.21, 1.23, 1.25, 1.27, 1.29,\n",
       "       1.31, 1.33, 1.35, 1.37, 1.39, 1.41, 1.43, 1.45, 1.47, 1.49, 1.51,\n",
       "       1.53, 1.55, 1.57, 1.59, 1.61, 1.63, 1.65, 1.67, 1.69, 1.71, 1.73,\n",
       "       1.75, 1.77, 1.79, 1.81, 1.83, 1.85, 1.87, 1.89, 1.91, 1.93, 1.95,\n",
       "       1.97, 1.99])"
      ]
     },
     "execution_count": 15,
     "metadata": {},
     "output_type": "execute_result"
    }
   ],
   "source": [
    "a_data"
   ]
  },
  {
   "cell_type": "code",
   "execution_count": 16,
   "metadata": {},
   "outputs": [
    {
     "data": {
      "image/png": "[encoded data removed]",
      "text/plain": [
       "<Figure size 432x288 with 1 Axes>"
      ]
     },
     "metadata": {
      "needs_background": "light"
     },
     "output_type": "display_data"
    }
   ],
   "source": [
    "#勾配をグラフで描画\n",
    "\n",
    "import matplotlib.pyplot as plt\n",
    "%matplotlib inline\n",
    "\n",
    "plt.plot(a_data)\n",
    "plt.show()"
   ]
  },
  {
   "cell_type": "markdown",
   "metadata": {},
   "source": [
    "## 【課題5】最小値の求め方を説明しよう\n",
    "上で求めた勾配を使用して、$y=x^2$  \n",
    " の最小値を求めるにはどうしたらいいでしょうか？   \n",
    "例えば谷を降りる例を考えましょう。この場合、坂の傾きの方向に  \n",
    "歩いていけば谷の最下点（最小値）にたどり着くことは直感的にわかると思います。  \n",
    "要するに、谷の現在地から最下点にたどり着くには、歩くたびにその地点での  \n",
    "勾配を求めてその方向に進んでいくということを繰り返して行けば良いわけです。  \n",
    "このように谷の最小値を求めるために、地道に現在地の勾配を計算し、  \n",
    "その方向に進んでいく方法を勾配降下法と言います。当然最下点に近くにつれ、  \n",
    "坂の傾斜は緩やかになるので、勾配もだんだんと0に近づいて行きます。  \n",
    "今回は谷の例で考えましたが、谷の形が複雑な数式で表現されるような関数であっても同じことです。  \n",
    "\n",
    "上記を参考に、勾配を使用して  \n",
    "$y=x^2$   \n",
    " の最小値の求める方法を説明してください。  \n",
    "勾配降下法というワードを使用して、記述してください。  \n",
    "実装ではなく、アルゴリズムのフローチャートを記述してください。図でも文章でもどちらでも構いません。  "
   ]
  },
  {
   "cell_type": "markdown",
   "metadata": {},
   "source": [
    "#### ⑴記述 "
   ]
  },
  {
   "cell_type": "markdown",
   "metadata": {},
   "source": [
    "勾配降下法とは、「ある関数について、その値が最小となるようなパラメータ（係数）を見つけ出す方法。  \n",
    "関数が為す谷（勾配）の谷底方向に進むようにパラメータを更新していくことで目的パラメータを発見する。」  \n"
   ]
  },
  {
   "cell_type": "code",
   "execution_count": 34,
   "metadata": {},
   "outputs": [
    {
     "data": {
      "image/png": "[encoded data removed]"
     },
     "metadata": {},
     "output_type": "display_data"
    }
   ],
   "source": [
    "from IPython.display import Image, display_png\n",
    "display_png(Image(\"week2-gazou.png\"))"
   ]
  },
  {
   "cell_type": "code",
   "execution_count": 86,
   "metadata": {},
   "outputs": [
    {
     "name": "stdout",
     "output_type": "stream",
     "text": [
      "0\n",
      "0\n",
      "0\n"
     ]
    }
   ],
   "source": [
    "# i = index d = data 、enumerateを使うとindexを取得できる\n",
    "for i, d in enumerate(a_data):\n",
    "    a = d\n",
    "    if a == 0:\n",
    "        index = i\n",
    "\n",
    "print(index)\n",
    "print(x[index])\n",
    "print(y[index])"
   ]
  },
  {
   "cell_type": "markdown",
   "metadata": {},
   "source": [
    "## 【課題6】最小値を求めよう\n",
    "最後に具体例を計算してもらって締めくくりとしましょう！\n",
    "\n",
    "$y = x^2 + 5x$\n",
    " の最小値を勾配降下法ではなく、微分法を使って求めてください"
   ]
  },
  {
   "cell_type": "markdown",
   "metadata": {},
   "source": [
    "y' = 2x + 5 \n",
    "下記範囲の場合は最小値、x=0 y=0"
   ]
  },
  {
   "cell_type": "code",
   "execution_count": 87,
   "metadata": {},
   "outputs": [],
   "source": [
    "def get_d(x):\n",
    "    d = 2*x + 5\n",
    "    return d\n",
    "\n",
    "x = np.arange(11)\n",
    "y = x*x + 5*x\n",
    "d = get_d(x)\n"
   ]
  },
  {
   "cell_type": "code",
   "execution_count": 84,
   "metadata": {},
   "outputs": [
    {
     "data": {
      "text/plain": [
       "[<matplotlib.lines.Line2D at 0x11faf6828>]"
      ]
     },
     "execution_count": 84,
     "metadata": {},
     "output_type": "execute_result"
    },
    {
     "data": {
      "image/png": "[encoded data removed]",
      "text/plain": [
       "<Figure size 432x288 with 1 Axes>"
      ]
     },
     "metadata": {
      "needs_background": "light"
     },
     "output_type": "display_data"
    }
   ],
   "source": [
    "plt.plot(x,y)"
   ]
  },
  {
   "cell_type": "code",
   "execution_count": 85,
   "metadata": {},
   "outputs": [
    {
     "data": {
      "text/plain": [
       "[<matplotlib.lines.Line2D at 0x11fbb3f28>]"
      ]
     },
     "execution_count": 85,
     "metadata": {},
     "output_type": "execute_result"
    },
    {
     "data": {
      "image/png": "[encoded data removed]",
      "text/plain": [
       "<Figure size 432x288 with 1 Axes>"
      ]
     },
     "metadata": {
      "needs_background": "light"
     },
     "output_type": "display_data"
    }
   ],
   "source": [
    "plt.plot(d)"
   ]
  },
  {
   "cell_type": "code",
   "execution_count": null,
   "metadata": {},
   "outputs": [],
   "source": []
  }
 ],
 "metadata": {
  "kernelspec": {
   "display_name": "Python 3",
   "language": "python",
   "name": "python3"
  },
  "language_info": {
   "codemirror_mode": {
    "name": "ipython",
    "version": 3
   },
   "file_extension": ".py",
   "mimetype": "text/x-python",
   "name": "python",
   "nbconvert_exporter": "python",
   "pygments_lexer": "ipython3",
   "version": "3.6.8"
  }
 },
 "nbformat": 4,
 "nbformat_minor": 2
}
