{
 "cells": [
  {
   "cell_type": "markdown",
   "metadata": {},
   "source": [
    "## 機械の気持ちになる"
   ]
  },
  {
   "cell_type": "code",
   "execution_count": 6,
   "metadata": {},
   "outputs": [
    {
     "name": "stdout",
     "output_type": "stream",
     "text": [
      "thickness's id 0x10985fae0\n",
      "folded_thickness's id 0x10985fae0\n",
      "foled_thickness : 0.08\n",
      "folded_thickness's id 0x10985fb10\n",
      "foled_thickness : 0.16\n",
      "folded_thickness's id 0x10985fb58\n",
      "foled_thickness : 0.32\n",
      "folded_thickness's id 0x10985fb10\n",
      "foled_thickness : 0.64\n",
      "folded_thickness's id 0x10985fb58\n",
      "foled_thickness : 1.28\n",
      "folded_thickness's id 0x10985fb10\n",
      "foled_thickness : 2.56\n",
      "folded_thickness's id 0x10985fb58\n",
      "foled_thickness : 5.12\n"
     ]
    }
   ],
   "source": [
    "thickness = 0.08\n",
    "print(\"thickness's id\", hex(id(thickness)))\n",
    "folded_thickness = thickness\n",
    "print(\"folded_thickness's id\", hex(id(folded_thickness)))\n",
    "print(\"foled_thickness :\", folded_thickness)\n",
    "folded_thickness = folded_thickness*2\n",
    "print(\"folded_thickness's id\", hex(id(folded_thickness)))\n",
    "print(\"foled_thickness :\", folded_thickness)\n",
    "folded_thickness = folded_thickness*2\n",
    "print(\"folded_thickness's id\", hex(id(folded_thickness)))\n",
    "print(\"foled_thickness :\", folded_thickness)\n",
    "folded_thickness = folded_thickness*2\n",
    "print(\"folded_thickness's id\", hex(id(folded_thickness)))\n",
    "print(\"foled_thickness :\", folded_thickness)\n",
    "folded_thickness = folded_thickness*2\n",
    "print(\"folded_thickness's id\", hex(id(folded_thickness)))\n",
    "print(\"foled_thickness :\", folded_thickness)\n",
    "folded_thickness = folded_thickness*2\n",
    "print(\"folded_thickness's id\", hex(id(folded_thickness)))\n",
    "print(\"foled_thickness :\", folded_thickness)\n",
    "folded_thickness = folded_thickness*2\n",
    "print(\"folded_thickness's id\", hex(id(folded_thickness)))\n",
    "print(\"foled_thickness :\", folded_thickness)"
   ]
  },
  {
   "cell_type": "code",
   "execution_count": 7,
   "metadata": {},
   "outputs": [
    {
     "name": "stdout",
     "output_type": "stream",
     "text": [
      "thickness's id 4454742800\n",
      "folded_thickness's id 0x10985fb10\n",
      "foled_thickness : 0.08\n",
      "folded_thickness's id 0x10985fae0\n",
      "foled_thickness : 0.16\n",
      "folded_thickness's id 0x10985fb58\n",
      "foled_thickness : 0.32\n",
      "folded_thickness's id 0x10985fae0\n",
      "foled_thickness : 0.64\n",
      "folded_thickness's id 0x10985fb70\n",
      "foled_thickness : 1.28\n",
      "folded_thickness's id 0x10985fae0\n",
      "foled_thickness : 2.56\n",
      "folded_thickness's id 0x10985fb70\n",
      "foled_thickness : 5.12\n",
      "folded_thickness's id 0x10985fae0\n",
      "foled_thickness : 10.24\n",
      "folded_thickness's id 0x10985fb70\n",
      "foled_thickness : 20.48\n",
      "folded_thickness's id 0x10985fae0\n",
      "foled_thickness : 40.96\n",
      "folded_thickness's id 0x10985fb70\n",
      "foled_thickness : 81.92\n"
     ]
    }
   ],
   "source": [
    "thickness = 0.08\n",
    "print(\"thickness's id\", id(thickness))\n",
    "folded_thickness = thickness\n",
    "print(\"folded_thickness's id\", hex(id(folded_thickness)))\n",
    "print(\"foled_thickness :\", folded_thickness)\n",
    "\n",
    "for _ in range(10):\n",
    "    folded_thickness = folded_thickness*2\n",
    "    print(\"folded_thickness's id\", hex(id(folded_thickness)))\n",
    "    print(\"foled_thickness :\", folded_thickness)"
   ]
  },
  {
   "cell_type": "code",
   "execution_count": 8,
   "metadata": {},
   "outputs": [
    {
     "name": "stdout",
     "output_type": "stream",
     "text": [
      "thickness's id 0x10985fb88\n",
      "folded_thickness's id 0x10985fb88\n",
      "foled_thickness : 0.08\n",
      "folded_thickness's id 0x10985fb70\n",
      "foled_thickness : 0.16\n",
      "folded_thickness's id 0x10985fb10\n",
      "foled_thickness : 0.32\n",
      "folded_thickness's id 0x10985fb70\n",
      "foled_thickness : 0.64\n",
      "folded_thickness's id 0x10985fb10\n",
      "foled_thickness : 1.28\n",
      "folded_thickness's id 0x10985fb70\n",
      "foled_thickness : 2.56\n",
      "folded_thickness's id 0x10985fb10\n",
      "foled_thickness : 5.12\n",
      "folded_thickness's id 0x10985fb70\n",
      "foled_thickness : 10.24\n",
      "folded_thickness's id 0x10985fb10\n",
      "foled_thickness : 20.48\n",
      "folded_thickness's id 0x10985fb70\n",
      "foled_thickness : 40.96\n",
      "folded_thickness's id 0x10985fb10\n",
      "foled_thickness : 81.92\n"
     ]
    }
   ],
   "source": [
    "thickness = 0.08\n",
    "print(\"thickness's id\", hex(id(thickness)))\n",
    "folded_thickness = thickness\n",
    "print(\"folded_thickness's id\", hex(id(folded_thickness)))\n",
    "print(\"foled_thickness :\", folded_thickness)\n",
    "\n",
    "for _ in range(10):\n",
    "    folded_thickness *= 2\n",
    "    print(\"folded_thickness's id\", hex(id(folded_thickness)))\n",
    "    print(\"foled_thickness :\", folded_thickness)"
   ]
  },
  {
   "cell_type": "code",
   "execution_count": null,
   "metadata": {},
   "outputs": [],
   "source": []
  }
 ],
 "metadata": {
  "kernelspec": {
   "display_name": "Python 3",
   "language": "python",
   "name": "python3"
  },
  "language_info": {
   "codemirror_mode": {
    "name": "ipython",
    "version": 3
   },
   "file_extension": ".py",
   "mimetype": "text/x-python",
   "name": "python",
   "nbconvert_exporter": "python",
   "pygments_lexer": "ipython3",
   "version": "3.6.8"
  },
  "toc": {
   "base_numbering": 1,
   "nav_menu": {},
   "number_sections": true,
   "sideBar": true,
   "skip_h1_title": false,
   "title_cell": "Table of Contents",
   "title_sidebar": "Contents",
   "toc_cell": false,
   "toc_position": {},
   "toc_section_display": true,
   "toc_window_display": false
  }
 },
 "nbformat": 4,
 "nbformat_minor": 2
}
