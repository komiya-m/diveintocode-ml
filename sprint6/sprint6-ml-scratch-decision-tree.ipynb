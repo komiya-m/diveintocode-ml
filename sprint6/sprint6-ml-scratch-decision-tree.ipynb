{
 "cells": [
  {
   "cell_type": "markdown",
   "metadata": {},
   "source": [
    "# 決定木 分類\n",
    "\n",
    "## 【問題1】ジニ不純度を求める関数"
   ]
  },
  {
   "cell_type": "code",
   "execution_count": 833,
   "metadata": {},
   "outputs": [],
   "source": [
    "import numpy as np\n",
    "import math\n",
    "from sklearn.metrics import accuracy_score\n",
    "import copy \n",
    "import time\n",
    "import matplotlib.pyplot as plt\n",
    "%matplotlib inline\n",
    "\n",
    "class ScratchDecesionTreeClassifier():\n",
    "    \"\"\"\n",
    "    決定木分類のスクラッチ実装\n",
    "\n",
    "    Parameters\n",
    "    ----------\n",
    "   　max_depth : int\n",
    "      最大のツリーの深さ\n",
    "    \n",
    "    Attributes\n",
    "    ----------\n",
    "    self.n : int\n",
    "      Xのカラム数（特徴量の数）\n",
    "    self.left : インスタンス\n",
    "    　　左下のノード\n",
    "    self.right : インスタンス\n",
    "    　　右下のノード\n",
    "    self.depth : int\n",
    "      このインススタンスのツリーにおける深さ\n",
    "    self.leaf : int\n",
    "      リーフのクラス\n",
    "    self.feature : int\n",
    "      このノードの分割条件の特徴量のカラム\n",
    "    self.threshold : float\n",
    "      このノードの分割条件の閾値\n",
    "    self.score : float\n",
    "      このノードの分割条件の情報利得\n",
    "    self.left : 次の形のndarray, shape (n_features,1)\n",
    "      パラメータ\n",
    "    \"\"\"\n",
    "\n",
    "    def __init__(self, max_depth=1):\n",
    "        self.n = None\n",
    "        self.left  = None\n",
    "        self.right = None\n",
    "        self.max_depth = max_depth\n",
    "        self.depth = None\n",
    "        self.leaf = None\n",
    "        self.feature = None\n",
    "        self.threshold = None\n",
    "        self.score = 0\n",
    "        \n",
    "    def fit(self, X, y):\n",
    "        \n",
    "        t0 = time.time() #時間の測定\n",
    "        y = y.reshape(len(y), 1) #リシェイプ\n",
    "        Xy = np.hstack((X,y)) #Xy合成\n",
    "        \n",
    "        self._split_tree(Xy, depth=0) #学習の開始\n",
    "        \n",
    "        #時間の表示\n",
    "        t1 = time.time()\n",
    "        print('time : {}s'.format(t1-t0))\n",
    "        \n",
    "    def _split_tree(self, Xy, depth):\n",
    "        #再帰呼び出しでツリーを作成していく関数。\n",
    "        \n",
    "        self.depth = depth\n",
    "        self.n = Xy.shape[1] - 1\n",
    "        print(\"Recursion depth: \" + str(self.depth)) #現在のdepthを表示\n",
    "        \n",
    "        #深さが設定まできたら、もしくはジニ不順度が０になったら分割を終了する\n",
    "        if (self.depth == self.max_depth) or (self._gini_Impurity(Xy[:, -1]) == 0):\n",
    "            self._leaf(Xy[:, -1]) #リーフの処理\n",
    "            return\n",
    "        #分割条件の設定\n",
    "        self._maximum_information_gain(Xy) \n",
    "        print(\"Recursion score: {}\" .format(self.score))\n",
    "        #ジニ不順度が下がらないようなら分割終了\n",
    "        if self.score == 0:\n",
    "            self._leaf(Xy[:, -1]) #リーフの処理\n",
    "            return\n",
    "        #条件の通りデータを分割する\n",
    "        left_Xy = Xy[np.where(Xy[:, self.feature] >= self.threshold), :][0] #np.whereでaxisが一つ増えているので[0]\n",
    "        right_Xy = Xy[np.where(Xy[:, self.feature] < self.threshold), :][0]\n",
    "        #分割ノードのインスタンスを作成\n",
    "        self.left  = ScratchDecesionTreeClassifier(self.max_depth)\n",
    "        self.right = ScratchDecesionTreeClassifier(self.max_depth)\n",
    "    \n",
    "        self.left._split_tree(left_Xy, depth + 1)   # 再帰呼び出し\n",
    "        self.right._split_tree(right_Xy, depth + 1)  # 再帰呼び出し\n",
    "    \n",
    "    def predict(self, X):\n",
    "        #予測したnp.arrayを返す\n",
    "        return np.array([self._predict_loop(X[i, :]) for i in range(len(X))])\n",
    "        \n",
    "    def _predict_loop(self, x):\n",
    "         #再帰呼び出しでツリーを降っていきクラスを予測する関数　\n",
    "        #x: ndarray  shape(1, fetures)  １つだけのサンプルデータ\n",
    "            \n",
    "        #まずはリーフか判定 （xは１サンプルデータ）\n",
    "        if not self.leaf == None:\n",
    "            return self.leaf\n",
    "        \n",
    "        #閾値以上ならノードを移動、リーフが見つかるまで繰り返す\n",
    "        if x[self.feature] >= self.threshold:\n",
    "            return self.left._predict_loop(x) #再帰呼び出し\n",
    "        else:\n",
    "            return self.right._predict_loop(x) #再帰呼び出し\n",
    "            \n",
    "    def _leaf(self, y):\n",
    "        #leafに一番多いクラスを格納する\n",
    "        \n",
    "        label, count = np.unique(y, return_counts=True)\n",
    "        self.leaf = label[np.argmax(count)]\n",
    "        \n",
    "    def _maximum_information_gain(self,Xy):\n",
    "        #情報利得を全特徴量と閾値で計算し、一番情報利得が高い分割条件をインスタンス変数へ\n",
    "        \n",
    "        y = Xy[:,-1]\n",
    "        #特徴量の数でループ\n",
    "        for i in range(self.n):\n",
    "            uni_X = np.unique(Xy[:, i]) #閾値をユニークで取得\n",
    "            uni_X = np.delete(uni_X, np.where(uni_X == uni_X.min())) #最小の閾値はいらないので消す\n",
    "            #閾値の数でループ\n",
    "            for threshold in uni_X:\n",
    "                left_ind = np.where(Xy[:, i] >= threshold)[0] #閾値以上のindex抜き出す\n",
    "                right_ind = np.where(Xy[:, i] < threshold)[0] #閾値以下のindex抜き出す\n",
    "                IG = self._Information_gain(y, left_ind, right_ind) #情報利得の計算\n",
    "                #一番高い情報利得を残す\n",
    "                if self.score < IG:\n",
    "                    self.score = IG\n",
    "                    self.threshold = threshold\n",
    "                    self.feature =  i\n",
    "    \n",
    "    def _gini_Impurity(self, y):\n",
    "        #入力されたyでジニ不純度を計算\n",
    "        \n",
    "        K = np.unique(y) #クラスの数\n",
    "        ntall = len(y) #総サンプル数\n",
    "        nti = np.array([sum(y == i) for i in K])\n",
    "        return 1 - sum((nti / ntall)**2)\n",
    "    \n",
    "    def _Information_gain(self, y, left_ind, right_ind):\n",
    "        #情報利得を計算\n",
    "        \n",
    "        npall = len(y) #親ノードのサンプル数\n",
    "        nlall = len(left_ind) #左のサンプル数\n",
    "        nrall = len(right_ind) #右のサンプル数\n",
    "        return self._gini_Impurity(y) -  nlall / npall * self._gini_Impurity(y[left_ind]) - nrall / npall * self._gini_Impurity(y[right_ind])\n",
    "        \n",
    "    def accuracy(self, y_test, y_pred):\n",
    "        #accuracyを計算して返す\n",
    "        return accuracy_score(y_test, y_pred)\n",
    "    \n",
    "    def plot_decision_area(self, X, y) :\n",
    "        #決定領域をプロットします。\n",
    "        \n",
    "        X_label1 = X[y==0, :]\n",
    "        X_label2 = X[y==1, :]\n",
    "\n",
    "        plt.scatter(X_label1[:, 0], X_label1[:, 1],  c=\"red\", edgecolor=\"red\", label=\"0\")\n",
    "        plt.scatter(X_label2[:, 0], X_label2[:, 1],  c=\"blue\", edgecolor=\"blue\", label=\"1\")\n",
    "\n",
    "        #メッシュデータを作成\n",
    "        x1_min, x1_max = X[:, 0].min()-1, X[:, 0].max()+1\n",
    "        x2_min, x2_max = X[:, 1].min()-1, X[:, 1].max()+1\n",
    "        x1_mesh, x2_mesh = np.meshgrid(np.arange(x1_min, x1_max, 0.01),\n",
    "                                           np.arange(x2_min, x2_max, 0.01))\n",
    "\n",
    "        #メッシュデータ全部を学習モデルで分類\n",
    "        z = self.predict(np.array([x1_mesh.ravel(), x2_mesh.ravel()]).T)\n",
    "        z = z.reshape(x1_mesh.shape)\n",
    "        # メッシュデータと分離クラスを使って決定境界を描いている\n",
    "        plt.contourf(x1_mesh, x2_mesh, z, alpha=0.4, cmap=\"gnuplot\")\n",
    "        plt.xlim(x1_mesh.min(), x1_mesh.max())\n",
    "        plt.ylim(x2_mesh.min(), x2_mesh.max())\n",
    "\n",
    "        plt.xlabel(\"X1\")\n",
    "        plt.ylabel(\"X2\")\n",
    "        plt.title(\"Determining region\")\n",
    "        plt.legend()\n",
    "    \n",
    "    def plot_decision_area_3class(self, X, y) :\n",
    "        #決定領域をプロットします。3クラス版\n",
    "        \n",
    "        X_label1 = X[y==0, :]\n",
    "        X_label2 = X[y==1, :]\n",
    "        X_label3 = X[y==2, :]\n",
    "\n",
    "        plt.scatter(X_label1[:, 0], X_label1[:, 1],  c=\"red\", edgecolor=\"red\", label=\"0\")\n",
    "        plt.scatter(X_label2[:, 0], X_label2[:, 1],  c=\"blue\", edgecolor=\"blue\", label=\"1\")\n",
    "        plt.scatter(X_label3[:, 0], X_label3[:, 1],  c=\"green\", edgecolor=\"green\", label=\"2\")\n",
    "\n",
    "        #メッシュデータを作成\n",
    "        x1_min, x1_max = X[:, 0].min()-1, X[:, 0].max()+1\n",
    "        x2_min, x2_max = X[:, 1].min()-1, X[:, 1].max()+1\n",
    "        x1_mesh, x2_mesh = np.meshgrid(np.arange(x1_min, x1_max, 0.01),\n",
    "                                           np.arange(x2_min, x2_max, 0.01))\n",
    "\n",
    "        #メッシュデータ全部を学習モデルで分類\n",
    "        z = self.predict(np.array([x1_mesh.ravel(), x2_mesh.ravel()]).T)\n",
    "        z = z.reshape(x1_mesh.shape)\n",
    "        # メッシュデータと分離クラスを使って決定境界を描いている\n",
    "        plt.contourf(x1_mesh, x2_mesh, z, alpha=0.4, colors=['red', 'blue', 'green', 'pink', 'yellow'])\n",
    "        plt.xlim(x1_mesh.min(), x1_mesh.max())\n",
    "        plt.ylim(x2_mesh.min(), x2_mesh.max())\n",
    "\n",
    "        plt.xlabel(\"X1\")\n",
    "        plt.ylabel(\"X2\")\n",
    "        plt.title(\"Determining region\")\n",
    "        plt.legend()"
   ]
  },
  {
   "cell_type": "code",
   "execution_count": 826,
   "metadata": {},
   "outputs": [],
   "source": [
    "#アイリスデータの取り込み\n",
    "from sklearn.datasets import load_iris\n",
    "import pandas as pd\n",
    "from sklearn.model_selection import train_test_split\n",
    "iris = load_iris()\n",
    "X = pd.DataFrame(iris.data, columns=iris.feature_names) #Dataframe ”X”を作成\n",
    "#columns = [\"petal length (cm)\", \"petal width (cm)\"]\n",
    "columns = ['sepal length (cm)', 'petal length (cm)']\n",
    "X = X[columns]\n",
    "X[\"TARGET\"] = iris.target\n",
    "#X = X[X[\"TARGET\"] > 0]\n",
    "y = X[\"TARGET\"].values\n",
    "#y[y==2] = 0\n",
    "X = X.drop(\"TARGET\", axis = 1).values\n",
    "\n",
    "from sklearn.preprocessing import StandardScaler\n",
    "sc = StandardScaler()\n",
    "sc.fit(X)\n",
    "X = sc.transform(X)\n",
    "X_train, X_test, y_train, y_test = train_test_split(X, y, test_size=0.3, random_state=40)"
   ]
  },
  {
   "cell_type": "code",
   "execution_count": 784,
   "metadata": {},
   "outputs": [],
   "source": [
    "#シンプルデータセット２\n",
    "X = np.array([[-0.44699 , -2.8073  ],[-1.4621  , -2.4586  ],\n",
    "       [ 0.10645 ,  1.9242  ],[-3.5944  , -4.0112  ],\n",
    "       [-0.9888  ,  4.5718  ],[-3.1625  , -3.9606  ],\n",
    "       [ 0.56421 ,  0.72888 ],[-0.60216 ,  8.4636  ],\n",
    "       [-0.61251 , -0.75345 ],[-0.73535 , -2.2718  ],\n",
    "       [-0.80647 , -2.2135  ],[ 0.86291 ,  2.3946  ],\n",
    "       [-3.1108  ,  0.15394 ],[-2.9362  ,  2.5462  ],\n",
    "       [-0.57242 , -2.9915  ],[ 1.4771  ,  3.4896  ],\n",
    "       [ 0.58619 ,  0.37158 ],[ 0.6017  ,  4.3439  ],\n",
    "       [-2.1086  ,  8.3428  ],[-4.1013  , -4.353   ],\n",
    "       [-1.9948  , -1.3927  ],[ 0.35084 , -0.031994],\n",
    "       [ 0.96765 ,  7.8929  ],[-1.281   , 15.6824  ],\n",
    "       [ 0.96765 , 10.083   ],[ 1.3763  ,  1.3347  ],\n",
    "       [-2.234   , -2.5323  ],[-2.9452  , -1.8219  ],\n",
    "       [ 0.14654 , -0.28733 ],[ 0.5461  ,  5.8245  ],\n",
    "       [-0.65259 ,  9.3444  ],[ 0.59912 ,  5.3524  ],\n",
    "       [ 0.50214 , -0.31818 ],[-3.0603  , -3.6461  ],\n",
    "       [-6.6797  ,  0.67661 ],[-2.353   , -0.72261 ],\n",
    "       [ 1.1319  ,  2.4023  ],[-0.12243 ,  9.0162  ],\n",
    "       [-2.5677  , 13.1779  ],[ 0.057313,  5.4681  ]])\n",
    "y = np.array([0, 0, 0, 0, 0, 0, 0, 0, 0, 0, 0, 0, 0, 0, 0, 0, 0, 0, 0, 0, 1, 1,\n",
    "       1, 1, 1, 1, 1, 1, 1, 1, 1, 1, 1, 1, 1, 1, 1, 1, 1, 1])\n",
    "\n",
    "from sklearn.preprocessing import StandardScaler\n",
    "sc = StandardScaler()\n",
    "sc.fit(X)\n",
    "X = sc.transform(X)\n",
    "X_train, X_test, y_train, y_test = train_test_split(X, y, test_size=0.3, random_state=40)"
   ]
  },
  {
   "cell_type": "markdown",
   "metadata": {},
   "source": [
    "## 【問題2】情報利得を求める関数"
   ]
  },
  {
   "cell_type": "code",
   "execution_count": 137,
   "metadata": {},
   "outputs": [],
   "source": [
    "al = np.concatenate([np.zeros(10), np.ones(30)])"
   ]
  },
  {
   "cell_type": "code",
   "execution_count": 139,
   "metadata": {},
   "outputs": [],
   "source": [
    "ar = np.concatenate([np.zeros(20), np.ones(5)])"
   ]
  },
  {
   "cell_type": "code",
   "execution_count": 140,
   "metadata": {},
   "outputs": [],
   "source": [
    "alr = np.concatenate([al, ar])"
   ]
  },
  {
   "cell_type": "code",
   "execution_count": 194,
   "metadata": {},
   "outputs": [],
   "source": [
    "li = np.arange(40)"
   ]
  },
  {
   "cell_type": "code",
   "execution_count": 195,
   "metadata": {},
   "outputs": [],
   "source": [
    "ri = np.arange(40,65)"
   ]
  },
  {
   "cell_type": "code",
   "execution_count": 245,
   "metadata": {},
   "outputs": [],
   "source": [
    "tess = ScratchDecesionTreeClassifier()"
   ]
  },
  {
   "cell_type": "code",
   "execution_count": 247,
   "metadata": {
    "scrolled": true
   },
   "outputs": [
    {
     "data": {
      "text/plain": [
       "0.14319526627218937"
      ]
     },
     "execution_count": 247,
     "metadata": {},
     "output_type": "execute_result"
    }
   ],
   "source": [
    "tess._Information_gain(alr, li, ri)\n",
    "#下、一致しました"
   ]
  },
  {
   "cell_type": "markdown",
   "metadata": {},
   "source": [
    "# 【問題3】深さ1の決定木分類器クラスの作成\n",
    "# 【問題4】（アドバンス課題）深さ2の決定木分類器クラスの作成\n",
    "# 【問題5】（アドバンス課題）任意の深さに対応できる決定木分類器クラスの作成"
   ]
  },
  {
   "cell_type": "code",
   "execution_count": 834,
   "metadata": {},
   "outputs": [],
   "source": [
    "test = ScratchDecesionTreeClassifier(max_depth=100)"
   ]
  },
  {
   "cell_type": "code",
   "execution_count": 835,
   "metadata": {
    "scrolled": true
   },
   "outputs": [
    {
     "name": "stdout",
     "output_type": "stream",
     "text": [
      "Recursion depth: 0\n",
      "Recursion score: 0.3284570917568905\n",
      "Recursion depth: 1\n",
      "Recursion score: 0.36922166691003416\n",
      "Recursion depth: 2\n",
      "Recursion score: 0.014584961119172582\n",
      "Recursion depth: 3\n",
      "Recursion score: 0.010822060353798006\n",
      "Recursion depth: 4\n",
      "Recursion depth: 4\n",
      "Recursion score: 0.31999999999999984\n",
      "Recursion depth: 5\n",
      "Recursion depth: 5\n",
      "Recursion depth: 3\n",
      "Recursion score: 0.4444444444444444\n",
      "Recursion depth: 4\n",
      "Recursion depth: 4\n",
      "Recursion depth: 2\n",
      "Recursion score: 0.031784149013878646\n",
      "Recursion depth: 3\n",
      "Recursion score: 0.21333333333333332\n",
      "Recursion depth: 4\n",
      "Recursion depth: 4\n",
      "Recursion score: 0.1111111111111111\n",
      "Recursion depth: 5\n",
      "Recursion score: 0.5\n",
      "Recursion depth: 6\n",
      "Recursion depth: 6\n",
      "Recursion depth: 5\n",
      "Recursion depth: 3\n",
      "Recursion score: 0.029296875\n",
      "Recursion depth: 4\n",
      "Recursion depth: 4\n",
      "Recursion score: 0.5\n",
      "Recursion depth: 5\n",
      "Recursion depth: 5\n",
      "Recursion depth: 1\n",
      "time : 0.2723560333251953s\n"
     ]
    }
   ],
   "source": [
    "test.fit(X_train, y_train)"
   ]
  },
  {
   "cell_type": "markdown",
   "metadata": {},
   "source": [
    "# 【問題6】指標値の算出"
   ]
  },
  {
   "cell_type": "code",
   "execution_count": 836,
   "metadata": {},
   "outputs": [],
   "source": [
    "pred = test.predict(X_test)"
   ]
  },
  {
   "cell_type": "code",
   "execution_count": 837,
   "metadata": {},
   "outputs": [
    {
     "data": {
      "text/plain": [
       "0.9777777777777777"
      ]
     },
     "execution_count": 837,
     "metadata": {},
     "output_type": "execute_result"
    }
   ],
   "source": [
    "#accuracyの算出\n",
    "test.accuracy(y_test,pred)"
   ]
  },
  {
   "cell_type": "markdown",
   "metadata": {},
   "source": [
    "# 【問題7】決定領域の可視化"
   ]
  },
  {
   "cell_type": "code",
   "execution_count": 838,
   "metadata": {},
   "outputs": [
    {
     "data": {
      "image/png": "[encoded data removed]",
      "text/plain": [
       "<Figure size 432x288 with 1 Axes>"
      ]
     },
     "metadata": {
      "needs_background": "light"
     },
     "output_type": "display_data"
    }
   ],
   "source": [
    "test.plot_decision_area_3class(X_train,y_train)"
   ]
  },
  {
   "cell_type": "markdown",
   "metadata": {},
   "source": [
    "# 【問題8】決定木の利用場面"
   ]
  },
  {
   "cell_type": "markdown",
   "metadata": {},
   "source": [
    "決定木はどうやって分類しているかがわかりやすく、説明力があるのでお客さんに見せるには良い。\n",
    "\n",
    "特徴量のスケールを合わせなくても良い。\n",
    "\n",
    "一つの線でターゲットを分けられないような分類問題があれば、決定木は有効そう。決定木はいくらでも分割が可能なので。\n",
    "\n",
    "デメリットは、並列計算ができない（学習、推定）ので、計算コストは高くなる。\n",
    "\n",
    "学習データへの過剰適合が問題になる。適切な深さの選択が重要。\n",
    "\n"
   ]
  }
 ],
 "metadata": {
  "kernelspec": {
   "display_name": "Python 3",
   "language": "python",
   "name": "python3"
  },
  "language_info": {
   "codemirror_mode": {
    "name": "ipython",
    "version": 3
   },
   "file_extension": ".py",
   "mimetype": "text/x-python",
   "name": "python",
   "nbconvert_exporter": "python",
   "pygments_lexer": "ipython3",
   "version": "3.6.8"
  }
 },
 "nbformat": 4,
 "nbformat_minor": 2
}
