{
 "cells": [
  {
   "cell_type": "markdown",
   "metadata": {},
   "source": [
    "# レコメンデーション "
   ]
  },
  {
   "cell_type": "markdown",
   "metadata": {},
   "source": [
    "# 【問題1】アイテムベース\n",
    "以下のような架空の旅行者のデータを使って簡単なアイテムベースのレコメンドを行う。 \n",
    "下の表は、ハワイ、グアム、ロンドン、ニューヨークへ訪れた回数を記録した6人分の旅行者のデータである。\n",
    "アイテム間の類似度行列を作る \n",
    "例えば、「ハワイ」と「ハワイとそのほかの国」とのコサイン類似度を計算してみると以下のように計算できる。 \n",
    "これを各国分、計算して、類似度行列を出してみよう。"
   ]
  },
  {
   "cell_type": "code",
   "execution_count": 41,
   "metadata": {},
   "outputs": [],
   "source": [
    "import numpy as np\n",
    "data = np.array([\n",
    "    [1,2,4,3],\n",
    "    [1,1,2,4],\n",
    "    [3,5,2,2],\n",
    "    [3,4,2,3],\n",
    "    [3,3,0,4],\n",
    "    [3,3,1,4]])\n",
    "\n",
    "target_user_data = np.array([[1,0,0,0]])"
   ]
  },
  {
   "cell_type": "code",
   "execution_count": 42,
   "metadata": {},
   "outputs": [],
   "source": [
    "import numpy as np\n",
    "def cosine_similarity_matrix (vectors):\n",
    "    unit_vectors = vectors / np.linalg.norm(vectors, axis=1, keepdims=True)\n",
    "    return np.matmul(unit_vectors, unit_vectors.T)"
   ]
  },
  {
   "cell_type": "code",
   "execution_count": 43,
   "metadata": {},
   "outputs": [],
   "source": [
    "#アイテムごとのコサイン類似度行列\n",
    "cos_matrix = cosine_similarity_matrix(data.T)"
   ]
  },
  {
   "cell_type": "code",
   "execution_count": 44,
   "metadata": {},
   "outputs": [
    {
     "data": {
      "text/plain": [
       "array([[1.        , 0.97332853, 0.63259899, 0.89190174],\n",
       "       [0.97332853, 1.        , 0.71956944, 0.83666003],\n",
       "       [0.63259899, 0.71956944, 1.        , 0.75462449],\n",
       "       [0.89190174, 0.83666003, 0.75462449, 1.        ]])"
      ]
     },
     "execution_count": 44,
     "metadata": {},
     "output_type": "execute_result"
    }
   ],
   "source": [
    "cos_matrix"
   ]
  },
  {
   "cell_type": "code",
   "execution_count": 45,
   "metadata": {},
   "outputs": [
    {
     "data": {
      "text/plain": [
       "array([[1.        , 0.97332853, 0.63259899, 0.89190174]])"
      ]
     },
     "execution_count": 45,
     "metadata": {},
     "output_type": "execute_result"
    }
   ],
   "source": [
    "np.dot(target_user_data, cos_matrix)"
   ]
  },
  {
   "cell_type": "markdown",
   "metadata": {},
   "source": [
    "## ハワイ以外だとグアムになりました。"
   ]
  },
  {
   "cell_type": "markdown",
   "metadata": {},
   "source": [
    "### 【問題2】ユーザーベース\n",
    "以下のようなデータがあった時に、user１に対して、レコメンドする方法を考えていきます。\n",
    "ユーザーベースの手法は同じようなユーザを見つけてそのユーザと同じようなレコメンドをします。 \n",
    "今回の方法は厳密なレコメンド手法とは異なりますが、実装を通して大まかなイメージを掴みましょう。\n",
    "\n",
    "方法\n",
    "ユーザーごとの相関行列を出す。 \n",
    "ユーザーごとの相関行列を出してください。(今回はピアソンを使いましょう。)\n",
    "アイテムベースの時は、アイテムに対して類似度行列を出しましたが、今回はユーザに対して使います。\n",
    "\n",
    "評価の高い方を推薦する \n",
    "相関を出したら、最も相関の高い人のレコメンド結果を使ってuser1に対してレコメンドしてください。\n",
    "\n"
   ]
  },
  {
   "cell_type": "code",
   "execution_count": 107,
   "metadata": {},
   "outputs": [],
   "source": [
    "#nanを-99で置いとく\n",
    "u_data = np.array([\n",
    "    [2,2,4, 3,3],\n",
    "    [1,1,2,4,3],\n",
    "    [0,5,2,2,5],\n",
    "    [2,4,2,3,4],\n",
    "    [1,3,0,4,1],\n",
    "])"
   ]
  },
  {
   "cell_type": "code",
   "execution_count": 109,
   "metadata": {},
   "outputs": [
    {
     "name": "stdout",
     "output_type": "stream",
     "text": [
      "3.25\n",
      "3.25\n"
     ]
    }
   ],
   "source": [
    "#欠損ちうめ\n",
    "print((4 + 2 +3 + 4) / 4)\n",
    "print((3 + 5 + 4  + 1) / 4)"
   ]
  },
  {
   "cell_type": "code",
   "execution_count": 110,
   "metadata": {},
   "outputs": [],
   "source": [
    "C = np.corrcoef(u_data)"
   ]
  },
  {
   "cell_type": "code",
   "execution_count": 114,
   "metadata": {},
   "outputs": [
    {
     "data": {
      "text/plain": [
       "array([[ 1.        ,  0.50418417, -0.02756589, -0.29880715, -0.40006613],\n",
       "       [ 0.50418417,  1.        ,  0.10613237,  0.19174125,  0.37340802],\n",
       "       [-0.02756589,  0.10613237,  1.        ,  0.92253121,  0.19650211],\n",
       "       [-0.29880715,  0.19174125,  0.92253121,  1.        ,  0.45643546],\n",
       "       [-0.40006613,  0.37340802,  0.19650211,  0.45643546,  1.        ]])"
      ]
     },
     "execution_count": 114,
     "metadata": {},
     "output_type": "execute_result"
    }
   ],
   "source": [
    "#相関行列　ユーザー１と相関が高いのはユーザ２\n",
    "C"
   ]
  },
  {
   "cell_type": "markdown",
   "metadata": {},
   "source": [
    "## ユーザー１と相関が高いのはユーザ２なので 3, 4をレコメンドする\n",
    "推薦システムのアルゴリズム(神嶌 敏弘)http://www.kamishima.net/archive/recsysdoc.pdf\n",
    "\n",
    "推薦システム(神嶌 敏弘) (スライド)http://www.kamishima.net/archive/recsys.pdf"
   ]
  },
  {
   "cell_type": "code",
   "execution_count": null,
   "metadata": {},
   "outputs": [],
   "source": []
  },
  {
   "cell_type": "code",
   "execution_count": null,
   "metadata": {},
   "outputs": [],
   "source": []
  }
 ],
 "metadata": {
  "kernelspec": {
   "display_name": "Python 3",
   "language": "python",
   "name": "python3"
  },
  "language_info": {
   "codemirror_mode": {
    "name": "ipython",
    "version": 3
   },
   "file_extension": ".py",
   "mimetype": "text/x-python",
   "name": "python",
   "nbconvert_exporter": "python",
   "pygments_lexer": "ipython3",
   "version": "3.6.8"
  }
 },
 "nbformat": 4,
 "nbformat_minor": 2
}
