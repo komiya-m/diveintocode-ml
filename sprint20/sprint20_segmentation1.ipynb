{
  "nbformat": 4,
  "nbformat_minor": 0,
  "metadata": {
    "colab": {
      "name": "sprint20-segmentation1.ipynb",
      "version": "0.3.2",
      "provenance": [],
      "collapsed_sections": [],
      "toc_visible": true
    },
    "kernelspec": {
      "name": "python3",
      "display_name": "Python 3"
    },
    "accelerator": "GPU"
  },
  "cells": [
    {
      "metadata": {
        "id": "K5C-tvBTXEGW",
        "colab_type": "text"
      },
      "cell_type": "markdown",
      "source": [
        "# U-net でのセグメンテーション\n"
      ]
    },
    {
      "metadata": {
        "id": "xFv8Gkw1W92L",
        "colab_type": "code",
        "outputId": "a08d2899-fd97-445b-c992-7cc6dcea7f2c",
        "colab": {
          "base_uri": "https://localhost:8080/",
          "height": 34
        }
      },
      "cell_type": "code",
      "source": [
        "from google.colab import drive\n",
        "drive.mount('/content/gdrive')"
      ],
      "execution_count": 0,
      "outputs": [
        {
          "output_type": "stream",
          "text": [
            "Drive already mounted at /content/gdrive; to attempt to forcibly remount, call drive.mount(\"/content/gdrive\", force_remount=True).\n"
          ],
          "name": "stdout"
        }
      ]
    },
    {
      "metadata": {
        "id": "QCBEv4A7YwyC",
        "colab_type": "code",
        "colab": {}
      },
      "cell_type": "code",
      "source": [
        "import os\n",
        "path = \"/content/gdrive/My Drive/Colab Notebooks\""
      ],
      "execution_count": 0,
      "outputs": []
    },
    {
      "metadata": {
        "id": "AviA0htIZfsE",
        "colab_type": "text"
      },
      "cell_type": "markdown",
      "source": [
        "​\n",
        "## 【問題1】学習・推定\n",
        "使用する実装https://github.com/zhixuhao/unet\n",
        "\n",
        "colab上でkaggle https://qiita.com/katsu1110/items/a8d508a1b6f07bd3a243"
      ]
    },
    {
      "metadata": {
        "id": "a8dU5q0bY9BY",
        "colab_type": "code",
        "colab": {
          "base_uri": "https://localhost:8080/",
          "height": 102
        },
        "outputId": "fb446cbb-e6b6-410c-8c19-03b1a2562372"
      },
      "cell_type": "code",
      "source": [
        "#unetダウンロード\n",
        "!git clone https://github.com/zhixuhao/unet.git"
      ],
      "execution_count": 30,
      "outputs": [
        {
          "output_type": "stream",
          "text": [
            "Cloning into 'unet'...\n",
            "remote: Enumerating objects: 394, done.\u001b[K\n",
            "remote: Total 394 (delta 0), reused 0 (delta 0), pack-reused 394\u001b[K\n",
            "Receiving objects: 100% (394/394), 44.91 MiB | 22.03 MiB/s, done.\n",
            "Resolving deltas: 100% (80/80), done.\n"
          ],
          "name": "stdout"
        }
      ]
    },
    {
      "metadata": {
        "id": "4SZpKfy9XLdC",
        "colab_type": "code",
        "outputId": "8cf000ab-6843-4105-e27a-2ff59af6ebe3",
        "colab": {
          "base_uri": "https://localhost:8080/",
          "height": 34
        }
      },
      "cell_type": "code",
      "source": [
        "!ls"
      ],
      "execution_count": 40,
      "outputs": [
        {
          "output_type": "stream",
          "text": [
            "gdrive\tkaggle.json  sample_data  unet\n"
          ],
          "name": "stdout"
        }
      ]
    },
    {
      "metadata": {
        "id": "gk3zoAQPXvcT",
        "colab_type": "code",
        "colab": {}
      },
      "cell_type": "code",
      "source": [
        "unet_path = \"unet/main.py\""
      ],
      "execution_count": 0,
      "outputs": []
    },
    {
      "metadata": {
        "id": "aaIkc5yreSnN",
        "colab_type": "code",
        "colab": {
          "resources": {
            "http://localhost:8080/nbextensions/google.colab/files.js": {
              "data": "Ly8gQ29weXJpZ2h0IDIwMTcgR29vZ2xlIExMQwovLwovLyBMaWNlbnNlZCB1bmRlciB0aGUgQXBhY2hlIExpY2Vuc2UsIFZlcnNpb24gMi4wICh0aGUgIkxpY2Vuc2UiKTsKLy8geW91IG1heSBub3QgdXNlIHRoaXMgZmlsZSBleGNlcHQgaW4gY29tcGxpYW5jZSB3aXRoIHRoZSBMaWNlbnNlLgovLyBZb3UgbWF5IG9idGFpbiBhIGNvcHkgb2YgdGhlIExpY2Vuc2UgYXQKLy8KLy8gICAgICBodHRwOi8vd3d3LmFwYWNoZS5vcmcvbGljZW5zZXMvTElDRU5TRS0yLjAKLy8KLy8gVW5sZXNzIHJlcXVpcmVkIGJ5IGFwcGxpY2FibGUgbGF3IG9yIGFncmVlZCB0byBpbiB3cml0aW5nLCBzb2Z0d2FyZQovLyBkaXN0cmlidXRlZCB1bmRlciB0aGUgTGljZW5zZSBpcyBkaXN0cmlidXRlZCBvbiBhbiAiQVMgSVMiIEJBU0lTLAovLyBXSVRIT1VUIFdBUlJBTlRJRVMgT1IgQ09ORElUSU9OUyBPRiBBTlkgS0lORCwgZWl0aGVyIGV4cHJlc3Mgb3IgaW1wbGllZC4KLy8gU2VlIHRoZSBMaWNlbnNlIGZvciB0aGUgc3BlY2lmaWMgbGFuZ3VhZ2UgZ292ZXJuaW5nIHBlcm1pc3Npb25zIGFuZAovLyBsaW1pdGF0aW9ucyB1bmRlciB0aGUgTGljZW5zZS4KCi8qKgogKiBAZmlsZW92ZXJ2aWV3IEhlbHBlcnMgZm9yIGdvb2dsZS5jb2xhYiBQeXRob24gbW9kdWxlLgogKi8KKGZ1bmN0aW9uKHNjb3BlKSB7CmZ1bmN0aW9uIHNwYW4odGV4dCwgc3R5bGVBdHRyaWJ1dGVzID0ge30pIHsKICBjb25zdCBlbGVtZW50ID0gZG9jdW1lbnQuY3JlYXRlRWxlbWVudCgnc3BhbicpOwogIGVsZW1lbnQudGV4dENvbnRlbnQgPSB0ZXh0OwogIGZvciAoY29uc3Qga2V5IG9mIE9iamVjdC5rZXlzKHN0eWxlQXR0cmlidXRlcykpIHsKICAgIGVsZW1lbnQuc3R5bGVba2V5XSA9IHN0eWxlQXR0cmlidXRlc1trZXldOwogIH0KICByZXR1cm4gZWxlbWVudDsKfQoKLy8gTWF4IG51bWJlciBvZiBieXRlcyB3aGljaCB3aWxsIGJlIHVwbG9hZGVkIGF0IGEgdGltZS4KY29uc3QgTUFYX1BBWUxPQURfU0laRSA9IDEwMCAqIDEwMjQ7Ci8vIE1heCBhbW91bnQgb2YgdGltZSB0byBibG9jayB3YWl0aW5nIGZvciB0aGUgdXNlci4KY29uc3QgRklMRV9DSEFOR0VfVElNRU9VVF9NUyA9IDMwICogMTAwMDsKCmZ1bmN0aW9uIF91cGxvYWRGaWxlcyhpbnB1dElkLCBvdXRwdXRJZCkgewogIGNvbnN0IHN0ZXBzID0gdXBsb2FkRmlsZXNTdGVwKGlucHV0SWQsIG91dHB1dElkKTsKICBjb25zdCBvdXRwdXRFbGVtZW50ID0gZG9jdW1lbnQuZ2V0RWxlbWVudEJ5SWQob3V0cHV0SWQpOwogIC8vIENhY2hlIHN0ZXBzIG9uIHRoZSBvdXRwdXRFbGVtZW50IHRvIG1ha2UgaXQgYXZhaWxhYmxlIGZvciB0aGUgbmV4dCBjYWxsCiAgLy8gdG8gdXBsb2FkRmlsZXNDb250aW51ZSBmcm9tIFB5dGhvbi4KICBvdXRwdXRFbGVtZW50LnN0ZXBzID0gc3RlcHM7CgogIHJldHVybiBfdXBsb2FkRmlsZXNDb250aW51ZShvdXRwdXRJZCk7Cn0KCi8vIFRoaXMgaXMgcm91Z2hseSBhbiBhc3luYyBnZW5lcmF0b3IgKG5vdCBzdXBwb3J0ZWQgaW4gdGhlIGJyb3dzZXIgeWV0KSwKLy8gd2hlcmUgdGhlcmUgYXJlIG11bHRpcGxlIGFzeW5jaHJvbm91cyBzdGVwcyBhbmQgdGhlIFB5dGhvbiBzaWRlIGlzIGdvaW5nCi8vIHRvIHBvbGwgZm9yIGNvbXBsZXRpb24gb2YgZWFjaCBzdGVwLgovLyBUaGlzIHVzZXMgYSBQcm9taXNlIHRvIGJsb2NrIHRoZSBweXRob24gc2lkZSBvbiBjb21wbGV0aW9uIG9mIGVhY2ggc3RlcCwKLy8gdGhlbiBwYXNzZXMgdGhlIHJlc3VsdCBvZiB0aGUgcHJldmlvdXMgc3RlcCBhcyB0aGUgaW5wdXQgdG8gdGhlIG5leHQgc3RlcC4KZnVuY3Rpb24gX3VwbG9hZEZpbGVzQ29udGludWUob3V0cHV0SWQpIHsKICBjb25zdCBvdXRwdXRFbGVtZW50ID0gZG9jdW1lbnQuZ2V0RWxlbWVudEJ5SWQob3V0cHV0SWQpOwogIGNvbnN0IHN0ZXBzID0gb3V0cHV0RWxlbWVudC5zdGVwczsKCiAgY29uc3QgbmV4dCA9IHN0ZXBzLm5leHQob3V0cHV0RWxlbWVudC5sYXN0UHJvbWlzZVZhbHVlKTsKICByZXR1cm4gUHJvbWlzZS5yZXNvbHZlKG5leHQudmFsdWUucHJvbWlzZSkudGhlbigodmFsdWUpID0+IHsKICAgIC8vIENhY2hlIHRoZSBsYXN0IHByb21pc2UgdmFsdWUgdG8gbWFrZSBpdCBhdmFpbGFibGUgdG8gdGhlIG5leHQKICAgIC8vIHN0ZXAgb2YgdGhlIGdlbmVyYXRvci4KICAgIG91dHB1dEVsZW1lbnQubGFzdFByb21pc2VWYWx1ZSA9IHZhbHVlOwogICAgcmV0dXJuIG5leHQudmFsdWUucmVzcG9uc2U7CiAgfSk7Cn0KCi8qKgogKiBHZW5lcmF0b3IgZnVuY3Rpb24gd2hpY2ggaXMgY2FsbGVkIGJldHdlZW4gZWFjaCBhc3luYyBzdGVwIG9mIHRoZSB1cGxvYWQKICogcHJvY2Vzcy4KICogQHBhcmFtIHtzdHJpbmd9IGlucHV0SWQgRWxlbWVudCBJRCBvZiB0aGUgaW5wdXQgZmlsZSBwaWNrZXIgZWxlbWVudC4KICogQHBhcmFtIHtzdHJpbmd9IG91dHB1dElkIEVsZW1lbnQgSUQgb2YgdGhlIG91dHB1dCBkaXNwbGF5LgogKiBAcmV0dXJuIHshSXRlcmFibGU8IU9iamVjdD59IEl0ZXJhYmxlIG9mIG5leHQgc3RlcHMuCiAqLwpmdW5jdGlvbiogdXBsb2FkRmlsZXNTdGVwKGlucHV0SWQsIG91dHB1dElkKSB7CiAgY29uc3QgaW5wdXRFbGVtZW50ID0gZG9jdW1lbnQuZ2V0RWxlbWVudEJ5SWQoaW5wdXRJZCk7CiAgaW5wdXRFbGVtZW50LmRpc2FibGVkID0gZmFsc2U7CgogIGNvbnN0IG91dHB1dEVsZW1lbnQgPSBkb2N1bWVudC5nZXRFbGVtZW50QnlJZChvdXRwdXRJZCk7CiAgb3V0cHV0RWxlbWVudC5pbm5lckhUTUwgPSAnJzsKCiAgY29uc3QgcGlja2VkUHJvbWlzZSA9IG5ldyBQcm9taXNlKChyZXNvbHZlKSA9PiB7CiAgICBpbnB1dEVsZW1lbnQuYWRkRXZlbnRMaXN0ZW5lcignY2hhbmdlJywgKGUpID0+IHsKICAgICAgcmVzb2x2ZShlLnRhcmdldC5maWxlcyk7CiAgICB9KTsKICB9KTsKCiAgY29uc3QgY2FuY2VsID0gZG9jdW1lbnQuY3JlYXRlRWxlbWVudCgnYnV0dG9uJyk7CiAgaW5wdXRFbGVtZW50LnBhcmVudEVsZW1lbnQuYXBwZW5kQ2hpbGQoY2FuY2VsKTsKICBjYW5jZWwudGV4dENvbnRlbnQgPSAnQ2FuY2VsIHVwbG9hZCc7CiAgY29uc3QgY2FuY2VsUHJvbWlzZSA9IG5ldyBQcm9taXNlKChyZXNvbHZlKSA9PiB7CiAgICBjYW5jZWwub25jbGljayA9ICgpID0+IHsKICAgICAgcmVzb2x2ZShudWxsKTsKICAgIH07CiAgfSk7CgogIC8vIENhbmNlbCB1cGxvYWQgaWYgdXNlciBoYXNuJ3QgcGlja2VkIGFueXRoaW5nIGluIHRpbWVvdXQuCiAgY29uc3QgdGltZW91dFByb21pc2UgPSBuZXcgUHJvbWlzZSgocmVzb2x2ZSkgPT4gewogICAgc2V0VGltZW91dCgoKSA9PiB7CiAgICAgIHJlc29sdmUobnVsbCk7CiAgICB9LCBGSUxFX0NIQU5HRV9USU1FT1VUX01TKTsKICB9KTsKCiAgLy8gV2FpdCBmb3IgdGhlIHVzZXIgdG8gcGljayB0aGUgZmlsZXMuCiAgY29uc3QgZmlsZXMgPSB5aWVsZCB7CiAgICBwcm9taXNlOiBQcm9taXNlLnJhY2UoW3BpY2tlZFByb21pc2UsIHRpbWVvdXRQcm9taXNlLCBjYW5jZWxQcm9taXNlXSksCiAgICByZXNwb25zZTogewogICAgICBhY3Rpb246ICdzdGFydGluZycsCiAgICB9CiAgfTsKCiAgaWYgKCFmaWxlcykgewogICAgcmV0dXJuIHsKICAgICAgcmVzcG9uc2U6IHsKICAgICAgICBhY3Rpb246ICdjb21wbGV0ZScsCiAgICAgIH0KICAgIH07CiAgfQoKICBjYW5jZWwucmVtb3ZlKCk7CgogIC8vIERpc2FibGUgdGhlIGlucHV0IGVsZW1lbnQgc2luY2UgZnVydGhlciBwaWNrcyBhcmUgbm90IGFsbG93ZWQuCiAgaW5wdXRFbGVtZW50LmRpc2FibGVkID0gdHJ1ZTsKCiAgZm9yIChjb25zdCBmaWxlIG9mIGZpbGVzKSB7CiAgICBjb25zdCBsaSA9IGRvY3VtZW50LmNyZWF0ZUVsZW1lbnQoJ2xpJyk7CiAgICBsaS5hcHBlbmQoc3BhbihmaWxlLm5hbWUsIHtmb250V2VpZ2h0OiAnYm9sZCd9KSk7CiAgICBsaS5hcHBlbmQoc3BhbigKICAgICAgICBgKCR7ZmlsZS50eXBlIHx8ICduL2EnfSkgLSAke2ZpbGUuc2l6ZX0gYnl0ZXMsIGAgKwogICAgICAgIGBsYXN0IG1vZGlmaWVkOiAkewogICAgICAgICAgICBmaWxlLmxhc3RNb2RpZmllZERhdGUgPyBmaWxlLmxhc3RNb2RpZmllZERhdGUudG9Mb2NhbGVEYXRlU3RyaW5nKCkgOgogICAgICAgICAgICAgICAgICAgICAgICAgICAgICAgICAgICAnbi9hJ30gLSBgKSk7CiAgICBjb25zdCBwZXJjZW50ID0gc3BhbignMCUgZG9uZScpOwogICAgbGkuYXBwZW5kQ2hpbGQocGVyY2VudCk7CgogICAgb3V0cHV0RWxlbWVudC5hcHBlbmRDaGlsZChsaSk7CgogICAgY29uc3QgZmlsZURhdGFQcm9taXNlID0gbmV3IFByb21pc2UoKHJlc29sdmUpID0+IHsKICAgICAgY29uc3QgcmVhZGVyID0gbmV3IEZpbGVSZWFkZXIoKTsKICAgICAgcmVhZGVyLm9ubG9hZCA9IChlKSA9PiB7CiAgICAgICAgcmVzb2x2ZShlLnRhcmdldC5yZXN1bHQpOwogICAgICB9OwogICAgICByZWFkZXIucmVhZEFzQXJyYXlCdWZmZXIoZmlsZSk7CiAgICB9KTsKICAgIC8vIFdhaXQgZm9yIHRoZSBkYXRhIHRvIGJlIHJlYWR5LgogICAgbGV0IGZpbGVEYXRhID0geWllbGQgewogICAgICBwcm9taXNlOiBmaWxlRGF0YVByb21pc2UsCiAgICAgIHJlc3BvbnNlOiB7CiAgICAgICAgYWN0aW9uOiAnY29udGludWUnLAogICAgICB9CiAgICB9OwoKICAgIC8vIFVzZSBhIGNodW5rZWQgc2VuZGluZyB0byBhdm9pZCBtZXNzYWdlIHNpemUgbGltaXRzLiBTZWUgYi82MjExNTY2MC4KICAgIGxldCBwb3NpdGlvbiA9IDA7CiAgICB3aGlsZSAocG9zaXRpb24gPCBmaWxlRGF0YS5ieXRlTGVuZ3RoKSB7CiAgICAgIGNvbnN0IGxlbmd0aCA9IE1hdGgubWluKGZpbGVEYXRhLmJ5dGVMZW5ndGggLSBwb3NpdGlvbiwgTUFYX1BBWUxPQURfU0laRSk7CiAgICAgIGNvbnN0IGNodW5rID0gbmV3IFVpbnQ4QXJyYXkoZmlsZURhdGEsIHBvc2l0aW9uLCBsZW5ndGgpOwogICAgICBwb3NpdGlvbiArPSBsZW5ndGg7CgogICAgICBjb25zdCBiYXNlNjQgPSBidG9hKFN0cmluZy5mcm9tQ2hhckNvZGUuYXBwbHkobnVsbCwgY2h1bmspKTsKICAgICAgeWllbGQgewogICAgICAgIHJlc3BvbnNlOiB7CiAgICAgICAgICBhY3Rpb246ICdhcHBlbmQnLAogICAgICAgICAgZmlsZTogZmlsZS5uYW1lLAogICAgICAgICAgZGF0YTogYmFzZTY0LAogICAgICAgIH0sCiAgICAgIH07CiAgICAgIHBlcmNlbnQudGV4dENvbnRlbnQgPQogICAgICAgICAgYCR7TWF0aC5yb3VuZCgocG9zaXRpb24gLyBmaWxlRGF0YS5ieXRlTGVuZ3RoKSAqIDEwMCl9JSBkb25lYDsKICAgIH0KICB9CgogIC8vIEFsbCBkb25lLgogIHlpZWxkIHsKICAgIHJlc3BvbnNlOiB7CiAgICAgIGFjdGlvbjogJ2NvbXBsZXRlJywKICAgIH0KICB9Owp9CgpzY29wZS5nb29nbGUgPSBzY29wZS5nb29nbGUgfHwge307CnNjb3BlLmdvb2dsZS5jb2xhYiA9IHNjb3BlLmdvb2dsZS5jb2xhYiB8fCB7fTsKc2NvcGUuZ29vZ2xlLmNvbGFiLl9maWxlcyA9IHsKICBfdXBsb2FkRmlsZXMsCiAgX3VwbG9hZEZpbGVzQ29udGludWUsCn07Cn0pKHNlbGYpOwo=",
              "ok": true,
              "headers": [
                [
                  "content-type",
                  "application/javascript"
                ]
              ],
              "status": 200,
              "status_text": ""
            }
          },
          "base_uri": "https://localhost:8080/",
          "height": 88
        },
        "outputId": "2007470b-d73a-45a3-a018-ad4b82399764"
      },
      "cell_type": "code",
      "source": [
        "from google.colab import files\n",
        "files.upload()"
      ],
      "execution_count": 38,
      "outputs": [
        {
          "output_type": "display_data",
          "data": {
            "text/html": [
              "\n",
              "     <input type=\"file\" id=\"files-04e659c0-0d07-4fc5-85c5-30dd44c7e9ea\" name=\"files[]\" multiple disabled />\n",
              "     <output id=\"result-04e659c0-0d07-4fc5-85c5-30dd44c7e9ea\">\n",
              "      Upload widget is only available when the cell has been executed in the\n",
              "      current browser session. Please rerun this cell to enable.\n",
              "      </output>\n",
              "      <script src=\"/nbextensions/google.colab/files.js\"></script> "
            ],
            "text/plain": [
              "<IPython.core.display.HTML object>"
            ]
          },
          "metadata": {
            "tags": []
          }
        },
        {
          "output_type": "stream",
          "text": [
            "Saving kaggle.json to kaggle.json\n"
          ],
          "name": "stdout"
        },
        {
          "output_type": "execute_result",
          "data": {
            "text/plain": [
              "{'kaggle.json': b'{\"username\":\"komiyamori\",\"key\":\"16698cec31023729ba7b752086e18db3\"}'}"
            ]
          },
          "metadata": {
            "tags": []
          },
          "execution_count": 38
        }
      ]
    },
    {
      "metadata": {
        "id": "fYyN1zIreWSv",
        "colab_type": "code",
        "colab": {}
      },
      "cell_type": "code",
      "source": [
        "!mkdir -p ~/.kaggle\n",
        "!cp kaggle.json ~/.kaggle/"
      ],
      "execution_count": 0,
      "outputs": []
    },
    {
      "metadata": {
        "id": "m-ju_Dz8h3Kk",
        "colab_type": "code",
        "colab": {
          "base_uri": "https://localhost:8080/",
          "height": 34
        },
        "outputId": "6ed5db59-d31f-4a07-ac67-4f9e677f8ea1"
      },
      "cell_type": "code",
      "source": [
        "with open('kaggle.json') as f:\n",
        "    print(f.read())"
      ],
      "execution_count": 45,
      "outputs": [
        {
          "output_type": "stream",
          "text": [
            "{\"username\":\"komiyamori\",\"key\":\"16698cec31023729ba7b752086e18db3\"}\n"
          ],
          "name": "stdout"
        }
      ]
    },
    {
      "metadata": {
        "id": "xm7k0KOSixpC",
        "colab_type": "code",
        "colab": {
          "base_uri": "https://localhost:8080/",
          "height": 204
        },
        "outputId": "6687e221-38de-47bc-dc30-433223903ce6"
      },
      "cell_type": "code",
      "source": [
        "!pip install kaggle"
      ],
      "execution_count": 46,
      "outputs": [
        {
          "output_type": "stream",
          "text": [
            "Requirement already satisfied: kaggle in /usr/local/lib/python3.6/dist-packages (1.5.3)\n",
            "Requirement already satisfied: urllib3<1.25,>=1.21.1 in /usr/local/lib/python3.6/dist-packages (from kaggle) (1.22)\n",
            "Requirement already satisfied: six>=1.10 in /usr/local/lib/python3.6/dist-packages (from kaggle) (1.11.0)\n",
            "Requirement already satisfied: certifi in /usr/local/lib/python3.6/dist-packages (from kaggle) (2019.3.9)\n",
            "Requirement already satisfied: python-dateutil in /usr/local/lib/python3.6/dist-packages (from kaggle) (2.5.3)\n",
            "Requirement already satisfied: requests in /usr/local/lib/python3.6/dist-packages (from kaggle) (2.18.4)\n",
            "Requirement already satisfied: tqdm in /usr/local/lib/python3.6/dist-packages (from kaggle) (4.28.1)\n",
            "Requirement already satisfied: python-slugify in /usr/local/lib/python3.6/dist-packages (from kaggle) (3.0.0)\n",
            "Requirement already satisfied: chardet<3.1.0,>=3.0.2 in /usr/local/lib/python3.6/dist-packages (from requests->kaggle) (3.0.4)\n",
            "Requirement already satisfied: idna<2.7,>=2.5 in /usr/local/lib/python3.6/dist-packages (from requests->kaggle) (2.6)\n",
            "Requirement already satisfied: text-unidecode==1.2 in /usr/local/lib/python3.6/dist-packages (from python-slugify->kaggle) (1.2)\n"
          ],
          "name": "stdout"
        }
      ]
    },
    {
      "metadata": {
        "id": "eSA8g07Ci95W",
        "colab_type": "code",
        "colab": {}
      },
      "cell_type": "code",
      "source": [
        "!chmod 600 /root/.kaggle/kaggle.json"
      ],
      "execution_count": 0,
      "outputs": []
    },
    {
      "metadata": {
        "id": "88n6v89NjCsj",
        "colab_type": "code",
        "colab": {
          "base_uri": "https://localhost:8080/",
          "height": 272
        },
        "outputId": "20952f8b-e3cb-4ba4-e026-6bab271ff627"
      },
      "cell_type": "code",
      "source": [
        "#実行する前にカグルのダウンロードオールとか押して認証をおkしておく\n",
        "!kaggle competitions download -c tgs-salt-identification-challenge"
      ],
      "execution_count": 55,
      "outputs": [
        {
          "output_type": "stream",
          "text": [
            "Downloading depths.csv to /content\n",
            "\r  0% 0.00/322k [00:00<?, ?B/s]\n",
            "100% 322k/322k [00:00<00:00, 42.3MB/s]\n",
            "Downloading sample_submission.csv to /content\n",
            "  0% 0.00/264k [00:00<?, ?B/s]\n",
            "100% 264k/264k [00:00<00:00, 85.0MB/s]\n",
            "Downloading train.csv to /content\n",
            "  0% 0.00/922k [00:00<?, ?B/s]\n",
            "100% 922k/922k [00:00<00:00, 59.9MB/s]\n",
            "Downloading test.zip to /content\n",
            " 99% 162M/163M [00:02<00:00, 84.4MB/s]\n",
            "100% 163M/163M [00:02<00:00, 73.3MB/s]\n",
            "Downloading train.zip to /content\n",
            " 90% 34.0M/37.9M [00:00<00:00, 52.2MB/s]\n",
            "100% 37.9M/37.9M [00:00<00:00, 95.7MB/s]\n"
          ],
          "name": "stdout"
        }
      ]
    },
    {
      "metadata": {
        "id": "0SEVjhFsjx4U",
        "colab_type": "code",
        "colab": {}
      },
      "cell_type": "code",
      "source": [
        "#解凍\n",
        "!unzip test.zip -d test\n",
        "!unzip train.zip -d train"
      ],
      "execution_count": 0,
      "outputs": []
    },
    {
      "metadata": {
        "id": "0CK4dr2zj0_z",
        "colab_type": "code",
        "colab": {}
      },
      "cell_type": "code",
      "source": [
        "path = \"test/images\""
      ],
      "execution_count": 0,
      "outputs": []
    },
    {
      "metadata": {
        "id": "dfgIVxQ7m_dp",
        "colab_type": "code",
        "colab": {
          "base_uri": "https://localhost:8080/",
          "height": 34
        },
        "outputId": "1a267a04-1558-4c6f-8ea2-1632b99304a3"
      },
      "cell_type": "code",
      "source": [
        "len(os.listdir(path))"
      ],
      "execution_count": 91,
      "outputs": [
        {
          "output_type": "execute_result",
          "data": {
            "text/plain": [
              "18000"
            ]
          },
          "metadata": {
            "tags": []
          },
          "execution_count": 91
        }
      ]
    },
    {
      "metadata": {
        "id": "X7PUnfCjnH6Y",
        "colab_type": "code",
        "colab": {}
      },
      "cell_type": "code",
      "source": [
        "!mv train unet/data_sio"
      ],
      "execution_count": 0,
      "outputs": []
    },
    {
      "metadata": {
        "id": "t0Aex1EfpRQ1",
        "colab_type": "code",
        "colab": {}
      },
      "cell_type": "code",
      "source": [
        "from unet.model import *\n",
        "from unet.data import *\n",
        "\n",
        "#os.environ[\"CUDA_VISIBLE_DEVICES\"] = \"0\"\n",
        "\n",
        "\n",
        "data_gen_args = dict(rotation_range=0.2,\n",
        "                    width_shift_range=0.05,\n",
        "                    height_shift_range=0.05,\n",
        "                    shear_range=0.05,\n",
        "                    zoom_range=0.05,\n",
        "                    horizontal_flip=True,\n",
        "                    fill_mode='nearest')\n",
        "myGene = trainGenerator(2,'unet/data_sio','images','masks',data_gen_args,save_to_dir = None)\n",
        "\n",
        "model = unet()\n",
        "model_checkpoint = ModelCheckpoint('unet/siomodel.hdf5', monitor='loss',verbose=1, save_best_only=True)\n",
        "model.fit_generator(myGene,steps_per_epoch=300,epochs=1,callbacks=[model_checkpoint])\n",
        "\n",
        "#testGene = testGenerator(\"unet/data/membrane/test\")\n",
        "#results = model.predict_generator(testGene,30,verbose=1)\n",
        "#saveResult(\"data/membrane/test\",results)"
      ],
      "execution_count": 0,
      "outputs": []
    },
    {
      "metadata": {
        "id": "RGNuI4DnzEQh",
        "colab_type": "code",
        "colab": {
          "base_uri": "https://localhost:8080/",
          "height": 102
        },
        "outputId": "d385853f-1c81-4bd9-895d-0429a290dfec"
      },
      "cell_type": "code",
      "source": [
        "model_checkpoint = ModelCheckpoint('unet/siomodel.hdf5', monitor='loss',verbose=1, save_best_only=True)\n",
        "model.fit_generator(myGene,steps_per_epoch=300,epochs=1,callbacks=[model_checkpoint])"
      ],
      "execution_count": 94,
      "outputs": [
        {
          "output_type": "stream",
          "text": [
            "Epoch 1/1\n",
            "300/300 [==============================] - 135s 449ms/step - loss: 0.5797 - acc: 0.7450\n",
            "\n",
            "Epoch 00001: loss improved from inf to 0.57966, saving model to unet/siomodel.hdf5\n"
          ],
          "name": "stdout"
        },
        {
          "output_type": "execute_result",
          "data": {
            "text/plain": [
              "<keras.callbacks.History at 0x7fc19aeae080>"
            ]
          },
          "metadata": {
            "tags": []
          },
          "execution_count": 94
        }
      ]
    },
    {
      "metadata": {
        "id": "h0AWfhWupjya",
        "colab_type": "code",
        "colab": {
          "base_uri": "https://localhost:8080/",
          "height": 3434
        },
        "outputId": "73eba50d-bdac-4cc7-c342-8af2c988c66d"
      },
      "cell_type": "code",
      "source": [
        "model.fit_generator(myGene,steps_per_epoch=300,epochs=50,callbacks=[model_checkpoint])"
      ],
      "execution_count": 96,
      "outputs": [
        {
          "output_type": "stream",
          "text": [
            "Epoch 1/50\n",
            "300/300 [==============================] - 134s 447ms/step - loss: 0.2958 - acc: 0.9112\n",
            "\n",
            "Epoch 00001: loss did not improve from 0.27344\n",
            "Epoch 2/50\n",
            "300/300 [==============================] - 134s 447ms/step - loss: 0.2674 - acc: 0.9231\n",
            "\n",
            "Epoch 00002: loss improved from 0.27344 to 0.26736, saving model to unet/siomodel.hdf5\n",
            "Epoch 3/50\n",
            "300/300 [==============================] - 134s 447ms/step - loss: 0.2700 - acc: 0.9153\n",
            "\n",
            "Epoch 00003: loss did not improve from 0.26736\n",
            "Epoch 4/50\n",
            "300/300 [==============================] - 134s 448ms/step - loss: 0.2563 - acc: 0.9230\n",
            "\n",
            "Epoch 00004: loss improved from 0.26736 to 0.25628, saving model to unet/siomodel.hdf5\n",
            "Epoch 5/50\n",
            "300/300 [==============================] - 134s 448ms/step - loss: 0.3177 - acc: 0.9022\n",
            "\n",
            "Epoch 00005: loss did not improve from 0.25628\n",
            "Epoch 6/50\n",
            "300/300 [==============================] - 135s 448ms/step - loss: 0.2747 - acc: 0.9148\n",
            "\n",
            "Epoch 00006: loss did not improve from 0.25628\n",
            "Epoch 7/50\n",
            "300/300 [==============================] - 135s 449ms/step - loss: 0.3077 - acc: 0.9003\n",
            "\n",
            "Epoch 00007: loss did not improve from 0.25628\n",
            "Epoch 8/50\n",
            "300/300 [==============================] - 134s 447ms/step - loss: 0.2666 - acc: 0.9217\n",
            "\n",
            "Epoch 00008: loss did not improve from 0.25628\n",
            "Epoch 9/50\n",
            "300/300 [==============================] - 135s 450ms/step - loss: 0.2733 - acc: 0.9219\n",
            "\n",
            "Epoch 00009: loss did not improve from 0.25628\n",
            "Epoch 10/50\n",
            "300/300 [==============================] - 134s 447ms/step - loss: 0.2948 - acc: 0.9020\n",
            "\n",
            "Epoch 00010: loss did not improve from 0.25628\n",
            "Epoch 11/50\n",
            "300/300 [==============================] - 134s 447ms/step - loss: 0.2479 - acc: 0.9288\n",
            "\n",
            "Epoch 00011: loss improved from 0.25628 to 0.24791, saving model to unet/siomodel.hdf5\n",
            "Epoch 12/50\n",
            "300/300 [==============================] - 134s 447ms/step - loss: 0.2896 - acc: 0.8999\n",
            "\n",
            "Epoch 00012: loss did not improve from 0.24791\n",
            "Epoch 13/50\n",
            "300/300 [==============================] - 134s 446ms/step - loss: 0.2609 - acc: 0.9179\n",
            "\n",
            "Epoch 00013: loss did not improve from 0.24791\n",
            "Epoch 14/50\n",
            "300/300 [==============================] - 134s 448ms/step - loss: 0.2554 - acc: 0.9292\n",
            "\n",
            "Epoch 00014: loss did not improve from 0.24791\n",
            "Epoch 15/50\n",
            "300/300 [==============================] - 134s 446ms/step - loss: 0.2627 - acc: 0.9187\n",
            "\n",
            "Epoch 00015: loss did not improve from 0.24791\n",
            "Epoch 16/50\n",
            "300/300 [==============================] - 134s 448ms/step - loss: 0.2607 - acc: 0.9141\n",
            "\n",
            "Epoch 00016: loss did not improve from 0.24791\n",
            "Epoch 17/50\n",
            "300/300 [==============================] - 134s 447ms/step - loss: 0.2732 - acc: 0.9124\n",
            "\n",
            "Epoch 00017: loss did not improve from 0.24791\n",
            "Epoch 18/50\n",
            "300/300 [==============================] - 135s 448ms/step - loss: 0.2682 - acc: 0.9187\n",
            "\n",
            "Epoch 00018: loss did not improve from 0.24791\n",
            "Epoch 19/50\n",
            "300/300 [==============================] - 134s 448ms/step - loss: 0.2641 - acc: 0.9161\n",
            "\n",
            "Epoch 00019: loss did not improve from 0.24791\n",
            "Epoch 20/50\n",
            "300/300 [==============================] - 134s 447ms/step - loss: 0.2539 - acc: 0.9258\n",
            "\n",
            "Epoch 00020: loss did not improve from 0.24791\n",
            "Epoch 21/50\n",
            "300/300 [==============================] - 134s 448ms/step - loss: 0.2546 - acc: 0.9153\n",
            "\n",
            "Epoch 00021: loss did not improve from 0.24791\n",
            "Epoch 22/50\n",
            "300/300 [==============================] - 134s 448ms/step - loss: 0.2460 - acc: 0.9113\n",
            "\n",
            "Epoch 00022: loss improved from 0.24791 to 0.24603, saving model to unet/siomodel.hdf5\n",
            "Epoch 23/50\n",
            "300/300 [==============================] - 134s 448ms/step - loss: 0.2181 - acc: 0.9135\n",
            "\n",
            "Epoch 00023: loss improved from 0.24603 to 0.21812, saving model to unet/siomodel.hdf5\n",
            "Epoch 24/50\n",
            "300/300 [==============================] - 134s 447ms/step - loss: 0.2138 - acc: 0.9168\n",
            "\n",
            "Epoch 00024: loss improved from 0.21812 to 0.21376, saving model to unet/siomodel.hdf5\n",
            "Epoch 25/50\n",
            "300/300 [==============================] - 134s 448ms/step - loss: 0.2165 - acc: 0.9227\n",
            "\n",
            "Epoch 00025: loss did not improve from 0.21376\n",
            "Epoch 26/50\n",
            "300/300 [==============================] - 134s 446ms/step - loss: 0.2148 - acc: 0.9193\n",
            "\n",
            "Epoch 00026: loss did not improve from 0.21376\n",
            "Epoch 27/50\n",
            "300/300 [==============================] - 135s 448ms/step - loss: 0.2181 - acc: 0.9201\n",
            "\n",
            "Epoch 00027: loss did not improve from 0.21376\n",
            "Epoch 28/50\n",
            "300/300 [==============================] - 134s 448ms/step - loss: 0.2025 - acc: 0.9291\n",
            "\n",
            "Epoch 00028: loss improved from 0.21376 to 0.20254, saving model to unet/siomodel.hdf5\n",
            "Epoch 29/50\n",
            "300/300 [==============================] - 135s 449ms/step - loss: 0.1871 - acc: 0.9252\n",
            "\n",
            "Epoch 00029: loss improved from 0.20254 to 0.18710, saving model to unet/siomodel.hdf5\n",
            "Epoch 30/50\n",
            "300/300 [==============================] - 134s 448ms/step - loss: 0.2083 - acc: 0.9232\n",
            "\n",
            "Epoch 00030: loss did not improve from 0.18710\n",
            "Epoch 31/50\n",
            "300/300 [==============================] - 135s 449ms/step - loss: 0.1967 - acc: 0.9272\n",
            "\n",
            "Epoch 00031: loss did not improve from 0.18710\n",
            "Epoch 32/50\n",
            "300/300 [==============================] - 135s 448ms/step - loss: 0.1922 - acc: 0.9252\n",
            "\n",
            "Epoch 00032: loss did not improve from 0.18710\n",
            "Epoch 33/50\n",
            "300/300 [==============================] - 134s 448ms/step - loss: 0.1468 - acc: 0.9476\n",
            "\n",
            "Epoch 00033: loss improved from 0.18710 to 0.14682, saving model to unet/siomodel.hdf5\n",
            "Epoch 34/50\n",
            "300/300 [==============================] - 135s 449ms/step - loss: 0.2479 - acc: 0.9189\n",
            "\n",
            "Epoch 00034: loss did not improve from 0.14682\n",
            "Epoch 35/50\n",
            "300/300 [==============================] - 134s 448ms/step - loss: 0.1912 - acc: 0.9296\n",
            "\n",
            "Epoch 00035: loss did not improve from 0.14682\n",
            "Epoch 36/50\n",
            "300/300 [==============================] - 135s 449ms/step - loss: 0.2156 - acc: 0.9161\n",
            "\n",
            "Epoch 00036: loss did not improve from 0.14682\n",
            "Epoch 37/50\n",
            "300/300 [==============================] - 134s 448ms/step - loss: 0.1765 - acc: 0.9318\n",
            "\n",
            "Epoch 00037: loss did not improve from 0.14682\n",
            "Epoch 38/50\n",
            "300/300 [==============================] - 135s 449ms/step - loss: 0.1831 - acc: 0.9294\n",
            "\n",
            "Epoch 00038: loss did not improve from 0.14682\n",
            "Epoch 39/50\n",
            "300/300 [==============================] - 135s 450ms/step - loss: 0.1663 - acc: 0.9400\n",
            "\n",
            "Epoch 00039: loss did not improve from 0.14682\n",
            "Epoch 40/50\n",
            "300/300 [==============================] - 134s 447ms/step - loss: 0.1863 - acc: 0.9345\n",
            "\n",
            "Epoch 00040: loss did not improve from 0.14682\n",
            "Epoch 41/50\n",
            "300/300 [==============================] - 134s 447ms/step - loss: 0.1654 - acc: 0.9469\n",
            "\n",
            "Epoch 00041: loss did not improve from 0.14682\n",
            "Epoch 42/50\n",
            "300/300 [==============================] - 134s 446ms/step - loss: 0.2097 - acc: 0.9185\n",
            "\n",
            "Epoch 00042: loss did not improve from 0.14682\n",
            "Epoch 43/50\n",
            "300/300 [==============================] - 134s 448ms/step - loss: 0.1894 - acc: 0.9320\n",
            "\n",
            "Epoch 00043: loss did not improve from 0.14682\n",
            "Epoch 44/50\n",
            "300/300 [==============================] - 134s 448ms/step - loss: 0.1701 - acc: 0.9395\n",
            "\n",
            "Epoch 00044: loss did not improve from 0.14682\n",
            "Epoch 45/50\n",
            "300/300 [==============================] - 135s 448ms/step - loss: 0.1653 - acc: 0.9365\n",
            "\n",
            "Epoch 00045: loss did not improve from 0.14682\n",
            "Epoch 46/50\n",
            "300/300 [==============================] - 135s 449ms/step - loss: 0.1833 - acc: 0.9332\n",
            "\n",
            "Epoch 00046: loss did not improve from 0.14682\n",
            "Epoch 47/50\n",
            "300/300 [==============================] - 134s 448ms/step - loss: 0.2045 - acc: 0.9198\n",
            "\n",
            "Epoch 00047: loss did not improve from 0.14682\n",
            "Epoch 48/50\n",
            "300/300 [==============================] - 135s 450ms/step - loss: 0.1784 - acc: 0.9302\n",
            "\n",
            "Epoch 00048: loss did not improve from 0.14682\n",
            "Epoch 49/50\n",
            "300/300 [==============================] - 134s 448ms/step - loss: 0.1818 - acc: 0.9371\n",
            "\n",
            "Epoch 00049: loss did not improve from 0.14682\n",
            "Epoch 50/50\n",
            "300/300 [==============================] - 135s 448ms/step - loss: 0.1877 - acc: 0.9289\n",
            "\n",
            "Epoch 00050: loss did not improve from 0.14682\n"
          ],
          "name": "stdout"
        },
        {
          "output_type": "execute_result",
          "data": {
            "text/plain": [
              "<keras.callbacks.History at 0x7fc1984eef28>"
            ]
          },
          "metadata": {
            "tags": []
          },
          "execution_count": 96
        }
      ]
    },
    {
      "metadata": {
        "id": "y9oNN1Ci4Iet",
        "colab_type": "code",
        "colab": {}
      },
      "cell_type": "code",
      "source": [
        "#重みをドライブへコピー\n",
        "!cp \"/content/unet/siomodel.hdf5\" \"/content/gdrive/My Drive/Colab Notebooks/\""
      ],
      "execution_count": 0,
      "outputs": []
    },
    {
      "metadata": {
        "id": "YpsoRIinwPmZ",
        "colab_type": "code",
        "colab": {}
      },
      "cell_type": "code",
      "source": [
        "from keras.preprocessing import image\n",
        "from keras.preprocessing.image import load_img, save_img, img_to_array, array_to_img"
      ],
      "execution_count": 0,
      "outputs": []
    },
    {
      "metadata": {
        "id": "UN8EBVmE3ixr",
        "colab_type": "text"
      },
      "cell_type": "markdown",
      "source": [
        "計１００エポック回しました。結果を出力してみる"
      ]
    },
    {
      "metadata": {
        "id": "xFYeccuiwkLX",
        "colab_type": "code",
        "colab": {
          "base_uri": "https://localhost:8080/",
          "height": 327
        },
        "outputId": "2bcae8cc-c7d3-4c9f-cbe1-5ff9a6e8e794"
      },
      "cell_type": "code",
      "source": [
        "#トレーニングデータ\n",
        "path = \"/content/unet/data_sio/images/0061281eea.png\"\n",
        "image.load_img(path, grayscale=True, color_mode='rgb', target_size=(256,256))"
      ],
      "execution_count": 124,
      "outputs": [
        {
          "output_type": "stream",
          "text": [
            "/usr/local/lib/python3.6/dist-packages/keras_preprocessing/image/utils.py:98: UserWarning: grayscale is deprecated. Please use color_mode = \"grayscale\"\n",
            "  warnings.warn('grayscale is deprecated. Please use '\n"
          ],
          "name": "stderr"
        },
        {
          "output_type": "execute_result",
          "data": {
            "image/png": "[encoded data removed]",
            "text/plain": [
              "<PIL.Image.Image image mode=L size=256x256 at 0x7FC19A5E72E8>"
            ]
          },
          "metadata": {
            "tags": []
          },
          "execution_count": 124
        }
      ]
    },
    {
      "metadata": {
        "id": "68cshlTaxeew",
        "colab_type": "code",
        "colab": {
          "base_uri": "https://localhost:8080/",
          "height": 71
        },
        "outputId": "f0168d8e-1d96-4b0f-d471-bbc2f3e89db5"
      },
      "cell_type": "code",
      "source": [
        "ima =load_img(path, grayscale=True, color_mode='rgb', target_size=(256,256))\n",
        "array = image.img_to_array(ima)"
      ],
      "execution_count": 125,
      "outputs": [
        {
          "output_type": "stream",
          "text": [
            "/usr/local/lib/python3.6/dist-packages/keras_preprocessing/image/utils.py:98: UserWarning: grayscale is deprecated. Please use color_mode = \"grayscale\"\n",
            "  warnings.warn('grayscale is deprecated. Please use '\n"
          ],
          "name": "stderr"
        }
      ]
    },
    {
      "metadata": {
        "id": "0lBlrWGayH-b",
        "colab_type": "code",
        "colab": {}
      },
      "cell_type": "code",
      "source": [
        "array = array[np.newaxis,:] / 255."
      ],
      "execution_count": 0,
      "outputs": []
    },
    {
      "metadata": {
        "id": "wQ8TXvseS0vm",
        "colab_type": "code",
        "colab": {
          "base_uri": "https://localhost:8080/",
          "height": 71
        },
        "outputId": "601cb0bc-5b4f-4f9a-847c-c4a3c8224c17"
      },
      "cell_type": "code",
      "source": [
        "results = model.predict(array)\n",
        "saveResult(\"unet/data_sio\",results)"
      ],
      "execution_count": 127,
      "outputs": [
        {
          "output_type": "stream",
          "text": [
            "/usr/local/lib/python3.6/dist-packages/skimage/util/dtype.py:122: UserWarning: Possible precision loss when converting from float32 to uint16\n",
            "  .format(dtypeobj_in, dtypeobj_out))\n"
          ],
          "name": "stderr"
        }
      ]
    },
    {
      "metadata": {
        "id": "hcfp0UEkw1NE",
        "colab_type": "code",
        "colab": {
          "base_uri": "https://localhost:8080/",
          "height": 327
        },
        "outputId": "297de5b8-0c9a-4ece-e0db-50504d06fe19"
      },
      "cell_type": "code",
      "source": [
        "#predictしたデータ\n",
        "path2 = \"/content/unet/data_sio/0_predict.png\"\n",
        "image.load_img(path2, grayscale=True, color_mode='rgb', target_size=(256,256))"
      ],
      "execution_count": 128,
      "outputs": [
        {
          "output_type": "stream",
          "text": [
            "/usr/local/lib/python3.6/dist-packages/keras_preprocessing/image/utils.py:98: UserWarning: grayscale is deprecated. Please use color_mode = \"grayscale\"\n",
            "  warnings.warn('grayscale is deprecated. Please use '\n"
          ],
          "name": "stderr"
        },
        {
          "output_type": "execute_result",
          "data": {
            "image/png": "[encoded data removed]",
            "text/plain": [
              "<PIL.Image.Image image mode=L size=256x256 at 0x7FC1984F27B8>"
            ]
          },
          "metadata": {
            "tags": []
          },
          "execution_count": 128
        }
      ]
    },
    {
      "metadata": {
        "id": "zt82IdQuyrI_",
        "colab_type": "code",
        "colab": {
          "base_uri": "https://localhost:8080/",
          "height": 327
        },
        "outputId": "7a430c8d-ab14-432e-a409-5251f26b0640"
      },
      "cell_type": "code",
      "source": [
        "#正解データ\n",
        "path3 = \"/content/unet/data_sio/masks/0061281eea.png\"\n",
        "image.load_img(path3, grayscale=True, color_mode='rgb', target_size=(256,256))"
      ],
      "execution_count": 123,
      "outputs": [
        {
          "output_type": "stream",
          "text": [
            "/usr/local/lib/python3.6/dist-packages/keras_preprocessing/image/utils.py:98: UserWarning: grayscale is deprecated. Please use color_mode = \"grayscale\"\n",
            "  warnings.warn('grayscale is deprecated. Please use '\n"
          ],
          "name": "stderr"
        },
        {
          "output_type": "execute_result",
          "data": {
            "image/png": "[encoded data removed]",
            "text/plain": [
              "<PIL.Image.Image image mode=L size=256x256 at 0x7FC19A5E5208>"
            ]
          },
          "metadata": {
            "tags": []
          },
          "execution_count": 123
        }
      ]
    },
    {
      "metadata": {
        "id": "uOErUvy07m_5",
        "colab_type": "text"
      },
      "cell_type": "markdown",
      "source": [
        "## 【問題2】コードリーディング"
      ]
    },
    {
      "metadata": {
        "id": "LMcpFxEk1TZs",
        "colab_type": "code",
        "colab": {}
      },
      "cell_type": "code",
      "source": [
        "#model.pyより\n",
        "\"\"\"\n",
        "チャンネル方向にコンカットしている。\n",
        "merge6 = concatenate([drop4,up6], axis = 3)\n",
        "\n",
        "出力層はsigmoidをしようしている。２値分類なので当たり前\n",
        "conv10 = Conv2D(1, 1, activation = 'sigmoid')(conv9)\n",
        "\n",
        "adam, バイナリークロスエントロピー\n",
        "model.compile(optimizer = Adam(lr = 1e-4), loss = 'binary_crossentropy', metrics = ['accuracy'])\n",
        "\n",
        "デコーダーではアップランプリング、コンカット、コンボリューションを繰り返していく\n",
        "\"\"\""
      ],
      "execution_count": 0,
      "outputs": []
    },
    {
      "metadata": {
        "id": "HfO6bkxTZZoK",
        "colab_type": "code",
        "colab": {}
      },
      "cell_type": "code",
      "source": [
        ""
      ],
      "execution_count": 0,
      "outputs": []
    }
  ]
}